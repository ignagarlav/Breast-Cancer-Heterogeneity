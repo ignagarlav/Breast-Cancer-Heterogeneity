{
 "cells": [
  {
   "cell_type": "code",
   "execution_count": 1,
   "id": "7ecd96cf-17a6-4396-9444-7682393fd9ca",
   "metadata": {},
   "outputs": [
    {
     "name": "stdout",
     "output_type": "stream",
     "text": [
      "This notebook was last run with this kernel /home/igarzonalva/.conda/envs/scvi-env/bin/python\n"
     ]
    }
   ],
   "source": [
    "import sys\n",
    "print(f'This notebook was last run with this kernel {sys.executable}')"
   ]
  },
  {
   "cell_type": "markdown",
   "id": "35eea585-8c9d-4871-a4bd-5cbb1ca025ed",
   "metadata": {},
   "source": [
    "# BEFORE TRANSFERING"
   ]
  },
  {
   "cell_type": "markdown",
   "id": "034d5860-8890-4384-9af3-748914853e7e",
   "metadata": {},
   "source": [
    "## Environment setup"
   ]
  },
  {
   "cell_type": "code",
   "execution_count": 2,
   "id": "c557349d-98bc-46e8-bde4-78d92ffec3cd",
   "metadata": {},
   "outputs": [],
   "source": [
    "import scanpy as sc \n",
    "import pandas as pd\n",
    "import pybiomart as pbm\n",
    "import os "
   ]
  },
  {
   "cell_type": "markdown",
   "id": "55adca03-055a-4c52-98dc-76a1b94bf664",
   "metadata": {},
   "source": [
    "## Helper Functions "
   ]
  },
  {
   "cell_type": "code",
   "execution_count": 3,
   "id": "479fcc08-2d9d-4485-8dc3-b11fec100f94",
   "metadata": {},
   "outputs": [],
   "source": [
    "ensembl_version_dict = {'105': 'http://www.ensembl.org',\n",
    "\n",
    "                        '104': 'http://may2021.archive.ensembl.org/',\n",
    "\n",
    "                        '103': 'http://feb2021.archive.ensembl.org/',\n",
    "\n",
    "                        '102': 'http://nov2020.archive.ensembl.org/',\n",
    "\n",
    "                        '101': 'http://aug2020.archive.ensembl.org/',\n",
    "\n",
    "                        '100': 'http://apr2020.archive.ensembl.org/',\n",
    "\n",
    "                        '99': 'http://jan2020.archive.ensembl.org/',\n",
    "\n",
    "                        '98': 'http://sep2019.archive.ensembl.org/',\n",
    "\n",
    "                        '97': 'http://jul2019.archive.ensembl.org/',\n",
    "\n",
    "                        '96': 'http://apr2019.archive.ensembl.org/',\n",
    "\n",
    "                        '95': 'http://jan2019.archive.ensembl.org/',\n",
    "\n",
    "                        '94': 'http://oct2018.archive.ensembl.org/',\n",
    "\n",
    "                        '93': 'http://jul2018.archive.ensembl.org/',\n",
    "\n",
    "                        '92': 'http://apr2018.archive.ensembl.org/',\n",
    "\n",
    "                        '91': 'http://dec2017.archive.ensembl.org/',\n",
    "\n",
    "                        '90': 'http://aug2017.archive.ensembl.org/',\n",
    "\n",
    "                        '89': 'http://may2017.archive.ensembl.org/',\n",
    "\n",
    "                        '88': 'http://mar2017.archive.ensembl.org/',\n",
    "\n",
    "                        '87': 'http://dec2016.archive.ensembl.org/',\n",
    "\n",
    "                        '86': 'http://oct2016.archive.ensembl.org/',\n",
    "\n",
    "                        '80': 'http://may2015.archive.ensembl.org/',\n",
    "\n",
    "                        '77': 'http://oct2014.archive.ensembl.org/',\n",
    "\n",
    "                        '75': 'http://feb2014.archive.ensembl.org/',\n",
    "\n",
    "                        '54': 'http://may2009.archive.ensembl.org/'}\n",
    "\n",
    "def test_ensembl_host(adata, host):\n",
    "\n",
    "    dataset = pbm.Dataset(name='hsapiens_gene_ensembl', host=host)\n",
    "    \n",
    "    qp = dataset.query(attributes=['ensembl_gene_id', 'external_gene_name'])\n",
    "    print(f'Nº of genes in db: {len(qp)}')\n",
    "    \n",
    "    df_var = pd.DataFrame(adata.var_names.values, columns=[\"Gene stable ID\"])\n",
    "    print(f'Nº of genes in dataset: {len(df_var)}')\n",
    "    \n",
    "    df_mapped = df_var.merge(qp, how=\"inner\", on=\"Gene stable ID\")\n",
    "    print(f'Nº of mapped genes to db: {len(df_mapped)}')\n",
    "    \n",
    "    df_valid = df_mapped[~df_mapped[\"Gene name\"].isna()]\n",
    "    ov = len(df_valid)\n",
    "    print(f'Nº of valid mapped genes to db: {ov}')\n",
    "    \n",
    "    return(ov)\n",
    "\n",
    "def map_genes(adata, host):\n",
    "\n",
    "    dataset = pbm.Dataset(name='hsapiens_gene_ensembl', host=host)\n",
    "    \n",
    "    qp = dataset.query(attributes=['ensembl_gene_id', 'external_gene_name'])\n",
    "    print(f'Nº of genes in db: {len(qp)}')\n",
    "    \n",
    "    df_var = pd.DataFrame(adata.var_names.values, columns=[\"Gene stable ID\"])\n",
    "    print(f'Nº of genes in dataset: {len(df_var)}')\n",
    "    \n",
    "    df_mapped = df_var.merge(qp, how=\"inner\", on=\"Gene stable ID\")\n",
    "    print(f'Nº of mapped genes to db: {len(df_mapped)}')\n",
    "    \n",
    "    df_valid = df_mapped[~df_mapped[\"Gene name\"].isna()]\n",
    "\n",
    "    \n",
    "    gene_order = df_valid[\"Gene stable ID\"].tolist()\n",
    "\n",
    "    adata = adata[:, gene_order].copy() \n",
    "\n",
    "    adata.var_names = df_valid['Gene name'].values\n",
    "    \n",
    "    return(adata)   "
   ]
  },
  {
   "cell_type": "code",
   "execution_count": 4,
   "id": "b49c4fe7-0d15-40b4-a3f7-2e8217dd969b",
   "metadata": {},
   "outputs": [],
   "source": [
    "REF_ADATA_DIR = \"/home/igarzonalva/Proyecto_SC_TNBC/GSE161529/LabelTransfer/adatas/Myeloid/common_resources\" \n",
    "TARGET_ADATA_DIR = '/home/igarzonalva/Proyecto_SC_TNBC/GSE161529/02_Integration/adata'\n",
    "SAVING_ADATA_DIR = '/home/igarzonalva/Proyecto_SC_TNBC/GSE161529/LabelTransfer/adatas/Myeloid'"
   ]
  },
  {
   "cell_type": "code",
   "execution_count": 5,
   "id": "b2509e47-a3a3-4292-a5cb-13eac9f91f33",
   "metadata": {},
   "outputs": [],
   "source": [
    "CONDITION_KEY = \"harm_study\"\n",
    "CELL_TYPE_KEY = \"author_cell_type\"\n",
    "UNLABELED_CATEGORY = \"unknown\"\n",
    "\n",
    "\n",
    "TARGET_ANNOTATION_COLUMN = \"IGA_PostScAnvi_GenAnno_colors\"\n",
    "TARGET_CELL_TYPES = ['Myeloid']"
   ]
  },
  {
   "cell_type": "markdown",
   "id": "7fe121e1-d11d-46cb-976d-a20139b74c4b",
   "metadata": {},
   "source": [
    "## Data Loading"
   ]
  },
  {
   "cell_type": "markdown",
   "id": "9ac242df-c0d6-4286-91e4-b2ead74a8bb1",
   "metadata": {},
   "source": [
    "### Reference "
   ]
  },
  {
   "cell_type": "code",
   "execution_count": 6,
   "id": "0af59324-d876-4bac-9aa4-04a2b0ce83f3",
   "metadata": {},
   "outputs": [],
   "source": [
    "ref_adata_fname = os.path.join(REF_ADATA_DIR, 'MyeloidAdata.h5ad')\n",
    "ref_adata = sc.read_h5ad(ref_adata_fname)\n",
    "ref_adata = ref_adata.raw.to_adata() "
   ]
  },
  {
   "cell_type": "markdown",
   "id": "02306d32-b162-40d2-962b-90b196f668b0",
   "metadata": {},
   "source": [
    "### Target"
   ]
  },
  {
   "cell_type": "code",
   "execution_count": 7,
   "id": "e0df8fc0-a5b8-4418-9ad3-30bb51d9024f",
   "metadata": {},
   "outputs": [
    {
     "data": {
      "text/plain": [
       "IGA_PostScAnvi_GenAnno_colors\n",
       "Myeloid    19409\n",
       "Name: count, dtype: int64"
      ]
     },
     "execution_count": 7,
     "metadata": {},
     "output_type": "execute_result"
    }
   ],
   "source": [
    "target_adata_fname = os.path.join(TARGET_ADATA_DIR, 'adata_scanvi_cuda_refinement.h5ad')\n",
    "target_adata = sc.read_h5ad(target_adata_fname)\n",
    "target_adata.X = target_adata.layers[\"counts\"].copy()\n",
    "target_adata = target_adata[target_adata.obs[TARGET_ANNOTATION_COLUMN].isin(TARGET_CELL_TYPES),:].copy()\n",
    "target_adata.obs[TARGET_ANNOTATION_COLUMN].value_counts()"
   ]
  },
  {
   "cell_type": "markdown",
   "id": "6cf51984-98ed-4d1f-a7a1-413bc7d869e3",
   "metadata": {},
   "source": [
    "### Reference Ensembl to Symbol"
   ]
  },
  {
   "cell_type": "code",
   "execution_count": 8,
   "id": "0b269c81-a38e-4659-b8ed-b8079ec8c31a",
   "metadata": {
    "scrolled": true
   },
   "outputs": [
    {
     "name": "stdout",
     "output_type": "stream",
     "text": [
      "host: 105\n",
      "Nº of genes in db: 86402\n",
      "Nº of genes in dataset: 45453\n",
      "Nº of mapped genes to db: 44653\n",
      "Nº of valid mapped genes to db: 35967\n",
      "host: 104\n",
      "Nº of genes in db: 67128\n",
      "Nº of genes in dataset: 45453\n",
      "Nº of mapped genes to db: 45453\n",
      "Nº of valid mapped genes to db: 35225\n",
      "host: 103\n",
      "Nº of genes in db: 67130\n",
      "Nº of genes in dataset: 45453\n",
      "Nº of mapped genes to db: 45453\n",
      "Nº of valid mapped genes to db: 45453\n",
      "host: 102\n",
      "Nº of genes in db: 67139\n",
      "Nº of genes in dataset: 45453\n",
      "Nº of mapped genes to db: 45451\n",
      "Nº of valid mapped genes to db: 45451\n",
      "host: 101\n",
      "Nº of genes in db: 67130\n",
      "Nº of genes in dataset: 45453\n",
      "Nº of mapped genes to db: 45451\n",
      "Nº of valid mapped genes to db: 45451\n",
      "host: 100\n",
      "Nº of genes in db: 67149\n",
      "Nº of genes in dataset: 45453\n",
      "Nº of mapped genes to db: 45451\n",
      "Nº of valid mapped genes to db: 45451\n",
      "host: 99\n",
      "Nº of genes in db: 67140\n",
      "Nº of genes in dataset: 45453\n",
      "Nº of mapped genes to db: 45448\n",
      "Nº of valid mapped genes to db: 45448\n",
      "host: 98\n",
      "Nº of genes in db: 67087\n",
      "Nº of genes in dataset: 45453\n",
      "Nº of mapped genes to db: 45447\n",
      "Nº of valid mapped genes to db: 45447\n",
      "host: 97\n",
      "Host not reachable\n",
      "host: 96\n",
      "Host not reachable\n",
      "host: 95\n",
      "Host not reachable\n",
      "host: 94\n",
      "Host not reachable\n",
      "host: 93\n",
      "Host not reachable\n",
      "host: 92\n",
      "Host not reachable\n",
      "host: 91\n",
      "Host not reachable\n",
      "host: 90\n",
      "Host not reachable\n",
      "host: 89\n",
      "Host not reachable\n",
      "host: 88\n",
      "Host not reachable\n",
      "host: 87\n",
      "Host not reachable\n",
      "host: 86\n",
      "Host not reachable\n",
      "host: 80\n",
      "Nº of genes in db: 65774\n",
      "Nº of genes in dataset: 45453\n",
      "Host not reachable\n",
      "host: 77\n",
      "Nº of genes in db: 64769\n",
      "Nº of genes in dataset: 45453\n",
      "Host not reachable\n",
      "host: 75\n",
      "Host not reachable\n",
      "host: 54\n",
      "Host not reachable\n",
      "version: 103 has the largest overlap, use http://feb2021.archive.ensembl.org/ as biomart host\n",
      "Nº of genes in db: 67130\n",
      "Nº of genes in dataset: 45453\n",
      "Nº of mapped genes to db: 45453\n"
     ]
    }
   ],
   "source": [
    "n_overlap = {}\n",
    "for version in ensembl_version_dict.keys():\n",
    "\n",
    "    print(f'host: {version}')\n",
    "\n",
    "    try:\n",
    "\n",
    "        n_overlap[version] =  test_ensembl_host(ref_adata, ensembl_version_dict[version])\n",
    "\n",
    "    except:\n",
    "\n",
    "        print('Host not reachable')\n",
    "v = sorted(n_overlap.items(), key=lambda item: item[1], reverse=True)[0][0]\n",
    "host_to_use = ensembl_version_dict[v]\n",
    "print(f\"version: {v} has the largest overlap, use {host_to_use} as biomart host\")\n",
    "\n",
    "# Use ensemble biomart to map genes in the reference dataset  \n",
    "ref_adata_renamed = map_genes(ref_adata, host_to_use)"
   ]
  },
  {
   "cell_type": "markdown",
   "id": "1eedcb89-25b8-491f-911a-a1037655b3e4",
   "metadata": {},
   "source": [
    "## Dataset harmonization"
   ]
  },
  {
   "cell_type": "code",
   "execution_count": 9,
   "id": "32e332b1-e555-4bee-8f48-dffdad52ab68",
   "metadata": {},
   "outputs": [
    {
     "name": "stderr",
     "output_type": "stream",
     "text": [
      "/home/igarzonalva/.conda/envs/scvi-env/lib/python3.12/site-packages/anndata/_core/anndata.py:1758: UserWarning: Variable names are not unique. To make them unique, call `.var_names_make_unique`.\n",
      "  utils.warn_names_duplicates(\"var\")\n"
     ]
    },
    {
     "name": "stdout",
     "output_type": "stream",
     "text": [
      "Number of genes in common after filtering finishes: 21537\n"
     ]
    },
    {
     "name": "stderr",
     "output_type": "stream",
     "text": [
      "/home/igarzonalva/.conda/envs/scvi-env/lib/python3.12/site-packages/anndata/_core/anndata.py:1758: UserWarning: Variable names are not unique. To make them unique, call `.var_names_make_unique`.\n",
      "  utils.warn_names_duplicates(\"var\")\n"
     ]
    }
   ],
   "source": [
    "common_genes = [gene for gene in ref_adata_renamed.var_names if gene in target_adata.var_names]\n",
    "\n",
    "ref_adata_renamed.var_names_make_unique()\n",
    "ref_adata_renamed = ref_adata_renamed[:,common_genes].copy()\n",
    "\n",
    "target_adata = target_adata[:,common_genes].copy()\n",
    "\n",
    "target_adata.var_names_make_unique()\n",
    "ref_adata_renamed.var_names_make_unique()\n",
    "\n",
    "\n",
    "all(ref_adata_renamed.var_names == target_adata.var_names)\n",
    "nmatch = len(set(target_adata.var_names).intersection(set(ref_adata_renamed.var_names)))\n",
    "print(f'Number of genes in common after filtering finishes: {nmatch}')"
   ]
  },
  {
   "cell_type": "code",
   "execution_count": 10,
   "id": "610cc25e-f1ee-4ea3-8287-3e361cc3457c",
   "metadata": {},
   "outputs": [
    {
     "data": {
      "text/plain": [
       "True"
      ]
     },
     "execution_count": 10,
     "metadata": {},
     "output_type": "execute_result"
    }
   ],
   "source": [
    "# Compute HVGs on raw data of reference dataset\n",
    "sc.pp.highly_variable_genes(ref_adata_renamed, flavor='seurat_v3', n_top_genes=3000, subset = False, inplace = True)\n",
    "all(ref_adata_renamed.var_names == target_adata.var_names)"
   ]
  },
  {
   "cell_type": "code",
   "execution_count": 11,
   "id": "c836e514-abba-476c-9556-d6f2f6701e2b",
   "metadata": {},
   "outputs": [
    {
     "data": {
      "text/plain": [
       "True"
      ]
     },
     "execution_count": 11,
     "metadata": {},
     "output_type": "execute_result"
    }
   ],
   "source": [
    "# Slice ref and target adatas to keep ref HVGs\n",
    "ref_adata_hvg = ref_adata_renamed[:, ref_adata_renamed.var['highly_variable']].copy()\n",
    "target_adata_hvg = target_adata[:, ref_adata_renamed.var['highly_variable']].copy()\n",
    "\n",
    "all(ref_adata_hvg.var_names == target_adata_hvg.var_names)"
   ]
  },
  {
   "cell_type": "code",
   "execution_count": 12,
   "id": "b9195d85-1956-47a7-af61-a4232bbcf208",
   "metadata": {},
   "outputs": [],
   "source": [
    "ref_adata_hvg.obs[CONDITION_KEY] = \"study1\"\n",
    "target_adata_hvg.obs[CONDITION_KEY] = \"study2\""
   ]
  },
  {
   "cell_type": "code",
   "execution_count": 13,
   "id": "8ad1bb5a-c14f-4243-96dd-7786062f1c05",
   "metadata": {},
   "outputs": [],
   "source": [
    "target_adata_hvg.obs[CELL_TYPE_KEY] = UNLABELED_CATEGORY"
   ]
  },
  {
   "cell_type": "code",
   "execution_count": 14,
   "id": "952448b2-19de-4183-b582-988a6005f71e",
   "metadata": {},
   "outputs": [
    {
     "data": {
      "text/plain": [
       "author_cell_type\n",
       "Fibroblasts              48013\n",
       "Endothelial              28726\n",
       "uveal melanoma_normal    23628\n",
       "B_cells                  18491\n",
       "TCD4_naive               18364\n",
       "uveal melanoma_tumor     18137\n",
       "lung_normal              15566\n",
       "TCD4_em                  13032\n",
       "TCD8_ex                  12923\n",
       "ovary_tumor              12277\n",
       "lung_tumor                9595\n",
       "TCD8_em                   9380\n",
       "TCD4_reg                  9233\n",
       "Mac_Alv-like              8759\n",
       "NK_cyto                   8019\n",
       "Neutrophil_TAGLN2         6420\n",
       "ovary_normal              6361\n",
       "TCD8_naive                6255\n",
       "TCD4_ex                   4240\n",
       "Mast_cells                4108\n",
       "Neutrophil_MMP9           3947\n",
       "NKT                       3869\n",
       "breast_tumor              3829\n",
       "NK_rest                   3739\n",
       "Mac_Rec                   3717\n",
       "colorectal_normal         3694\n",
       "Mac_AgPres                3329\n",
       "RTM_LA                    3223\n",
       "RTM_IM                    3198\n",
       "Mac_Angio                 2969\n",
       "breast_normal             2897\n",
       "skin_normal               2395\n",
       "Mono_CD14_FOS-            2026\n",
       "RTM_IFN                   2002\n",
       "Mac_IFN                   1929\n",
       "melanoma_tumor            1791\n",
       "cDC2_AREG                 1779\n",
       "Mac_Hypo                  1772\n",
       "Mono_CD16                 1670\n",
       "Mono_IL1B                 1659\n",
       "MonoInter_CLEC10A         1389\n",
       "Mono_CD14_FOS+            1382\n",
       "Neutrophil_CXCL8          1369\n",
       "liver_tumor               1207\n",
       "RTM-like_MT               1193\n",
       "pDC                       1191\n",
       "MonoInter_CXCL10          1123\n",
       "cDC_CXCL8                  967\n",
       "liver_normal               887\n",
       "Mac_LA                     746\n",
       "cDC3_CD14                  617\n",
       "colorectal_tumor           606\n",
       "TGD                        568\n",
       "cDC2_FCER1A                563\n",
       "cDC1_CLEC9A                524\n",
       "cDC2_CD207                 491\n",
       "cDC4_FCGR3A                290\n",
       "cDC_LAMP3                  271\n",
       "melanoma_normal            204\n",
       "Platelets                  185\n",
       "Name: count, dtype: int64"
      ]
     },
     "execution_count": 14,
     "metadata": {},
     "output_type": "execute_result"
    }
   ],
   "source": [
    "ref_adata_hvg.obs[CELL_TYPE_KEY].value_counts()"
   ]
  },
  {
   "cell_type": "code",
   "execution_count": 15,
   "id": "60540b0a-7806-4934-ad9c-73a8ffe4873a",
   "metadata": {},
   "outputs": [
    {
     "data": {
      "text/plain": [
       "author_cell_type\n",
       "unknown    19409\n",
       "Name: count, dtype: int64"
      ]
     },
     "execution_count": 15,
     "metadata": {},
     "output_type": "execute_result"
    }
   ],
   "source": [
    "target_adata_hvg.obs[CELL_TYPE_KEY].value_counts()"
   ]
  },
  {
   "cell_type": "markdown",
   "id": "72b49698-5e0e-4d18-b8d4-bf55768a9409",
   "metadata": {},
   "source": [
    "## Data saving"
   ]
  },
  {
   "cell_type": "code",
   "execution_count": 16,
   "id": "c2c55c3d-d81a-41a9-8544-dfc3d2ad4d1d",
   "metadata": {},
   "outputs": [],
   "source": [
    "target_adata_hvg.write_h5ad(os.path.join(SAVING_ADATA_DIR,'./target_adata.h5ad'))\n",
    "ref_adata_hvg.write_h5ad(os.path.join(SAVING_ADATA_DIR,'./ref_adata.h5ad'))"
   ]
  },
  {
   "cell_type": "markdown",
   "id": "c0a220a4-bb6b-4ad8-b881-4a4dcfae43ce",
   "metadata": {},
   "source": [
    "# AFTER TRANSFERING"
   ]
  },
  {
   "cell_type": "code",
   "execution_count": null,
   "id": "32d399b1-d468-4f90-ab1a-a03cca6d8ee7",
   "metadata": {},
   "outputs": [],
   "source": [
    "\n",
    "# Get the latent representation of the query dataset\n",
    "query_latent = sc.AnnData(model.get_latent_representation())\n",
    "query_latent.obs['cell_type'] = target_adata.obs[cell_type_key].tolist()\n",
    "query_latent.obs['batch'] = target_adata.obs[condition_key].tolist()\n",
    "query_latent.obs['predictions'] = model.predict()\n",
    "query_latent.write_h5ad(os.path.join(adata_dir,'query_latent_myeloid.h5ad'))\n",
    "\n",
    "####################### Embedding in common latent space ###########\n",
    "adata_full = source_adata.concatenate(target_adata)\n",
    "full_latent = sc.AnnData(model.get_latent_representation(adata=adata_full))\n",
    "full_latent.obs['cell_type'] = adata_full.obs[cell_type_key].tolist()\n",
    "full_latent.obs['batch'] = adata_full.obs[condition_key].tolist()\n",
    "full_latent.write_h5ad(os.path.join(adata_dir,'full_latent_myeloid.h5ad'))"
   ]
  }
 ],
 "metadata": {
  "kernelspec": {
   "display_name": "Python (scvi-env)",
   "language": "python",
   "name": "scvi-env"
  },
  "language_info": {
   "codemirror_mode": {
    "name": "ipython",
    "version": 3
   },
   "file_extension": ".py",
   "mimetype": "text/x-python",
   "name": "python",
   "nbconvert_exporter": "python",
   "pygments_lexer": "ipython3",
   "version": "3.12.8"
  }
 },
 "nbformat": 4,
 "nbformat_minor": 5
}
