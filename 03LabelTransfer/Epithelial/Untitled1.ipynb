{
 "cells": [
  {
   "cell_type": "code",
   "execution_count": 6,
   "id": "18e4a3ff-a979-41ee-a662-314b04e48876",
   "metadata": {},
   "outputs": [],
   "source": [
    "import scarches as sca"
   ]
  },
  {
   "cell_type": "code",
   "execution_count": 7,
   "id": "bdea78c3-da5e-4f9b-8a0e-8ba79c63fafd",
   "metadata": {},
   "outputs": [],
   "source": [
    "import scanpy as sc"
   ]
  },
  {
   "cell_type": "code",
   "execution_count": 8,
   "id": "3e61fb8b-ae75-439f-ae50-729b5994914a",
   "metadata": {},
   "outputs": [
    {
     "name": "stderr",
     "output_type": "stream",
     "text": [
      "/opt/miniconda/envs/scarches/lib/python3.9/site-packages/anndata/_core/aligned_df.py:67: ImplicitModificationWarning: Transforming to str index.\n",
      "  warnings.warn(\"Transforming to str index.\", ImplicitModificationWarning)\n"
     ]
    }
   ],
   "source": [
    "adata = sc.read_h5ad(\"/home/igarzonalva/Proyecto_SC_TNBC/GSE161529/LabelTransfer/models/Epithelial/adata.h5ad\")"
   ]
  },
  {
   "cell_type": "code",
   "execution_count": 46,
   "id": "146cdc2b-0e32-459c-9ecf-e0201a2430ab",
   "metadata": {},
   "outputs": [
    {
     "data": {
      "text/plain": [
       "Index(['T cell', 'mast cell', 'macrophage', 'B cell',\n",
       "       'vascular associated smooth muscle cell', 'basal cell', 'pericyte',\n",
       "       'plasma cell', 'mature NK T cell',\n",
       "       'endothelial cell of lymphatic vessel',\n",
       "       'luminal epithelial cell of mammary gland', 'vein endothelial cell',\n",
       "       'endothelial cell of artery', 'fibroblast of breast'],\n",
       "      dtype='object')"
      ]
     },
     "execution_count": 46,
     "metadata": {},
     "output_type": "execute_result"
    }
   ],
   "source": [
    "adata.obs.cell_type.cat.categories"
   ]
  },
  {
   "cell_type": "code",
   "execution_count": 24,
   "id": "3809c943-7cc8-4604-8bb8-252fe59940b7",
   "metadata": {},
   "outputs": [
    {
     "data": {
      "text/plain": [
       "'latent_posterior_parameters'"
      ]
     },
     "execution_count": 24,
     "metadata": {},
     "output_type": "execute_result"
    }
   ],
   "source": [
    "adata.uns['_scvi_adata_minify_type']"
   ]
  },
  {
   "cell_type": "code",
   "execution_count": 22,
   "id": "b5ea6fc2-e64b-4bd7-a46c-1cd5c7a02e97",
   "metadata": {},
   "outputs": [],
   "source": [
    "adata.obsm['_scanvi_latent_qzv'] = adata.obsm['scanvi_latent_qzv']\n",
    "adata.obsm['_scanvi_latent_qzm'] = adata.obsm['scanvi_latent_qzm']\n",
    "adata.obs['_scanvi_observed_lib_size'] = adata.obs['observed_lib_size']"
   ]
  },
  {
   "cell_type": "code",
   "execution_count": 23,
   "id": "5bdd3182-7ef7-4121-9a54-42cd5d4fe697",
   "metadata": {},
   "outputs": [
    {
     "name": "stdout",
     "output_type": "stream",
     "text": [
      "\u001b[34mINFO    \u001b[0m File \u001b[35m/home/igarzonalva/Proyecto_SC_TNBC/GSE161529/LabelTransfer/models/Epithelial/\u001b[0m\u001b[95mmodel.pt\u001b[0m already        \n",
      "         downloaded                                                                                                \n"
     ]
    },
    {
     "name": "stderr",
     "output_type": "stream",
     "text": [
      "/opt/miniconda/envs/scarches/lib/python3.9/site-packages/scvi/model/base/_utils.py:66: FutureWarning: You are using `torch.load` with `weights_only=False` (the current default value), which uses the default pickle module implicitly. It is possible to construct malicious pickle data which will execute arbitrary code during unpickling (See https://github.com/pytorch/pytorch/blob/main/SECURITY.md#untrusted-models for more details). In a future release, the default value for `weights_only` will be flipped to `True`. This limits the functions that could be executed during unpickling. Arbitrary objects will no longer be allowed to be loaded via this mode unless they are explicitly allowlisted by the user via `torch.serialization.add_safe_globals`. We recommend you start setting `weights_only=True` for any use case where you don't have full control of the loaded file. Please open an issue on GitHub for any issues related to this experimental feature.\n",
      "  model = torch.load(model_path, map_location=map_location)\n"
     ]
    },
    {
     "data": {
      "text/html": [
       "<pre style=\"white-space:pre;overflow-x:auto;line-height:normal;font-family:Menlo,'DejaVu Sans Mono',consolas,'Courier New',monospace\">ScanVI Model with the following params: \n",
       "unlabeled_category: unknown, n_hidden: <span style=\"color: #008080; text-decoration-color: #008080; font-weight: bold\">128</span>, n_latent: <span style=\"color: #008080; text-decoration-color: #008080; font-weight: bold\">20</span>, n_layers: <span style=\"color: #008080; text-decoration-color: #008080; font-weight: bold\">3</span>, dropout_rate: <span style=\"color: #008080; text-decoration-color: #008080; font-weight: bold\">0.05</span>, dispersion: gene, \n",
       "gene_likelihood: nb\n",
       "Training status: Trained\n",
       "Model's adata is minified?: <span style=\"color: #00ff00; text-decoration-color: #00ff00; font-style: italic\">True</span>\n",
       "</pre>\n"
      ],
      "text/plain": [
       "ScanVI Model with the following params: \n",
       "unlabeled_category: unknown, n_hidden: \u001b[1;36m128\u001b[0m, n_latent: \u001b[1;36m20\u001b[0m, n_layers: \u001b[1;36m3\u001b[0m, dropout_rate: \u001b[1;36m0.05\u001b[0m, dispersion: gene, \n",
       "gene_likelihood: nb\n",
       "Training status: Trained\n",
       "Model's adata is minified?: \u001b[3;92mTrue\u001b[0m\n"
      ]
     },
     "metadata": {},
     "output_type": "display_data"
    },
    {
     "data": {
      "text/plain": []
     },
     "execution_count": 23,
     "metadata": {},
     "output_type": "execute_result"
    }
   ],
   "source": [
    "sca.models.SCANVI.load('/home/igarzonalva/Proyecto_SC_TNBC/GSE161529/LabelTransfer/models/Epithelial', adata)"
   ]
  },
  {
   "cell_type": "code",
   "execution_count": 25,
   "id": "9bdc7f54-69a8-4ba5-bc16-7e72cdf7d6b7",
   "metadata": {},
   "outputs": [],
   "source": [
    "query_data = sc.read_h5ad('/home/igarzonalva/Proyecto_SC_TNBC/GSE161529/02_Integration/adata/adata_scanvi_cuda_refinement.h5ad')"
   ]
  },
  {
   "cell_type": "code",
   "execution_count": 39,
   "id": "caa8169e-c089-4315-b6d2-9fe5341b7e25",
   "metadata": {},
   "outputs": [
    {
     "data": {
      "text/plain": [
       "Index(['LINC01409', 'HES4', 'ISG15', 'TNFRSF18', 'TNFRSF4', 'C1QTNF12',\n",
       "       'MRPL20-AS1', 'PRKCZ', 'CEP104', 'DFFB',\n",
       "       ...\n",
       "       'MT-RNR1', 'MT-RNR2', 'MT-ND2', 'MT-CO1', 'MT-CO2', 'MT-ATP6', 'MT-CO3',\n",
       "       'MT-ND4', 'MT-ND5', 'MT-CYB'],\n",
       "      dtype='object', name='feature_name', length=3000)"
      ]
     },
     "execution_count": 39,
     "metadata": {},
     "output_type": "execute_result"
    }
   ],
   "source": [
    "adata.var_names"
   ]
  },
  {
   "cell_type": "code",
   "execution_count": 41,
   "id": "f847fbfa-e3b2-49e1-a775-db63ad79856c",
   "metadata": {},
   "outputs": [
    {
     "data": {
      "text/plain": [
       "2601"
      ]
     },
     "execution_count": 41,
     "metadata": {},
     "output_type": "execute_result"
    }
   ],
   "source": [
    "len(np.intersect1d(query_data.var_names, adata.var_names))"
   ]
  },
  {
   "cell_type": "code",
   "execution_count": 26,
   "id": "c11480de-2679-472e-81a1-2a4b9f79287c",
   "metadata": {},
   "outputs": [],
   "source": [
    "ref_path = '/home/igarzonalva/Proyecto_SC_TNBC/GSE161529/LabelTransfer/models/Epithelial'"
   ]
  },
  {
   "cell_type": "code",
   "execution_count": 36,
   "id": "70b2df56-ce2a-4b66-980f-f029492aa7db",
   "metadata": {},
   "outputs": [],
   "source": [
    "import numpy as np\n",
    "\n",
    "# Suppose 'ref_adata' is the reference\n",
    "ref_genes = adata.var_names\n",
    "query_genes = query_data.var_names\n",
    "\n",
    "# Find intersection\n",
    "common_genes = np.intersect1d(ref_genes, query_genes)\n",
    "\n",
    "# Filter\n",
    "\n",
    "query_data_raw = query_data.raw.to_adata()\n",
    "\n",
    "\n",
    "query_data_raw_match = query_data_raw[:, common_genes].copy()\n"
   ]
  },
  {
   "cell_type": "code",
   "execution_count": 37,
   "id": "c726221d-aace-46c7-9cae-65b93e64f979",
   "metadata": {},
   "outputs": [
    {
     "data": {
      "text/plain": [
       "2601"
      ]
     },
     "execution_count": 37,
     "metadata": {},
     "output_type": "execute_result"
    }
   ],
   "source": [
    "query_data_raw_match.n_vars"
   ]
  },
  {
   "cell_type": "code",
   "execution_count": 35,
   "id": "d1967834-87e7-425f-a47d-eedf00d3c86a",
   "metadata": {},
   "outputs": [
    {
     "name": "stdout",
     "output_type": "stream",
     "text": [
      "\u001b[34mINFO    \u001b[0m File \u001b[35m/home/igarzonalva/Proyecto_SC_TNBC/GSE161529/LabelTransfer/models/Epithelial/\u001b[0m\u001b[95mmodel.pt\u001b[0m already        \n",
      "         downloaded                                                                                                \n"
     ]
    },
    {
     "name": "stderr",
     "output_type": "stream",
     "text": [
      "/opt/miniconda/envs/scarches/lib/python3.9/site-packages/scvi/model/base/_utils.py:66: FutureWarning: You are using `torch.load` with `weights_only=False` (the current default value), which uses the default pickle module implicitly. It is possible to construct malicious pickle data which will execute arbitrary code during unpickling (See https://github.com/pytorch/pytorch/blob/main/SECURITY.md#untrusted-models for more details). In a future release, the default value for `weights_only` will be flipped to `True`. This limits the functions that could be executed during unpickling. Arbitrary objects will no longer be allowed to be loaded via this mode unless they are explicitly allowlisted by the user via `torch.serialization.add_safe_globals`. We recommend you start setting `weights_only=True` for any use case where you don't have full control of the loaded file. Please open an issue on GitHub for any issues related to this experimental feature.\n",
      "  model = torch.load(model_path, map_location=map_location)\n",
      "/opt/miniconda/envs/scarches/lib/python3.9/site-packages/scvi/model/base/_archesmixin.py:91: UserWarning: var_names for adata passed in does not match var_names of adata used to train the model. For valid results, the vars need to be the same and in the same order as the adata used to train the model.\n",
      "  _validate_var_names(adata, var_names)\n"
     ]
    },
    {
     "ename": "ValueError",
     "evalue": "Number of vars in `adata_target` not the same as source. Expected: 3000 Received: 33538",
     "output_type": "error",
     "traceback": [
      "\u001b[0;31m---------------------------------------------------------------------------\u001b[0m",
      "\u001b[0;31mValueError\u001b[0m                                Traceback (most recent call last)",
      "Cell \u001b[0;32mIn[35], line 1\u001b[0m\n\u001b[0;32m----> 1\u001b[0m model \u001b[38;5;241m=\u001b[39m \u001b[43msca\u001b[49m\u001b[38;5;241;43m.\u001b[39;49m\u001b[43mmodels\u001b[49m\u001b[38;5;241;43m.\u001b[39;49m\u001b[43mSCANVI\u001b[49m\u001b[38;5;241;43m.\u001b[39;49m\u001b[43mload_query_data\u001b[49m\u001b[43m(\u001b[49m\n\u001b[1;32m      2\u001b[0m \u001b[43m    \u001b[49m\u001b[43mquery_adata_match_raw\u001b[49m\u001b[43m,\u001b[49m\n\u001b[1;32m      3\u001b[0m \u001b[43m    \u001b[49m\u001b[43mref_path\u001b[49m\u001b[43m,\u001b[49m\n\u001b[1;32m      4\u001b[0m \u001b[43m    \u001b[49m\u001b[43mfreeze_dropout\u001b[49m\u001b[38;5;241;43m=\u001b[39;49m\u001b[38;5;28;43;01mTrue\u001b[39;49;00m\u001b[43m,\u001b[49m\n\u001b[1;32m      5\u001b[0m \u001b[43m)\u001b[49m\n",
      "File \u001b[0;32m/opt/miniconda/envs/scarches/lib/python3.9/site-packages/scvi/model/base/_archesmixin.py:103\u001b[0m, in \u001b[0;36mArchesMixin.load_query_data\u001b[0;34m(cls, adata, reference_model, inplace_subset_query_vars, accelerator, device, unfrozen, freeze_dropout, freeze_expression, freeze_decoder_first_layer, freeze_batchnorm_encoder, freeze_batchnorm_decoder, freeze_classifier)\u001b[0m\n\u001b[1;32m     97\u001b[0m \u001b[38;5;28;01mif\u001b[39;00m _SETUP_ARGS_KEY \u001b[38;5;129;01mnot\u001b[39;00m \u001b[38;5;129;01min\u001b[39;00m registry:\n\u001b[1;32m     98\u001b[0m     \u001b[38;5;28;01mraise\u001b[39;00m \u001b[38;5;167;01mValueError\u001b[39;00m(\n\u001b[1;32m     99\u001b[0m         \u001b[38;5;124m\"\u001b[39m\u001b[38;5;124mSaved model does not contain original setup inputs. \u001b[39m\u001b[38;5;124m\"\u001b[39m\n\u001b[1;32m    100\u001b[0m         \u001b[38;5;124m\"\u001b[39m\u001b[38;5;124mCannot load the original setup.\u001b[39m\u001b[38;5;124m\"\u001b[39m\n\u001b[1;32m    101\u001b[0m     )\n\u001b[0;32m--> 103\u001b[0m \u001b[38;5;28;43mcls\u001b[39;49m\u001b[38;5;241;43m.\u001b[39;49m\u001b[43msetup_anndata\u001b[49m\u001b[43m(\u001b[49m\n\u001b[1;32m    104\u001b[0m \u001b[43m    \u001b[49m\u001b[43madata\u001b[49m\u001b[43m,\u001b[49m\n\u001b[1;32m    105\u001b[0m \u001b[43m    \u001b[49m\u001b[43msource_registry\u001b[49m\u001b[38;5;241;43m=\u001b[39;49m\u001b[43mregistry\u001b[49m\u001b[43m,\u001b[49m\n\u001b[1;32m    106\u001b[0m \u001b[43m    \u001b[49m\u001b[43mextend_categories\u001b[49m\u001b[38;5;241;43m=\u001b[39;49m\u001b[38;5;28;43;01mTrue\u001b[39;49;00m\u001b[43m,\u001b[49m\n\u001b[1;32m    107\u001b[0m \u001b[43m    \u001b[49m\u001b[43mallow_missing_labels\u001b[49m\u001b[38;5;241;43m=\u001b[39;49m\u001b[38;5;28;43;01mTrue\u001b[39;49;00m\u001b[43m,\u001b[49m\n\u001b[1;32m    108\u001b[0m \u001b[43m    \u001b[49m\u001b[38;5;241;43m*\u001b[39;49m\u001b[38;5;241;43m*\u001b[39;49m\u001b[43mregistry\u001b[49m\u001b[43m[\u001b[49m\u001b[43m_SETUP_ARGS_KEY\u001b[49m\u001b[43m]\u001b[49m\u001b[43m,\u001b[49m\n\u001b[1;32m    109\u001b[0m \u001b[43m\u001b[49m\u001b[43m)\u001b[49m\n\u001b[1;32m    111\u001b[0m model \u001b[38;5;241m=\u001b[39m _initialize_model(\u001b[38;5;28mcls\u001b[39m, adata, attr_dict)\n\u001b[1;32m    112\u001b[0m adata_manager \u001b[38;5;241m=\u001b[39m model\u001b[38;5;241m.\u001b[39mget_anndata_manager(adata, required\u001b[38;5;241m=\u001b[39m\u001b[38;5;28;01mTrue\u001b[39;00m)\n",
      "File \u001b[0;32m/opt/miniconda/envs/scarches/lib/python3.9/site-packages/scvi/model/_scanvi.py:477\u001b[0m, in \u001b[0;36mSCANVI.setup_anndata\u001b[0;34m(cls, adata, labels_key, unlabeled_category, layer, batch_key, size_factor_key, categorical_covariate_keys, continuous_covariate_keys, **kwargs)\u001b[0m\n\u001b[1;32m    475\u001b[0m     anndata_fields \u001b[38;5;241m+\u001b[39m\u001b[38;5;241m=\u001b[39m \u001b[38;5;28mcls\u001b[39m\u001b[38;5;241m.\u001b[39m_get_fields_for_adata_minification(adata_minify_type)\n\u001b[1;32m    476\u001b[0m adata_manager \u001b[38;5;241m=\u001b[39m AnnDataManager(fields\u001b[38;5;241m=\u001b[39manndata_fields, setup_method_args\u001b[38;5;241m=\u001b[39msetup_method_args)\n\u001b[0;32m--> 477\u001b[0m \u001b[43madata_manager\u001b[49m\u001b[38;5;241;43m.\u001b[39;49m\u001b[43mregister_fields\u001b[49m\u001b[43m(\u001b[49m\u001b[43madata\u001b[49m\u001b[43m,\u001b[49m\u001b[43m \u001b[49m\u001b[38;5;241;43m*\u001b[39;49m\u001b[38;5;241;43m*\u001b[39;49m\u001b[43mkwargs\u001b[49m\u001b[43m)\u001b[49m\n\u001b[1;32m    478\u001b[0m \u001b[38;5;28mcls\u001b[39m\u001b[38;5;241m.\u001b[39mregister_manager(adata_manager)\n",
      "File \u001b[0;32m/opt/miniconda/envs/scarches/lib/python3.9/site-packages/scvi/data/_manager.py:180\u001b[0m, in \u001b[0;36mAnnDataManager.register_fields\u001b[0;34m(self, adata, source_registry, **transfer_kwargs)\u001b[0m\n\u001b[1;32m    177\u001b[0m \u001b[38;5;28mself\u001b[39m\u001b[38;5;241m.\u001b[39m_validate_anndata_object(adata)\n\u001b[1;32m    179\u001b[0m \u001b[38;5;28;01mfor\u001b[39;00m field \u001b[38;5;129;01min\u001b[39;00m \u001b[38;5;28mself\u001b[39m\u001b[38;5;241m.\u001b[39mfields:\n\u001b[0;32m--> 180\u001b[0m     \u001b[38;5;28;43mself\u001b[39;49m\u001b[38;5;241;43m.\u001b[39;49m\u001b[43m_add_field\u001b[49m\u001b[43m(\u001b[49m\n\u001b[1;32m    181\u001b[0m \u001b[43m        \u001b[49m\u001b[43mfield\u001b[49m\u001b[38;5;241;43m=\u001b[39;49m\u001b[43mfield\u001b[49m\u001b[43m,\u001b[49m\n\u001b[1;32m    182\u001b[0m \u001b[43m        \u001b[49m\u001b[43madata\u001b[49m\u001b[38;5;241;43m=\u001b[39;49m\u001b[43madata\u001b[49m\u001b[43m,\u001b[49m\n\u001b[1;32m    183\u001b[0m \u001b[43m        \u001b[49m\u001b[43msource_registry\u001b[49m\u001b[38;5;241;43m=\u001b[39;49m\u001b[43msource_registry\u001b[49m\u001b[43m,\u001b[49m\n\u001b[1;32m    184\u001b[0m \u001b[43m        \u001b[49m\u001b[38;5;241;43m*\u001b[39;49m\u001b[38;5;241;43m*\u001b[39;49m\u001b[43mtransfer_kwargs\u001b[49m\u001b[43m,\u001b[49m\n\u001b[1;32m    185\u001b[0m \u001b[43m    \u001b[49m\u001b[43m)\u001b[49m\n\u001b[1;32m    187\u001b[0m \u001b[38;5;66;03m# Save arguments for register_fields.\u001b[39;00m\n\u001b[1;32m    188\u001b[0m \u001b[38;5;28mself\u001b[39m\u001b[38;5;241m.\u001b[39m_source_registry \u001b[38;5;241m=\u001b[39m deepcopy(source_registry)\n",
      "File \u001b[0;32m/opt/miniconda/envs/scarches/lib/python3.9/site-packages/scvi/data/_manager.py:215\u001b[0m, in \u001b[0;36mAnnDataManager._add_field\u001b[0;34m(self, field, adata, source_registry, **transfer_kwargs)\u001b[0m\n\u001b[1;32m    212\u001b[0m \u001b[38;5;28;01mif\u001b[39;00m \u001b[38;5;129;01mnot\u001b[39;00m field\u001b[38;5;241m.\u001b[39mis_empty:\n\u001b[1;32m    213\u001b[0m     \u001b[38;5;66;03m# Transfer case: Source registry is used for validation and/or setup.\u001b[39;00m\n\u001b[1;32m    214\u001b[0m     \u001b[38;5;28;01mif\u001b[39;00m source_registry \u001b[38;5;129;01mis\u001b[39;00m \u001b[38;5;129;01mnot\u001b[39;00m \u001b[38;5;28;01mNone\u001b[39;00m:\n\u001b[0;32m--> 215\u001b[0m         field_registry[_constants\u001b[38;5;241m.\u001b[39m_STATE_REGISTRY_KEY] \u001b[38;5;241m=\u001b[39m \u001b[43mfield\u001b[49m\u001b[38;5;241;43m.\u001b[39;49m\u001b[43mtransfer_field\u001b[49m\u001b[43m(\u001b[49m\n\u001b[1;32m    216\u001b[0m \u001b[43m            \u001b[49m\u001b[43msource_registry\u001b[49m\u001b[43m[\u001b[49m\u001b[43m_constants\u001b[49m\u001b[38;5;241;43m.\u001b[39;49m\u001b[43m_FIELD_REGISTRIES_KEY\u001b[49m\u001b[43m]\u001b[49m\u001b[43m[\u001b[49m\u001b[43mfield\u001b[49m\u001b[38;5;241;43m.\u001b[39;49m\u001b[43mregistry_key\u001b[49m\u001b[43m]\u001b[49m\u001b[43m[\u001b[49m\n\u001b[1;32m    217\u001b[0m \u001b[43m                \u001b[49m\u001b[43m_constants\u001b[49m\u001b[38;5;241;43m.\u001b[39;49m\u001b[43m_STATE_REGISTRY_KEY\u001b[49m\n\u001b[1;32m    218\u001b[0m \u001b[43m            \u001b[49m\u001b[43m]\u001b[49m\u001b[43m,\u001b[49m\n\u001b[1;32m    219\u001b[0m \u001b[43m            \u001b[49m\u001b[43madata\u001b[49m\u001b[43m,\u001b[49m\n\u001b[1;32m    220\u001b[0m \u001b[43m            \u001b[49m\u001b[38;5;241;43m*\u001b[39;49m\u001b[38;5;241;43m*\u001b[39;49m\u001b[43mtransfer_kwargs\u001b[49m\u001b[43m,\u001b[49m\n\u001b[1;32m    221\u001b[0m \u001b[43m        \u001b[49m\u001b[43m)\u001b[49m\n\u001b[1;32m    222\u001b[0m     \u001b[38;5;28;01melse\u001b[39;00m:\n\u001b[1;32m    223\u001b[0m         field_registry[_constants\u001b[38;5;241m.\u001b[39m_STATE_REGISTRY_KEY] \u001b[38;5;241m=\u001b[39m field\u001b[38;5;241m.\u001b[39mregister_field(adata)\n",
      "File \u001b[0;32m/opt/miniconda/envs/scarches/lib/python3.9/site-packages/scvi/data/fields/_layer_field.py:129\u001b[0m, in \u001b[0;36mLayerField.transfer_field\u001b[0;34m(self, state_registry, adata_target, **kwargs)\u001b[0m\n\u001b[1;32m    127\u001b[0m target_n_vars \u001b[38;5;241m=\u001b[39m adata_target\u001b[38;5;241m.\u001b[39mn_vars\n\u001b[1;32m    128\u001b[0m \u001b[38;5;28;01mif\u001b[39;00m target_n_vars \u001b[38;5;241m!=\u001b[39m n_vars:\n\u001b[0;32m--> 129\u001b[0m     \u001b[38;5;28;01mraise\u001b[39;00m \u001b[38;5;167;01mValueError\u001b[39;00m(\n\u001b[1;32m    130\u001b[0m         \u001b[38;5;124m\"\u001b[39m\u001b[38;5;124mNumber of vars in `adata_target` not the same as source. \u001b[39m\u001b[38;5;124m\"\u001b[39m\n\u001b[1;32m    131\u001b[0m         \u001b[38;5;241m+\u001b[39m \u001b[38;5;124mf\u001b[39m\u001b[38;5;124m\"\u001b[39m\u001b[38;5;124mExpected: \u001b[39m\u001b[38;5;132;01m{\u001b[39;00mn_vars\u001b[38;5;132;01m}\u001b[39;00m\u001b[38;5;124m Received: \u001b[39m\u001b[38;5;132;01m{\u001b[39;00mtarget_n_vars\u001b[38;5;132;01m}\u001b[39;00m\u001b[38;5;124m\"\u001b[39m\n\u001b[1;32m    132\u001b[0m     )\n\u001b[1;32m    134\u001b[0m \u001b[38;5;28;01mreturn\u001b[39;00m \u001b[38;5;28mself\u001b[39m\u001b[38;5;241m.\u001b[39mregister_field(adata_target)\n",
      "\u001b[0;31mValueError\u001b[0m: Number of vars in `adata_target` not the same as source. Expected: 3000 Received: 33538"
     ]
    }
   ],
   "source": [
    "model = sca.models.SCANVI.load_query_data(\n",
    "    query_adata_match_raw,\n",
    "    ref_path,\n",
    "    freeze_dropout=True,\n",
    ")"
   ]
  },
  {
   "cell_type": "code",
   "execution_count": null,
   "id": "48c27ffd-54cf-4e88-b01d-766118a140e3",
   "metadata": {},
   "outputs": [],
   "source": []
  },
  {
   "cell_type": "code",
   "execution_count": 47,
   "id": "e4cb11c6-77f9-4b5d-be53-6d0a0d105901",
   "metadata": {},
   "outputs": [],
   "source": [
    "import requests\n",
    "res = requests.get(\"https://zenodo.org/api/records/7587774\")\n",
    "tissue_download_path = {ind['key'][3:-14]:ind for ind in res.json()['files']}"
   ]
  },
  {
   "cell_type": "code",
   "execution_count": 49,
   "id": "340d45cf-3873-49be-ba33-67751ad67179",
   "metadata": {},
   "outputs": [
    {
     "data": {
      "text/plain": [
       "dict_keys(['Tongue', 'Skin', 'Mammary', 'Salivary_Gland', 'Heart', 'Lung', 'Bone_Marrow', 'Lymph_Node', 'Small_Intestine', 'Prostate', 'Large_Intestine', 'Fat', 'Spleen', 'Bladder', 'Liver', 'Pancreas', 'Vasculature', 'Blood', 'Uterus', 'Eye', 'Trachea', 'Muscle', 'Thymus'])"
      ]
     },
     "execution_count": 49,
     "metadata": {},
     "output_type": "execute_result"
    }
   ],
   "source": [
    "tissue_download_path.keys()"
   ]
  },
  {
   "cell_type": "code",
   "execution_count": 50,
   "id": "759d0c4d-400e-49d8-9806-52d1af390c07",
   "metadata": {},
   "outputs": [],
   "source": [
    "refdata_zenodo = tissue_download_path['Mammary']"
   ]
  },
  {
   "cell_type": "code",
   "execution_count": 51,
   "id": "061ee204-3cf9-4004-a16e-d24090d57e01",
   "metadata": {},
   "outputs": [
    {
     "data": {
      "text/plain": [
       "{'id': 'eedde393-57cc-4a45-9d12-d81ed24ab156',\n",
       " 'key': 'TS_Mammary_filtered.h5ad',\n",
       " 'size': 494602546,\n",
       " 'checksum': 'md5:3ec9237646399cf39ccd6e81090a4623',\n",
       " 'links': {'self': 'https://zenodo.org/api/records/7587774/files/TS_Mammary_filtered.h5ad/content'}}"
      ]
     },
     "execution_count": 51,
     "metadata": {},
     "output_type": "execute_result"
    }
   ],
   "source": [
    "refdata_zenodo"
   ]
  },
  {
   "cell_type": "code",
   "execution_count": null,
   "id": "ad8c5fb6-6001-4a30-a60d-7836f7391749",
   "metadata": {},
   "outputs": [],
   "source": []
  }
 ],
 "metadata": {
  "kernelspec": {
   "display_name": "scArches Environment",
   "language": "python",
   "name": "scarches"
  },
  "language_info": {
   "codemirror_mode": {
    "name": "ipython",
    "version": 3
   },
   "file_extension": ".py",
   "mimetype": "text/x-python",
   "name": "python",
   "nbconvert_exporter": "python",
   "pygments_lexer": "ipython3",
   "version": "3.9.21"
  }
 },
 "nbformat": 4,
 "nbformat_minor": 5
}
