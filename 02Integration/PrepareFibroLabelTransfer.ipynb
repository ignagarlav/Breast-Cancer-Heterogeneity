{
 "cells": [
  {
   "cell_type": "code",
   "execution_count": 1,
   "id": "c0f22b77-b6e7-4f41-89b3-54314acc5371",
   "metadata": {},
   "outputs": [
    {
     "name": "stdout",
     "output_type": "stream",
     "text": [
      "This notebook was last run with this kernel /home/igarzonalva/.conda/envs/scvi_cpu_env/bin/python\n"
     ]
    }
   ],
   "source": [
    "import sys\n",
    "print(f'This notebook was last run with this kernel {sys.executable}')"
   ]
  },
  {
   "cell_type": "code",
   "execution_count": 2,
   "id": "9a396cdb-7ffc-4b4b-ba11-047f7ca3f925",
   "metadata": {},
   "outputs": [
    {
     "name": "stderr",
     "output_type": "stream",
     "text": [
      "/home/igarzonalva/.conda/envs/scvi_cpu_env/lib/python3.12/site-packages/tqdm/auto.py:21: TqdmWarning: IProgress not found. Please update jupyter and ipywidgets. See https://ipywidgets.readthedocs.io/en/stable/user_install.html\n",
      "  from .autonotebook import tqdm as notebook_tqdm\n"
     ]
    }
   ],
   "source": [
    "import scanpy as sc\n",
    "import os\n",
    "import numpy as np\n",
    "import pandas as pd\n",
    "import scvi\n",
    "\n",
    "import matplotlib.pyplot as plt"
   ]
  },
  {
   "cell_type": "markdown",
   "id": "6da29b1f-b002-47f1-a23e-62099dc68de4",
   "metadata": {},
   "source": [
    "# BEFORE TRANSFERING"
   ]
  },
  {
   "cell_type": "markdown",
   "id": "bebeec85-8f28-4fb1-afee-8a203dac4804",
   "metadata": {},
   "source": [
    "## Environment setup"
   ]
  },
  {
   "cell_type": "code",
   "execution_count": 3,
   "id": "aa0926fa-6c58-46c3-a710-264137c786ad",
   "metadata": {},
   "outputs": [],
   "source": [
    "REF_ADATA_DIR = \"/home/igarzonalva/Proyecto_SC_TNBC/GSE161529/LabelTransfer/adatas/Fibroblast/common_resources\" \n",
    "TARGET_ADATA_DIR = '/home/igarzonalva/Proyecto_SC_TNBC/GSE161529/02_Integration/adata'\n",
    "\n",
    "SAVING_ADATA_DIR = '/home/igarzonalva/Proyecto_SC_TNBC/GSE161529/LabelTransfer/adatas/Fibroblast'"
   ]
  },
  {
   "cell_type": "code",
   "execution_count": 4,
   "id": "4393c6e9-bc0f-4395-aef8-04099c3cb48e",
   "metadata": {},
   "outputs": [],
   "source": [
    "# Specify the condition and cell type key in the reference\n",
    "CONDITION_KEY = \"condition\"\n",
    "CELL_TYPE_KEY = \"CAF\"\n",
    "UNLABELED_CATEGORY = \"unknown\"\n",
    "\n",
    "# Specify the query annotation column and desired cell types\n",
    "TARGET_ANNOTATION_COLUMN = \"IGA_PostScAnvi_GenAnno_colors\"\n",
    "TARGET_CELL_TYPES = ['Fibroblast FAP+','Fibroblast FAP-']"
   ]
  },
  {
   "cell_type": "markdown",
   "id": "fd487bb3-a552-4dad-9d74-d090ab57e29c",
   "metadata": {},
   "source": [
    "## Data Loading"
   ]
  },
  {
   "cell_type": "markdown",
   "id": "90aad1dd-ee20-47e7-9a69-b8f3499a0fb4",
   "metadata": {},
   "source": [
    "### Reference"
   ]
  },
  {
   "cell_type": "markdown",
   "id": "158a2c8a-29f9-41bd-9898-76c4c7bd5d5c",
   "metadata": {},
   "source": [
    "Reference dataset is already raw data (counts)"
   ]
  },
  {
   "cell_type": "code",
   "execution_count": 5,
   "id": "ad2e3a24-f0ff-4bc3-888c-96e04ba9c9ba",
   "metadata": {},
   "outputs": [],
   "source": [
    "reference_adata_fname = os.path.join(REF_ADATA_DIR,'BREAST_fibro_tumor.h5ad')\n",
    "ref_adata = sc.read_h5ad(reference_adata_fname)"
   ]
  },
  {
   "cell_type": "markdown",
   "id": "c26315ae-ec2f-4185-8285-0421a71e590e",
   "metadata": {},
   "source": [
    "### Target"
   ]
  },
  {
   "cell_type": "code",
   "execution_count": 6,
   "id": "7219ea22-f480-4093-ba9a-ebbbc5c40aba",
   "metadata": {},
   "outputs": [
    {
     "data": {
      "text/plain": [
       "IGA_PostScAnvi_GenAnno_colors\n",
       "Fibroblast FAP+    11062\n",
       "Fibroblast FAP-     2278\n",
       "Name: count, dtype: int64"
      ]
     },
     "execution_count": 6,
     "metadata": {},
     "output_type": "execute_result"
    }
   ],
   "source": [
    "target_adata_fname = os.path.join(TARGET_ADATA_DIR, 'adata_scanvi_cuda_refinement.h5ad')\n",
    "target_adata = sc.read_h5ad(target_adata_fname)\n",
    "target_adata = target_adata[target_adata.obs[TARGET_ANNOTATION_COLUMN].isin(TARGET_CELL_TYPES),:].copy()\n",
    "target_adata.obs[TARGET_ANNOTATION_COLUMN].value_counts()"
   ]
  },
  {
   "cell_type": "markdown",
   "id": "62838374-b8d9-4ddd-a88a-9e154ee0ebbe",
   "metadata": {},
   "source": [
    "## Dataset harmonization"
   ]
  },
  {
   "cell_type": "code",
   "execution_count": 7,
   "id": "1b58e0b7-ec90-424f-b7c9-40cf1e420a3d",
   "metadata": {},
   "outputs": [
    {
     "data": {
      "text/plain": [
       "True"
      ]
     },
     "execution_count": 7,
     "metadata": {},
     "output_type": "execute_result"
    }
   ],
   "source": [
    "common_genes = [gene for gene in ref_adata.var_names if gene in target_adata.var_names]\n",
    "\n",
    "ref_adata = ref_adata[:,common_genes].copy()\n",
    "target_adata = target_adata[:,common_genes].copy()\n",
    "\n",
    "all(ref_adata.var_names == target_adata.var_names)"
   ]
  },
  {
   "cell_type": "code",
   "execution_count": 8,
   "id": "bc114f3d-d625-4f08-b0b6-5a6c0f7e0499",
   "metadata": {},
   "outputs": [
    {
     "data": {
      "text/plain": [
       "True"
      ]
     },
     "execution_count": 8,
     "metadata": {},
     "output_type": "execute_result"
    }
   ],
   "source": [
    "# Compute HVGs on raw data of reference dataset\n",
    "sc.pp.highly_variable_genes(ref_adata, flavor='seurat_v3', n_top_genes=3000, subset = False, inplace = True)\n",
    "all(ref_adata.var_names == target_adata.var_names)"
   ]
  },
  {
   "cell_type": "code",
   "execution_count": 9,
   "id": "59abf125-e600-4104-976e-9c338bf6b409",
   "metadata": {},
   "outputs": [
    {
     "data": {
      "text/plain": [
       "True"
      ]
     },
     "execution_count": 9,
     "metadata": {},
     "output_type": "execute_result"
    }
   ],
   "source": [
    "# Slice ref and target adatas to keep ref HVGs\n",
    "ref_adata_hvg = ref_adata[:, ref_adata.var['highly_variable']].copy()\n",
    "target_adata_hvg = target_adata[:, ref_adata.var['highly_variable']].copy()\n",
    "\n",
    "all(ref_adata_hvg.var_names == target_adata_hvg.var_names)"
   ]
  },
  {
   "cell_type": "code",
   "execution_count": 10,
   "id": "2d534d18-6c79-4c82-9454-9dcedd7288b6",
   "metadata": {},
   "outputs": [],
   "source": [
    "ref_adata_hvg.obs[CONDITION_KEY] = \"study1\"\n",
    "target_adata_hvg.obs[CONDITION_KEY] = \"study2\""
   ]
  },
  {
   "cell_type": "code",
   "execution_count": 11,
   "id": "25ee161f-04a0-488d-a6df-d4a0ccf76d87",
   "metadata": {},
   "outputs": [],
   "source": [
    "target_adata_hvg.obs[CELL_TYPE_KEY] = UNLABELED_CATEGORY"
   ]
  },
  {
   "cell_type": "code",
   "execution_count": 12,
   "id": "cea8d152-ce66-4409-86c9-448f5051abd4",
   "metadata": {},
   "outputs": [
    {
     "data": {
      "text/plain": [
       "CAF\n",
       "mCAF         4525\n",
       "iCAF         3439\n",
       "vCAF         2886\n",
       "Pericyte     2389\n",
       "apCAF         793\n",
       "tpCAF         786\n",
       "hsp_tpCAF     722\n",
       "IDO_CAF       665\n",
       "rCAF          373\n",
       "dCAF          126\n",
       "Name: count, dtype: int64"
      ]
     },
     "execution_count": 12,
     "metadata": {},
     "output_type": "execute_result"
    }
   ],
   "source": [
    "ref_adata_hvg.obs[CELL_TYPE_KEY].value_counts()"
   ]
  },
  {
   "cell_type": "code",
   "execution_count": 13,
   "id": "2912ce1b-79d9-416b-bda1-388f3dfac7f5",
   "metadata": {},
   "outputs": [
    {
     "data": {
      "text/plain": [
       "CAF\n",
       "unknown    13340\n",
       "Name: count, dtype: int64"
      ]
     },
     "execution_count": 13,
     "metadata": {},
     "output_type": "execute_result"
    }
   ],
   "source": [
    "target_adata_hvg.obs[CELL_TYPE_KEY].value_counts()"
   ]
  },
  {
   "cell_type": "markdown",
   "id": "166e3e6b-0419-4aa6-8a81-77bb8b3ebc7b",
   "metadata": {},
   "source": [
    "## Data saving"
   ]
  },
  {
   "cell_type": "code",
   "execution_count": 16,
   "id": "70338039-85c9-43b6-a13f-162105c355b9",
   "metadata": {},
   "outputs": [],
   "source": [
    "target_adata_hvg.write_h5ad(os.path.join(SAVING_ADATA_DIR,'./target_adata.h5ad'))\n",
    "ref_adata_hvg.write_h5ad(os.path.join(SAVING_ADATA_DIR,'./ref_adata.h5ad'))"
   ]
  },
  {
   "cell_type": "code",
   "execution_count": null,
   "id": "1db5997b-d0d3-450c-81c4-b7f179e29ded",
   "metadata": {},
   "outputs": [],
   "source": []
  },
  {
   "cell_type": "markdown",
   "id": "2134ca74-4ccd-45ed-a075-c1a5930aa990",
   "metadata": {},
   "source": [
    "# AFTER TRANSFERING"
   ]
  },
  {
   "cell_type": "code",
   "execution_count": null,
   "id": "0de64e64-e074-4377-b9c0-0c26c2659eec",
   "metadata": {},
   "outputs": [],
   "source": []
  },
  {
   "cell_type": "code",
   "execution_count": null,
   "id": "382d34f2-d84c-4738-adfb-683cbdadda81",
   "metadata": {},
   "outputs": [],
   "source": [
    "\n",
    "# Get the latent representation of the query dataset\n",
    "query_latent = sc.AnnData(model.get_latent_representation())\n",
    "query_latent.obs['cell_type'] = target_adata.obs[cell_type_key].tolist()\n",
    "query_latent.obs['batch'] = target_adata.obs[condition_key].tolist()\n",
    "query_latent.obs['predictions'] = model.predict()\n",
    "query_latent.write_h5ad(os.path.join(adata_dir,'query_latent_myeloid.h5ad'))\n",
    "\n",
    "####### EMBBED BOTH THE REFERENCE AND SURGERY MODEL IN THE SAME SPACE #########\n",
    "\n",
    "adata_full = source_adata.concatenate(target_adata)\n",
    "full_latent = sc.AnnData(model.get_latent_representation(adata=adata_full))\n",
    "full_latent.obs['cell_type'] = adata_full.obs[cell_type_key].tolist()\n",
    "full_latent.obs['batch'] = adata_full.obs[condition_key].tolist()\n",
    "full_latent.write_h5ad(os.path.join(adata_dir,'full_latent_myeloid.h5ad'))"
   ]
  }
 ],
 "metadata": {
  "kernelspec": {
   "display_name": "Python (scvi_cpu_env)",
   "language": "python",
   "name": "scvi_cpu_env"
  },
  "language_info": {
   "codemirror_mode": {
    "name": "ipython",
    "version": 3
   },
   "file_extension": ".py",
   "mimetype": "text/x-python",
   "name": "python",
   "nbconvert_exporter": "python",
   "pygments_lexer": "ipython3",
   "version": "3.12.8"
  }
 },
 "nbformat": 4,
 "nbformat_minor": 5
}
