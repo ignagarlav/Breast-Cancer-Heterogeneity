###################### ver el modelo de referencia 


data_dir = "/home/igarzonalva/Proyecto_SC_TNBC/GSE161529/Integration/adata/adata_scanvi.h5ad"



sc.pl.embedding(
    adata,
    basis="X_scanvi_MDE",
    color=["batch","leiden","celltypist_labels_Immune_All_High","GenAnno"],
    frameon=False,
    ncols=1)

sc.pl.embedding(
    adata,
    basis="X_scanvi_MDE",
    color=["ENPP1","GenAnno", "subtype"],
    frameon=False,
    ncols=1)
