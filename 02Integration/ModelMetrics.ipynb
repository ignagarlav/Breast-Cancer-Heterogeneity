{
 "cells": [
  {
   "cell_type": "code",
   "execution_count": null,
   "id": "268f716f-3e33-4a64-81c2-2bdc882e9ca4",
   "metadata": {},
   "outputs": [],
   "source": [
    "history = scanvi_model.history"
   ]
  },
  {
   "cell_type": "code",
   "execution_count": null,
   "id": "dfa0981e-7f8c-43bc-93d3-9ca97ac30c28",
   "metadata": {},
   "outputs": [],
   "source": [
    "import pandas as pd\n",
    "import matplotlib.pyplot as plt\n",
    "\n",
    "df_list = []\n",
    "for metric_name, metric_df in history.items():\n",
    "    # If each metric_df is a DataFrame with exactly one column, rename it:\n",
    "    if isinstance(metric_df, pd.DataFrame) or isinstance(metric_df, pd.Series):\n",
    "        # Ensure we convert a Series to DataFrame if needed\n",
    "        if isinstance(metric_df, pd.Series):\n",
    "            metric_df = metric_df.to_frame()\n",
    "        old_col = metric_df.columns[0]\n",
    "        metric_df = metric_df.rename(columns={old_col: metric_name})\n",
    "        df_list.append(metric_df)\n",
    "    else:\n",
    "        print(f\"{metric_name} is not a DataFrame or Series.\")\n",
    "\n",
    "df_history = pd.concat(df_list, axis=1)\n",
    "\n",
    "# Now df_history has one column per metric keyed by epoch.\n",
    "# Plot a few metrics as examples:\n",
    "\n",
    "plt.figure(figsize=(6, 4))\n",
    "plt.plot(df_history[\"elbo_train\"], label=\"Train ELBO\")\n",
    "plt.title(\"ELBO Over Epochs\")\n",
    "plt.xlabel(\"Epoch\")\n",
    "plt.ylabel(\"ELBO\")\n",
    "plt.legend()\n",
    "plt.tight_layout()\n",
    "plt.show()\n",
    "\n",
    "plt.figure(figsize=(6, 4))\n",
    "plt.plot(df_history[\"train_loss_epoch\"], label=\"Train Loss\")\n",
    "plt.plot(df_history[\"reconstruction_loss_train\"], label=\"Reconstruction Loss\")\n",
    "plt.title(\"Losses Over Epochs\")\n",
    "plt.xlabel(\"Epoch\")\n",
    "plt.ylabel(\"Loss Value\")\n",
    "plt.legend()\n",
    "plt.tight_layout()\n",
    "plt.show()\n",
    "\n",
    "plt.figure(figsize=(6, 4))\n",
    "plt.plot(df_history[\"train_accuracy\"], label=\"Train Accuracy\")\n",
    "plt.plot(df_history[\"train_f1_score\"], label=\"Train F1 Score\")\n",
    "plt.title(\"Classification Metrics Over Epochs\")\n",
    "plt.xlabel(\"Epoch\")\n",
    "plt.ylabel(\"Metric\")\n",
    "plt.legend()\n",
    "plt.ylim(0.9, 1.0)  \n",
    "plt.tight_layout()\n",
    "plt.show()\n"
   ]
  }
 ],
 "metadata": {
  "kernelspec": {
   "display_name": "Python (scvi_cpu_env)",
   "language": "python",
   "name": "scvi_cpu_env"
  },
  "language_info": {
   "codemirror_mode": {
    "name": "ipython",
    "version": 3
   },
   "file_extension": ".py",
   "mimetype": "text/x-python",
   "name": "python",
   "nbconvert_exporter": "python",
   "pygments_lexer": "ipython3",
   "version": "3.12.8"
  }
 },
 "nbformat": 4,
 "nbformat_minor": 5
}
