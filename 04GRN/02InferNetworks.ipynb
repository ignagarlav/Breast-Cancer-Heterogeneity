{
 "cells": [
  {
   "cell_type": "code",
   "execution_count": 1,
   "id": "64009e58-d0ab-441f-a5a4-a348d2f12b62",
   "metadata": {
    "editable": true,
    "slideshow": {
     "slide_type": ""
    },
    "tags": []
   },
   "outputs": [],
   "source": [
    "import pandas as pd\n",
    "import os\n",
    "from scipy.sparse import csc_matrix"
   ]
  },
  {
   "cell_type": "code",
   "execution_count": 2,
   "id": "cd1d9b81-91ac-4ba3-94e8-6f5d7374a116",
   "metadata": {},
   "outputs": [],
   "source": [
    "import scanpy as sc"
   ]
  },
  {
   "cell_type": "code",
   "execution_count": 3,
   "id": "08384ddc-06a5-4f5c-9089-e7785abeeaa6",
   "metadata": {},
   "outputs": [],
   "source": [
    "from arboreto.utils import load_tf_names"
   ]
  },
  {
   "cell_type": "code",
   "execution_count": 4,
   "id": "7bd32a35-3e92-4260-bb86-f8325aac9d29",
   "metadata": {},
   "outputs": [],
   "source": [
    "from dask.distributed import Client\n",
    "from dask_jobqueue import SLURMCluster\n",
    "import subprocess as sp"
   ]
  },
  {
   "cell_type": "code",
   "execution_count": 5,
   "id": "284834f0-6e0c-443d-bbe3-18e0a4451887",
   "metadata": {},
   "outputs": [],
   "source": [
    "from arboreto.algo import grnboost2\n",
    "import distributed"
   ]
  },
  {
   "cell_type": "code",
   "execution_count": 6,
   "id": "a9f6f81d-cb40-49d9-8bb4-d1f8b9b4d771",
   "metadata": {
    "editable": true,
    "slideshow": {
     "slide_type": ""
    },
    "tags": []
   },
   "outputs": [],
   "source": [
    "def fetch_adata(adata):\n",
    "    return csc_matrix(adata.X).toarray(), adata.var_names.values, adata.obs_names.values"
   ]
  },
  {
   "cell_type": "code",
   "execution_count": 7,
   "id": "a9bee481-43c9-49bc-b83f-2a2cc5a3c4e4",
   "metadata": {
    "editable": true,
    "slideshow": {
     "slide_type": ""
    },
    "tags": []
   },
   "outputs": [],
   "source": [
    "data_dir = \"/home/igarzonalva/Proyecto_SC_TNBC/GSE161529/Integration/adata/adata_GenAnno.h5ad\"\n",
    "tf_dir = \"/home/igarzonalva/Proyecto_SC_TNBC/GSE161529/grn/Common_files/TF_names_v_1.01.txt\"\n",
    "network_dir = \"/home/igarzonalva/Proyecto_SC_TNBC/GSE161529/grn\""
   ]
  },
  {
   "cell_type": "code",
   "execution_count": 8,
   "id": "f8a1de31-56c4-4f0b-81f5-a7ef3707d9f9",
   "metadata": {
    "editable": true,
    "slideshow": {
     "slide_type": ""
    },
    "tags": []
   },
   "outputs": [],
   "source": [
    "adata = sc.read_h5ad(data_dir)\n",
    "tf_names = load_tf_names(tf_dir)"
   ]
  },
  {
   "cell_type": "code",
   "execution_count": 9,
   "id": "82bf5ae8-18c1-4104-9b47-3b9920b8973e",
   "metadata": {},
   "outputs": [
    {
     "name": "stdout",
     "output_type": "stream",
     "text": [
      "<class 'numpy.ndarray'>\n",
      "(59062, 18088)\n",
      "the number of genes is 18088\n",
      "Out of 18088 genes, 1375 are TFs\n"
     ]
    },
    {
     "name": "stderr",
     "output_type": "stream",
     "text": [
      "/home/igarzonalva/.conda/envs/pyscenic-git-env/lib/python3.10/site-packages/distributed/client.py:3169: UserWarning: Sending large graph of size 3.72 GiB.\n",
      "This may cause some slowdown.\n",
      "Consider scattering data ahead of time and using futures.\n",
      "  warnings.warn(\n"
     ]
    }
   ],
   "source": [
    "for tumor_type in ['ER', 'HER2', 'TNBC']:\n",
    "    adata_sub = adata[adata.obs['subtype'] == tumor_type,:].copy()\n",
    "    mat, genes, cells = fetch_adata(adata_sub)\n",
    "    n_genes = len(genes)\n",
    "    gene_names = pd.Series(genes)\n",
    "    n_matching_genes = gene_names.isin(tf_names).sum() # cuántos de los genes de la matriz de expresión son TFs\n",
    "    print(type(mat))\n",
    "    print(mat.shape)\n",
    "    print(f'the number of genes is {n_genes}')\n",
    "    print(f'Out of {n_genes} genes, {n_matching_genes} are TFs')\n",
    "    portdash = 40748\n",
    "    cluster = SLURMCluster(queue = \"short\", cores=16, processes=1, \n",
    "                       memory=\"16GB\", walltime=\"05:00:00\",\n",
    "                       scheduler_options={\"dashboard_address\": f\":{portdash}\"})\n",
    "    cluster.scale(10)\n",
    "    client = Client(cluster)\n",
    "    network = grnboost2(\n",
    "                expression_data=mat,\n",
    "                gene_names=genes,\n",
    "                tf_names=tf_names,\n",
    "                client_or_address=client)\n",
    "    network_file = os.path.join(network_dir, f\"{tumor_type}_network.tsv\")\n",
    "    network.to_csv(network_file, sep='\\t', header=False, index=False)\n",
    "    \n",
    "    client.close()\n",
    "    cluster.close()"
   ]
  },
  {
   "cell_type": "code",
   "execution_count": null,
   "id": "81996658-6d2d-4fc1-8039-0c3a28e3f217",
   "metadata": {},
   "outputs": [],
   "source": []
  },
  {
   "cell_type": "code",
   "execution_count": null,
   "id": "e908b690-e74d-4b42-a88f-459bac882aa2",
   "metadata": {},
   "outputs": [],
   "source": []
  },
  {
   "cell_type": "code",
   "execution_count": null,
   "id": "f917c263-fcec-4a68-97c7-84d3af31e454",
   "metadata": {
    "editable": true,
    "slideshow": {
     "slide_type": ""
    },
    "tags": []
   },
   "outputs": [],
   "source": []
  }
 ],
 "metadata": {
  "kernelspec": {
   "display_name": "Python (pyscenic-git-env)",
   "language": "python",
   "name": "pyscenic-git-env"
  },
  "language_info": {
   "codemirror_mode": {
    "name": "ipython",
    "version": 3
   },
   "file_extension": ".py",
   "mimetype": "text/x-python",
   "name": "python",
   "nbconvert_exporter": "python",
   "pygments_lexer": "ipython3",
   "version": "3.10.16"
  }
 },
 "nbformat": 4,
 "nbformat_minor": 5
}
