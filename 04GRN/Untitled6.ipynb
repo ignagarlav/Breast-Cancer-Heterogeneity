{
 "cells": [
  {
   "cell_type": "code",
   "execution_count": 1,
   "id": "f17b9f85-42bd-4b51-917a-59e028cae59b",
   "metadata": {},
   "outputs": [],
   "source": [
    "import scanpy as sc\n",
    "data_dir = \"/home/igarzonalva/Proyecto_SC_TNBC/GSE161529/02_Integration/adata/adata_scanvi_cuda_refinement.h5ad\"\n",
    "adata = sc.read_h5ad(data_dir)"
   ]
  },
  {
   "cell_type": "code",
   "execution_count": 2,
   "id": "1b490b22-a99b-446e-8213-be09e715a8bb",
   "metadata": {},
   "outputs": [],
   "source": [
    "from arboreto.utils import load_tf_names\n",
    "tf_dir = \"/home/igarzonalva/Proyecto_SC_TNBC/GSE161529/04_grn/Common_files/TF_names_v_1.01.txt\"\n",
    "tf_names = load_tf_names(tf_dir)"
   ]
  },
  {
   "cell_type": "code",
   "execution_count": 3,
   "id": "21619d19-329d-4728-a396-4957bc803044",
   "metadata": {},
   "outputs": [],
   "source": [
    "from dask.distributed import Client\n",
    "from dask_jobqueue import SLURMCluster"
   ]
  },
  {
   "cell_type": "code",
   "execution_count": 6,
   "id": "b221a1a7-eb78-4646-97f6-59eb972f38a9",
   "metadata": {},
   "outputs": [
    {
     "name": "stderr",
     "output_type": "stream",
     "text": [
      "/home/igarzonalva/.conda/envs/arboreto-env/lib/python3.10/site-packages/distributed/node.py:182: UserWarning: Port 8787 is already in use.\n",
      "Perhaps you already have a cluster running?\n",
      "Hosting the HTTP server on port 39459 instead\n",
      "  warnings.warn(\n"
     ]
    }
   ],
   "source": [
    "cluster = SLURMCluster(queue = \"short\", cores=8, processes=1, \n",
    "                       memory=\"16GB\", walltime=\"05:00:00\", \n",
    "                      scheduler_options={\"host\": 'nodo10'})"
   ]
  },
  {
   "cell_type": "code",
   "execution_count": 7,
   "id": "1a7a5e79-40e2-47fa-853c-c89002024265",
   "metadata": {},
   "outputs": [
    {
     "data": {
      "text/html": [
       "<div class=\"jp-RenderedHTMLCommon jp-RenderedHTML jp-mod-trusted jp-OutputArea-output\">\n",
       "    <div style=\"width: 24px; height: 24px; background-color: #e1e1e1; border: 3px solid #9D9D9D; border-radius: 5px; position: absolute;\">\n",
       "    </div>\n",
       "    <div style=\"margin-left: 48px;\">\n",
       "        <h3 style=\"margin-bottom: 0px; margin-top: 0px;\">SLURMCluster</h3>\n",
       "        <p style=\"color: #9D9D9D; margin-bottom: 0px;\">f28dba72</p>\n",
       "        <table style=\"width: 100%; text-align: left;\">\n",
       "            <tr>\n",
       "                <td style=\"text-align: left;\">\n",
       "                    <strong>Dashboard:</strong> <a href=\"http://172.16.2.10:39459/status\" target=\"_blank\">http://172.16.2.10:39459/status</a>\n",
       "                </td>\n",
       "                <td style=\"text-align: left;\">\n",
       "                    <strong>Workers:</strong> 0\n",
       "                </td>\n",
       "            </tr>\n",
       "            <tr>\n",
       "                <td style=\"text-align: left;\">\n",
       "                    <strong>Total threads:</strong> 0\n",
       "                </td>\n",
       "                <td style=\"text-align: left;\">\n",
       "                    <strong>Total memory:</strong> 0 B\n",
       "                </td>\n",
       "            </tr>\n",
       "            \n",
       "        </table>\n",
       "\n",
       "        <details>\n",
       "            <summary style=\"margin-bottom: 20px;\">\n",
       "                <h3 style=\"display: inline;\">Scheduler Info</h3>\n",
       "            </summary>\n",
       "\n",
       "            <div style=\"\">\n",
       "    <div>\n",
       "        <div style=\"width: 24px; height: 24px; background-color: #FFF7E5; border: 3px solid #FF6132; border-radius: 5px; position: absolute;\"> </div>\n",
       "        <div style=\"margin-left: 48px;\">\n",
       "            <h3 style=\"margin-bottom: 0px;\">Scheduler</h3>\n",
       "            <p style=\"color: #9D9D9D; margin-bottom: 0px;\">Scheduler-13fa2cce-f46e-4349-880f-2a8898c14298</p>\n",
       "            <table style=\"width: 100%; text-align: left;\">\n",
       "                <tr>\n",
       "                    <td style=\"text-align: left;\">\n",
       "                        <strong>Comm:</strong> tcp://172.16.2.10:40951\n",
       "                    </td>\n",
       "                    <td style=\"text-align: left;\">\n",
       "                        <strong>Workers:</strong> 0\n",
       "                    </td>\n",
       "                </tr>\n",
       "                <tr>\n",
       "                    <td style=\"text-align: left;\">\n",
       "                        <strong>Dashboard:</strong> <a href=\"http://172.16.2.10:39459/status\" target=\"_blank\">http://172.16.2.10:39459/status</a>\n",
       "                    </td>\n",
       "                    <td style=\"text-align: left;\">\n",
       "                        <strong>Total threads:</strong> 0\n",
       "                    </td>\n",
       "                </tr>\n",
       "                <tr>\n",
       "                    <td style=\"text-align: left;\">\n",
       "                        <strong>Started:</strong> Just now\n",
       "                    </td>\n",
       "                    <td style=\"text-align: left;\">\n",
       "                        <strong>Total memory:</strong> 0 B\n",
       "                    </td>\n",
       "                </tr>\n",
       "            </table>\n",
       "        </div>\n",
       "    </div>\n",
       "\n",
       "    <details style=\"margin-left: 48px;\">\n",
       "        <summary style=\"margin-bottom: 20px;\">\n",
       "            <h3 style=\"display: inline;\">Workers</h3>\n",
       "        </summary>\n",
       "\n",
       "        \n",
       "\n",
       "    </details>\n",
       "</div>\n",
       "\n",
       "        </details>\n",
       "    </div>\n",
       "</div>"
      ],
      "text/plain": [
       "SLURMCluster(f28dba72, 'tcp://172.16.2.10:40951', workers=0, threads=0, memory=0 B)"
      ]
     },
     "metadata": {},
     "output_type": "display_data"
    }
   ],
   "source": [
    "cluster"
   ]
  },
  {
   "cell_type": "code",
   "execution_count": 27,
   "id": "a6d56b3e-d5d6-4615-9ae8-f1c91bdb80e1",
   "metadata": {},
   "outputs": [
    {
     "data": {
      "text/plain": [
       "AAACCTGCAAGCGTAG-1-GSM4909281    TNBC\n",
       "AAACCTGCAATAGAGT-1-GSM4909281    TNBC\n",
       "AAACCTGCAATTGCTG-1-GSM4909281    TNBC\n",
       "AAACCTGCACTCAGGC-1-GSM4909281    TNBC\n",
       "AAACCTGCAGTGACAG-1-GSM4909281    TNBC\n",
       "                                 ... \n",
       "TTTGTTGGTGGGTATG-1-GSM4909317      ER\n",
       "TTTGTTGTCACTTTGT-1-GSM4909317      ER\n",
       "TTTGTTGTCGCACGGT-1-GSM4909317      ER\n",
       "TTTGTTGTCTCCCTAG-1-GSM4909317      ER\n",
       "TTTGTTGTCTCGGTAA-1-GSM4909317      ER\n",
       "Name: subtype, Length: 202731, dtype: category\n",
       "Categories (4, object): ['ER', 'HER2', 'TNBC', 'TNBC_BRCA']"
      ]
     },
     "execution_count": 27,
     "metadata": {},
     "output_type": "execute_result"
    }
   ],
   "source": [
    "adata.obs.subtype "
   ]
  },
  {
   "cell_type": "code",
   "execution_count": 34,
   "id": "c4285fc0-d5ce-49ef-8d46-eddbfb7ecf32",
   "metadata": {},
   "outputs": [
    {
     "data": {
      "text/plain": [
       "AnnData object with n_obs × n_vars = 202731 × 22788\n",
       "    obs: 'batch', 'subtype', 'n_genes_by_counts', 'log1p_n_genes_by_counts', 'total_counts', 'log1p_total_counts', 'pct_counts_in_top_50_genes', 'pct_counts_in_top_100_genes', 'pct_counts_in_top_200_genes', 'pct_counts_in_top_500_genes', 'total_counts_mt', 'log1p_total_counts_mt', 'pct_counts_mt', 'complexity', 'n_genes', 'n_counts', 'predicted_labels', 'over_clustering', 'majority_voting', 'doublet_score', 'predicted_doublet', 'leiden', 'IGA_First_GenAnno', 'scanvi_prediction', 'IGA_PostScAnvi_GenAnno_colors'\n",
       "    var: 'highly_variable', 'highly_variable_rank', 'means', 'variances', 'variances_norm'\n",
       "    uns: 'IGA_PostScAnvi_GenAnno_colors_colors', 'batch_colors', 'hvg', 'leiden', 'leiden_colors', 'log1p', 'majority_voting_colors', 'neighbors', 'predicted_labels_colors', 'scanvi_prediction_colors', 'subtype_colors', 'umap'\n",
       "    obsm: 'X_scANVI', 'X_scVI', 'X_umap'\n",
       "    layers: 'counts'\n",
       "    obsp: 'connectivities', 'distances'"
      ]
     },
     "execution_count": 34,
     "metadata": {},
     "output_type": "execute_result"
    }
   ],
   "source": [
    "adata"
   ]
  },
  {
   "cell_type": "code",
   "execution_count": 39,
   "id": "1ad30283-536a-4db3-98c4-2a0c0257d787",
   "metadata": {},
   "outputs": [],
   "source": [
    "adata_tnbc = adata[adata.obs['subtype'] == 'TNBC'].copy()"
   ]
  },
  {
   "cell_type": "code",
   "execution_count": 42,
   "id": "732d2595-aa83-44c1-854d-a7bfb0f5d017",
   "metadata": {},
   "outputs": [],
   "source": [
    "exp_mat = adata_tnbc.X.toarray()"
   ]
  },
  {
   "cell_type": "code",
   "execution_count": 43,
   "id": "6ee4d848-9fc2-4b6e-a2ef-52a5cb98a644",
   "metadata": {},
   "outputs": [
    {
     "data": {
      "text/plain": [
       "(20721, 22788)"
      ]
     },
     "execution_count": 43,
     "metadata": {},
     "output_type": "execute_result"
    }
   ],
   "source": [
    "exp_mat.shape"
   ]
  },
  {
   "cell_type": "code",
   "execution_count": 59,
   "id": "093ed21d-b07e-43a3-98a8-9bbc9e23a77e",
   "metadata": {},
   "outputs": [],
   "source": [
    "import pandas as pd\n",
    "df_expr = pd.DataFrame(exp_mat, index = adata_tnbc.obs.index, columns = adata_tnbc.var_names)"
   ]
  },
  {
   "cell_type": "code",
   "execution_count": 61,
   "id": "f8fcb366-31b5-4099-9b19-a6c6f280a19e",
   "metadata": {},
   "outputs": [
    {
     "name": "stderr",
     "output_type": "stream",
     "text": [
      "/tmp/ipykernel_44628/3004014686.py:1: DeprecationWarning: The current Dask DataFrame implementation is deprecated. \n",
      "In a future release, Dask DataFrame will use a new implementation that\n",
      "contains several improvements including a logical query planning.\n",
      "The user-facing DataFrame API will remain unchanged.\n",
      "\n",
      "The new implementation is already available and can be enabled by\n",
      "installing the dask-expr library:\n",
      "\n",
      "    $ pip install dask-expr\n",
      "\n",
      "and turning the query planning option on:\n",
      "\n",
      "    >>> import dask\n",
      "    >>> dask.config.set({'dataframe.query-planning': True})\n",
      "    >>> import dask.dataframe as dd\n",
      "\n",
      "API documentation for the new implementation is available at\n",
      "https://docs.dask.org/en/stable/dask-expr-api.html\n",
      "\n",
      "Any feedback can be reported on the Dask issue tracker\n",
      "https://github.com/dask/dask/issues \n",
      "\n",
      "To disable this warning in the future, set dask config:\n",
      "\n",
      "    # via Python\n",
      "    >>> dask.config.set({'dataframe.query-planning-warning': False})\n",
      "\n",
      "    # via CLI\n",
      "    dask config set dataframe.query-planning-warning False\n",
      "\n",
      "\n",
      "  import dask.dataframe as dd\n"
     ]
    }
   ],
   "source": [
    "import dask.dataframe as dd\n",
    "\n",
    "df_expr_dask = dd.from_pandas(df_expr, npartitions=(len(df_expr) // 1000) or 1)\n"
   ]
  },
  {
   "cell_type": "code",
   "execution_count": 51,
   "id": "75837e1a-03a0-4870-9e51-b7bd993a7808",
   "metadata": {},
   "outputs": [],
   "source": [
    "import numpy as np"
   ]
  },
  {
   "cell_type": "code",
   "execution_count": 53,
   "id": "483b5bf2-c991-48a2-8e32-171b3dc92c7c",
   "metadata": {},
   "outputs": [
    {
     "data": {
      "text/plain": [
       "array([ 1215,  1891,  2906, ..., 22781, 22782, 22783])"
      ]
     },
     "execution_count": 53,
     "metadata": {},
     "output_type": "execute_result"
    }
   ],
   "source": [
    "mask = adata_tnbc.var_names.isin(tf_names)\n",
    "tf_indices = np.where(mask)[0]   # numeric indices\n",
    "tf_indices"
   ]
  },
  {
   "cell_type": "code",
   "execution_count": 63,
   "id": "c2636451-787b-4fa6-8e83-6beb1e9b328b",
   "metadata": {},
   "outputs": [
    {
     "ename": "ModuleNotFoundError",
     "evalue": "No module named 'xgboost'",
     "output_type": "error",
     "traceback": [
      "\u001b[0;31m---------------------------------------------------------------------------\u001b[0m",
      "\u001b[0;31mModuleNotFoundError\u001b[0m                       Traceback (most recent call last)",
      "Cell \u001b[0;32mIn[63], line 1\u001b[0m\n\u001b[0;32m----> 1\u001b[0m \u001b[38;5;28;01mfrom\u001b[39;00m\u001b[38;5;250m \u001b[39m\u001b[38;5;21;01mxgboost\u001b[39;00m\u001b[38;5;21;01m.\u001b[39;00m\u001b[38;5;21;01mdask\u001b[39;00m\u001b[38;5;250m \u001b[39m\u001b[38;5;28;01mimport\u001b[39;00m DaskXGBRegressor\n\u001b[1;32m      2\u001b[0m \u001b[38;5;28;01mfrom\u001b[39;00m\u001b[38;5;250m \u001b[39m\u001b[38;5;21;01mdask_ml\u001b[39;00m\u001b[38;5;21;01m.\u001b[39;00m\u001b[38;5;21;01mmetrics\u001b[39;00m\u001b[38;5;250m \u001b[39m\u001b[38;5;28;01mimport\u001b[39;00m mean_squared_error\n\u001b[1;32m      4\u001b[0m \u001b[38;5;28;01mdef\u001b[39;00m\u001b[38;5;250m \u001b[39m\u001b[38;5;21mtrain_models_for_genes\u001b[39m(client, df_expr_dask, tf_list, gene_list):\n",
      "\u001b[0;31mModuleNotFoundError\u001b[0m: No module named 'xgboost'"
     ]
    }
   ],
   "source": [
    "from xgboost.dask import DaskXGBRegressor\n",
    "from dask_ml.metrics import mean_squared_error\n",
    "\n",
    "def train_models_for_genes(client, df_expr_dask, tf_list, gene_list):\n",
    "    results = {}\n",
    "    \n",
    "    for gene in gene_list:\n",
    "        X = df_expr_dask[tf_list]\n",
    "        y = df_expr_dask[gene]\n",
    "        \n",
    "        # Create a Dask XGB model (or any other regressor)\n",
    "        model = DaskXGBRegressor(tree_method=\"hist\")\n",
    "        \n",
    "        # Fit on the distributed dataframe\n",
    "        model.fit(X, y)\n",
    "        \n",
    "    \n",
    "    return results"
   ]
  },
  {
   "cell_type": "code",
   "execution_count": null,
   "id": "e0bfd2eb-3401-4a65-aff0-efbe00d2b6ee",
   "metadata": {},
   "outputs": [],
   "source": []
  },
  {
   "cell_type": "code",
   "execution_count": null,
   "id": "b3b5e0ca-8753-4939-a6f6-cd1ad0df2234",
   "metadata": {},
   "outputs": [],
   "source": [
    "def train_gbr_for_each_gene(client, df, tf_list, gene_list, n_folds=5):\n",
    "    \"\"\"\n",
    "    For each gene in gene_list:\n",
    "      - Use the columns in tf_list as features (X).\n",
    "      - Use the gene column as target (y).\n",
    "      - Perform cross-validation with XGBoost (hist mode).\n",
    "      - Return a dict of {gene: (mean_mse, std_mse)}.\n",
    "    \"\"\"\n",
    "    results = {}\n",
    "    \n",
    "    for gene in gene_list:\n",
    "        print(f\"\\n=== Training for target gene: {gene} ===\")\n",
    "        \n",
    "        # Collect cross-validation scores\n",
    "        scores = []\n",
    "        \n",
    "        for fold_idx, (train_dd, test_dd) in enumerate(make_cv_splits(df, n_folds=n_folds)):\n",
    "            print(f\"  Fold {fold_idx+1} of {n_folds} ...\")\n",
    "            \n",
    "            # X = TF columns, y = current target gene column\n",
    "            X_train = train_dd[tf_list]\n",
    "            y_train = train_dd[gene]\n",
    "            X_test  = test_dd[tf_list]\n",
    "            y_test  = test_dd[gene]\n",
    "\n",
    "            # Create DaskDMatrix\n",
    "            dtrain = xgboost.dask.DaskDMatrix(client, X_train, y_train)\n",
    "            \n",
    "            # Train gradient boosting regressor\n",
    "            model_out = xgboost.dask.train(\n",
    "                client,\n",
    "                params={\"tree_method\": \"hist\"},\n",
    "                dtrain=dtrain,\n",
    "                num_boost_round=50,   # Example hyperparameter\n",
    "            )\n",
    "            \n",
    "            # Predict\n",
    "            preds = xgboost.dask.predict(client, model_out, X_test)\n",
    "            \n",
    "            # Compute MSE on this fold (lazy)\n",
    "            fold_mse = mean_squared_error(\n",
    "                y_test.to_dask_array(), \n",
    "                preds.to_dask_array(),\n",
    "                squared=True,  # or False if you want RMSE\n",
    "                compute=False\n",
    "            )\n",
    "            \n",
    "            # Persist to trigger computation later\n",
    "            scores.append(fold_mse.persist())\n",
    "        \n",
    "        # Bring all fold scores together\n",
    "        scores_array = da.concatenate(scores).compute()\n",
    "        mean_mse = scores_array.mean()\n",
    "        std_mse = scores_array.std()\n",
    "        \n",
    "        print(f\"Gene {gene}: MSE={mean_mse:.4f} +/- {std_mse:.4f}\")\n",
    "        results[gene] = (mean_mse, std_mse)\n",
    "    \n",
    "    return results\n"
   ]
  }
 ],
 "metadata": {
  "kernelspec": {
   "display_name": "Python (arboreto-env)",
   "language": "python",
   "name": "arboreto-env"
  },
  "language_info": {
   "codemirror_mode": {
    "name": "ipython",
    "version": 3
   },
   "file_extension": ".py",
   "mimetype": "text/x-python",
   "name": "python",
   "nbconvert_exporter": "python",
   "pygments_lexer": "ipython3",
   "version": "3.10.16"
  }
 },
 "nbformat": 4,
 "nbformat_minor": 5
}
