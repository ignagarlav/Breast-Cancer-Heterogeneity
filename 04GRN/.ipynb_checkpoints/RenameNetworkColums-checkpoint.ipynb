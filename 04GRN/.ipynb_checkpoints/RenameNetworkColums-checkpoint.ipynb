{
 "cells": [
  {
   "cell_type": "code",
   "execution_count": 1,
   "id": "56e99993-0acf-4291-a55b-e0022d4bc840",
   "metadata": {},
   "outputs": [],
   "source": [
    "import pandas as pd"
   ]
  },
  {
   "cell_type": "code",
   "execution_count": 2,
   "id": "0c040432-a286-438e-90cf-a1ec1dd0cadd",
   "metadata": {},
   "outputs": [],
   "source": [
    "ADJACENCIES_FNAME = \"/home/igarzonalva/Proyecto_SC_TNBC/GSE161529/grn/Networks/\""
   ]
  },
  {
   "cell_type": "code",
   "execution_count": 3,
   "id": "01eb7a50-0ede-4d05-b9b0-8cdb982c1264",
   "metadata": {},
   "outputs": [],
   "source": [
    "for tumor in ['ER','HER2','TNBC']:\n",
    "    ady_dir = f\"/home/igarzonalva/Proyecto_SC_TNBC/GSE161529/grn/Networks/{tumor}_network.tsv\"\n",
    "    adjacencies = pd.read_csv(ady_dir, sep='\\t', names = ['TF','target','importance'])\n",
    "    adjacencies.to_csv(ady_dir,sep='\\t', header = True)"
   ]
  },
  {
   "cell_type": "code",
   "execution_count": null,
   "id": "1b1a54b3-7b9e-4eac-9032-621c715eaa2c",
   "metadata": {},
   "outputs": [],
   "source": []
  }
 ],
 "metadata": {
  "kernelspec": {
   "display_name": "Python (pyscenic-git-env)",
   "language": "python",
   "name": "pyscenic-git-env"
  },
  "language_info": {
   "codemirror_mode": {
    "name": "ipython",
    "version": 3
   },
   "file_extension": ".py",
   "mimetype": "text/x-python",
   "name": "python",
   "nbconvert_exporter": "python",
   "pygments_lexer": "ipython3",
   "version": "3.10.16"
  }
 },
 "nbformat": 4,
 "nbformat_minor": 5
}
