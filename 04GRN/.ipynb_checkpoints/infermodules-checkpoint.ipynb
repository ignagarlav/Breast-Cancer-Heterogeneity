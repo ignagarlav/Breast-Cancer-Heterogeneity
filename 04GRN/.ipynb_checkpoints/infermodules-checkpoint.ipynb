{
 "cells": [
  {
   "cell_type": "code",
   "execution_count": 1,
   "id": "767e6922-3016-41cf-9ee9-c00d38279d9f",
   "metadata": {},
   "outputs": [],
   "source": [
    "import scanpy as sc\n",
    "from scipy.sparse import csc_matrix\n",
    "import pandas as pd"
   ]
  },
  {
   "cell_type": "code",
   "execution_count": 2,
   "id": "0a90d986-ad1d-4bce-a767-2794b3f92cc6",
   "metadata": {},
   "outputs": [],
   "source": [
    "data_dir = \"/home/igarzonalva/Proyecto_SC_TNBC/GSE161529/Integration/adata/adata_GenAnno.h5ad\"\n",
    "ADJACENCIES_FNAME = \"/home/igarzonalva/Proyecto_SC_TNBC/GSE161529/grn/ER_network.tsv\""
   ]
  },
  {
   "cell_type": "code",
   "execution_count": 3,
   "id": "b6634223-2425-49b5-accd-764020d4c54c",
   "metadata": {},
   "outputs": [],
   "source": [
    "adata = sc.read_h5ad(data_dir)"
   ]
  },
  {
   "cell_type": "code",
   "execution_count": 4,
   "id": "70eaf4be-fc98-4ccb-a1f8-7d14e730cf92",
   "metadata": {},
   "outputs": [],
   "source": [
    "def fetch_exp_matrix(adata, tumor):\n",
    "    adata_tumor = adata[adata.obs['subtype'] == tumor,:].copy()\n",
    "    \n",
    "    return(pd.DataFrame(\n",
    "        data = adata_tumor.X.toarray(),\n",
    "        index = adata_tumor.obs_names.values,\n",
    "        columns = adata_tumor.var_names.values))"
   ]
  },
  {
   "cell_type": "code",
   "execution_count": 5,
   "id": "da0da3cd-5f26-4029-b475-c910add97ac2",
   "metadata": {},
   "outputs": [],
   "source": [
    "exp_matrix = fetch_exp_matrix(adata, 'ER')"
   ]
  },
  {
   "cell_type": "code",
   "execution_count": 6,
   "id": "c0ee5b63-e9fe-4281-9111-c868a8302137",
   "metadata": {},
   "outputs": [
    {
     "data": {
      "text/plain": [
       "(61800, 18088)"
      ]
     },
     "execution_count": 6,
     "metadata": {},
     "output_type": "execute_result"
    }
   ],
   "source": [
    "exp_matrix.shape # should be cells x genes"
   ]
  },
  {
   "cell_type": "code",
   "execution_count": 7,
   "id": "28bd4338-1c50-40de-999c-fafdeb0c028c",
   "metadata": {},
   "outputs": [
    {
     "data": {
      "text/html": [
       "<div>\n",
       "<style scoped>\n",
       "    .dataframe tbody tr th:only-of-type {\n",
       "        vertical-align: middle;\n",
       "    }\n",
       "\n",
       "    .dataframe tbody tr th {\n",
       "        vertical-align: top;\n",
       "    }\n",
       "\n",
       "    .dataframe thead th {\n",
       "        text-align: right;\n",
       "    }\n",
       "</style>\n",
       "<table border=\"1\" class=\"dataframe\">\n",
       "  <thead>\n",
       "    <tr style=\"text-align: right;\">\n",
       "      <th></th>\n",
       "      <th>A1BG</th>\n",
       "      <th>A1BG-AS1</th>\n",
       "      <th>A2M</th>\n",
       "      <th>A2M-AS1</th>\n",
       "      <th>A2ML1</th>\n",
       "      <th>A4GALT</th>\n",
       "      <th>AAAS</th>\n",
       "      <th>AACS</th>\n",
       "      <th>AADAC</th>\n",
       "      <th>AADAT</th>\n",
       "      <th>...</th>\n",
       "      <th>ZW10</th>\n",
       "      <th>ZWILCH</th>\n",
       "      <th>ZWINT</th>\n",
       "      <th>ZXDA</th>\n",
       "      <th>ZXDB</th>\n",
       "      <th>ZXDC</th>\n",
       "      <th>ZYG11A</th>\n",
       "      <th>ZYG11B</th>\n",
       "      <th>ZYX</th>\n",
       "      <th>ZZEF1</th>\n",
       "    </tr>\n",
       "  </thead>\n",
       "  <tbody>\n",
       "    <tr>\n",
       "      <th>AAACCCAAGGACGGAG-1-MH0151-</th>\n",
       "      <td>0.000000</td>\n",
       "      <td>0.0</td>\n",
       "      <td>0.00000</td>\n",
       "      <td>0.0</td>\n",
       "      <td>0.0</td>\n",
       "      <td>0.0</td>\n",
       "      <td>0.0</td>\n",
       "      <td>0.0</td>\n",
       "      <td>0.0</td>\n",
       "      <td>0.0</td>\n",
       "      <td>...</td>\n",
       "      <td>0.0</td>\n",
       "      <td>0.000000</td>\n",
       "      <td>0.0</td>\n",
       "      <td>0.000000</td>\n",
       "      <td>0.0</td>\n",
       "      <td>0.0</td>\n",
       "      <td>0.0</td>\n",
       "      <td>0.000000</td>\n",
       "      <td>0.000000</td>\n",
       "      <td>0.0</td>\n",
       "    </tr>\n",
       "    <tr>\n",
       "      <th>AAACCCACAGCGTTTA-1-MH0151-</th>\n",
       "      <td>0.000000</td>\n",
       "      <td>0.0</td>\n",
       "      <td>0.00000</td>\n",
       "      <td>0.0</td>\n",
       "      <td>0.0</td>\n",
       "      <td>0.0</td>\n",
       "      <td>0.0</td>\n",
       "      <td>0.0</td>\n",
       "      <td>0.0</td>\n",
       "      <td>0.0</td>\n",
       "      <td>...</td>\n",
       "      <td>0.0</td>\n",
       "      <td>0.000000</td>\n",
       "      <td>0.0</td>\n",
       "      <td>0.000000</td>\n",
       "      <td>0.0</td>\n",
       "      <td>0.0</td>\n",
       "      <td>0.0</td>\n",
       "      <td>0.000000</td>\n",
       "      <td>0.000000</td>\n",
       "      <td>0.0</td>\n",
       "    </tr>\n",
       "    <tr>\n",
       "      <th>AAACCCAGTATCAAGA-1-MH0151-</th>\n",
       "      <td>0.000000</td>\n",
       "      <td>0.0</td>\n",
       "      <td>0.00000</td>\n",
       "      <td>0.0</td>\n",
       "      <td>0.0</td>\n",
       "      <td>0.0</td>\n",
       "      <td>0.0</td>\n",
       "      <td>0.0</td>\n",
       "      <td>0.0</td>\n",
       "      <td>0.0</td>\n",
       "      <td>...</td>\n",
       "      <td>0.0</td>\n",
       "      <td>0.944043</td>\n",
       "      <td>0.0</td>\n",
       "      <td>0.944043</td>\n",
       "      <td>0.0</td>\n",
       "      <td>0.0</td>\n",
       "      <td>0.0</td>\n",
       "      <td>0.944043</td>\n",
       "      <td>0.000000</td>\n",
       "      <td>0.0</td>\n",
       "    </tr>\n",
       "    <tr>\n",
       "      <th>AAACGAAAGACCAACG-1-MH0151-</th>\n",
       "      <td>0.658898</td>\n",
       "      <td>0.0</td>\n",
       "      <td>0.00000</td>\n",
       "      <td>0.0</td>\n",
       "      <td>0.0</td>\n",
       "      <td>0.0</td>\n",
       "      <td>0.0</td>\n",
       "      <td>0.0</td>\n",
       "      <td>0.0</td>\n",
       "      <td>0.0</td>\n",
       "      <td>...</td>\n",
       "      <td>0.0</td>\n",
       "      <td>0.000000</td>\n",
       "      <td>0.0</td>\n",
       "      <td>0.000000</td>\n",
       "      <td>0.0</td>\n",
       "      <td>0.0</td>\n",
       "      <td>0.0</td>\n",
       "      <td>0.000000</td>\n",
       "      <td>0.382763</td>\n",
       "      <td>0.0</td>\n",
       "    </tr>\n",
       "    <tr>\n",
       "      <th>AAACGAAGTCGAACGA-1-MH0151-</th>\n",
       "      <td>0.000000</td>\n",
       "      <td>0.0</td>\n",
       "      <td>2.73564</td>\n",
       "      <td>0.0</td>\n",
       "      <td>0.0</td>\n",
       "      <td>0.0</td>\n",
       "      <td>0.0</td>\n",
       "      <td>0.0</td>\n",
       "      <td>0.0</td>\n",
       "      <td>0.0</td>\n",
       "      <td>...</td>\n",
       "      <td>0.0</td>\n",
       "      <td>0.000000</td>\n",
       "      <td>0.0</td>\n",
       "      <td>0.000000</td>\n",
       "      <td>0.0</td>\n",
       "      <td>0.0</td>\n",
       "      <td>0.0</td>\n",
       "      <td>0.000000</td>\n",
       "      <td>2.105329</td>\n",
       "      <td>0.0</td>\n",
       "    </tr>\n",
       "  </tbody>\n",
       "</table>\n",
       "<p>5 rows × 18088 columns</p>\n",
       "</div>"
      ],
      "text/plain": [
       "                                A1BG  A1BG-AS1      A2M  A2M-AS1  A2ML1  \\\n",
       "AAACCCAAGGACGGAG-1-MH0151-  0.000000       0.0  0.00000      0.0    0.0   \n",
       "AAACCCACAGCGTTTA-1-MH0151-  0.000000       0.0  0.00000      0.0    0.0   \n",
       "AAACCCAGTATCAAGA-1-MH0151-  0.000000       0.0  0.00000      0.0    0.0   \n",
       "AAACGAAAGACCAACG-1-MH0151-  0.658898       0.0  0.00000      0.0    0.0   \n",
       "AAACGAAGTCGAACGA-1-MH0151-  0.000000       0.0  2.73564      0.0    0.0   \n",
       "\n",
       "                            A4GALT  AAAS  AACS  AADAC  AADAT  ...  ZW10  \\\n",
       "AAACCCAAGGACGGAG-1-MH0151-     0.0   0.0   0.0    0.0    0.0  ...   0.0   \n",
       "AAACCCACAGCGTTTA-1-MH0151-     0.0   0.0   0.0    0.0    0.0  ...   0.0   \n",
       "AAACCCAGTATCAAGA-1-MH0151-     0.0   0.0   0.0    0.0    0.0  ...   0.0   \n",
       "AAACGAAAGACCAACG-1-MH0151-     0.0   0.0   0.0    0.0    0.0  ...   0.0   \n",
       "AAACGAAGTCGAACGA-1-MH0151-     0.0   0.0   0.0    0.0    0.0  ...   0.0   \n",
       "\n",
       "                              ZWILCH  ZWINT      ZXDA  ZXDB  ZXDC  ZYG11A  \\\n",
       "AAACCCAAGGACGGAG-1-MH0151-  0.000000    0.0  0.000000   0.0   0.0     0.0   \n",
       "AAACCCACAGCGTTTA-1-MH0151-  0.000000    0.0  0.000000   0.0   0.0     0.0   \n",
       "AAACCCAGTATCAAGA-1-MH0151-  0.944043    0.0  0.944043   0.0   0.0     0.0   \n",
       "AAACGAAAGACCAACG-1-MH0151-  0.000000    0.0  0.000000   0.0   0.0     0.0   \n",
       "AAACGAAGTCGAACGA-1-MH0151-  0.000000    0.0  0.000000   0.0   0.0     0.0   \n",
       "\n",
       "                              ZYG11B       ZYX  ZZEF1  \n",
       "AAACCCAAGGACGGAG-1-MH0151-  0.000000  0.000000    0.0  \n",
       "AAACCCACAGCGTTTA-1-MH0151-  0.000000  0.000000    0.0  \n",
       "AAACCCAGTATCAAGA-1-MH0151-  0.944043  0.000000    0.0  \n",
       "AAACGAAAGACCAACG-1-MH0151-  0.000000  0.382763    0.0  \n",
       "AAACGAAGTCGAACGA-1-MH0151-  0.000000  2.105329    0.0  \n",
       "\n",
       "[5 rows x 18088 columns]"
      ]
     },
     "execution_count": 7,
     "metadata": {},
     "output_type": "execute_result"
    }
   ],
   "source": [
    "exp_matrix.head()"
   ]
  },
  {
   "cell_type": "code",
   "execution_count": 8,
   "id": "b453694c-bc66-4a0c-840f-4e6d1854edd3",
   "metadata": {},
   "outputs": [],
   "source": [
    "adjacencies = pd.read_csv(ADJACENCIES_FNAME, sep='\\t', names = ['TF','target','importance'])\n"
   ]
  },
  {
   "cell_type": "code",
   "execution_count": 9,
   "id": "16c8c54a-2e03-440a-84cd-890803ab459f",
   "metadata": {},
   "outputs": [
    {
     "data": {
      "text/html": [
       "<div>\n",
       "<style scoped>\n",
       "    .dataframe tbody tr th:only-of-type {\n",
       "        vertical-align: middle;\n",
       "    }\n",
       "\n",
       "    .dataframe tbody tr th {\n",
       "        vertical-align: top;\n",
       "    }\n",
       "\n",
       "    .dataframe thead th {\n",
       "        text-align: right;\n",
       "    }\n",
       "</style>\n",
       "<table border=\"1\" class=\"dataframe\">\n",
       "  <thead>\n",
       "    <tr style=\"text-align: right;\">\n",
       "      <th></th>\n",
       "      <th>TF</th>\n",
       "      <th>target</th>\n",
       "      <th>importance</th>\n",
       "    </tr>\n",
       "  </thead>\n",
       "  <tbody>\n",
       "    <tr>\n",
       "      <th>0</th>\n",
       "      <td>AEBP1</td>\n",
       "      <td>COL6A3</td>\n",
       "      <td>55.260441</td>\n",
       "    </tr>\n",
       "    <tr>\n",
       "      <th>1</th>\n",
       "      <td>AEBP1</td>\n",
       "      <td>COL1A2</td>\n",
       "      <td>53.162171</td>\n",
       "    </tr>\n",
       "    <tr>\n",
       "      <th>2</th>\n",
       "      <td>AEBP1</td>\n",
       "      <td>COL1A1</td>\n",
       "      <td>52.131083</td>\n",
       "    </tr>\n",
       "    <tr>\n",
       "      <th>3</th>\n",
       "      <td>AEBP1</td>\n",
       "      <td>CALD1</td>\n",
       "      <td>50.072608</td>\n",
       "    </tr>\n",
       "    <tr>\n",
       "      <th>4</th>\n",
       "      <td>JUN</td>\n",
       "      <td>FOS</td>\n",
       "      <td>46.435242</td>\n",
       "    </tr>\n",
       "  </tbody>\n",
       "</table>\n",
       "</div>"
      ],
      "text/plain": [
       "      TF  target  importance\n",
       "0  AEBP1  COL6A3   55.260441\n",
       "1  AEBP1  COL1A2   53.162171\n",
       "2  AEBP1  COL1A1   52.131083\n",
       "3  AEBP1   CALD1   50.072608\n",
       "4    JUN     FOS   46.435242"
      ]
     },
     "execution_count": 9,
     "metadata": {},
     "output_type": "execute_result"
    }
   ],
   "source": [
    "adjacencies.head()"
   ]
  },
  {
   "cell_type": "code",
   "execution_count": 10,
   "id": "05b5ce80-439b-4637-89c2-aed932902957",
   "metadata": {},
   "outputs": [],
   "source": [
    "from pyscenic.utils import modules_from_adjacencies"
   ]
  },
  {
   "cell_type": "code",
   "execution_count": null,
   "id": "38fe9e3e-2420-4f07-8896-7b299a0081cf",
   "metadata": {},
   "outputs": [
    {
     "name": "stderr",
     "output_type": "stream",
     "text": [
      "\n",
      "2025-01-04 17:40:17,935 - pyscenic.utils - INFO - Calculating Pearson correlations.\n",
      "\n",
      "2025-01-04 17:40:18,224 - pyscenic.utils - WARNING - Note on correlation calculation: the default behaviour for calculating the correlations has changed after pySCENIC verion 0.9.16. Previously, the default was to calculate the correlation between a TF and target gene using only cells with non-zero expression values (mask_dropouts=True). The current default is now to use all cells to match the behavior of the R verision of SCENIC. The original settings can be retained by setting 'rho_mask_dropouts=True' in the modules_from_adjacencies function, or '--mask_dropouts' from the CLI.\n",
      "\tDropout masking is currently set to [False].\n"
     ]
    }
   ],
   "source": [
    "modules = list(modules_from_adjacencies(adjacencies, exp_matrix))"
   ]
  },
  {
   "cell_type": "code",
   "execution_count": null,
   "id": "61cb02ee-c2bd-49c3-8328-57bf02fdbe37",
   "metadata": {},
   "outputs": [],
   "source": [
    "import loompy"
   ]
  },
  {
   "cell_type": "code",
   "execution_count": null,
   "id": "c93c3cfd-a735-445e-bf89-1cfc8978ce71",
   "metadata": {},
   "outputs": [],
   "source": [
    "# Define file path\n",
    "loom_file = \"expression_matrix.loom\"\n",
    "\n",
    "# Convert DataFrame to a NumPy array (if not already)\n",
    "expression = exp_matrix.T\n",
    "\n",
    "# Prepare row and column attributes\n",
    "row_attrs = {\n",
    "    'Gene': genes\n",
    "}\n",
    "col_attrs = {\n",
    "    'Cell': cells\n",
    "}\n",
    "\n",
    "# Create Loom file\n",
    "loompy.create(loom_file, expression, row_attrs=row_attrs, col_attrs=col_attrs)\n",
    "\n",
    "print(f\"Loom file saved at {loom_file}\")\n"
   ]
  },
  {
   "cell_type": "code",
   "execution_count": null,
   "id": "b9a6db5e-3245-4d90-a2c0-a06c4d76d3ba",
   "metadata": {},
   "outputs": [],
   "source": [
    "from dask_jobqueue import SLURMCluster\n",
    "from distributed import Client"
   ]
  },
  {
   "cell_type": "code",
   "execution_count": null,
   "id": "7864b9b7-dd3f-4c3e-9563-f119019ce029",
   "metadata": {},
   "outputs": [],
   "source": [
    "portdash = 40748\n",
    "cluster = SLURMCluster(queue = \"short\", cores=16, processes=1, \n",
    "                   memory=\"32GB\", walltime=\"05:00:00\",\n",
    "                   scheduler_options={\"dashboard_address\": f\":{portdash}\"})\n",
    "cluster.scale(12)\n",
    "client = Client(cluster)\n",
    "print(client.scheduler.address)\n",
    "scheduler_addr = client.scheduler.address\n"
   ]
  },
  {
   "cell_type": "code",
   "execution_count": null,
   "id": "9d7ad52c-1621-48e3-9f79-17984c8ff861",
   "metadata": {},
   "outputs": [],
   "source": [
    "# Define paths as Python variables for ease of use\n",
    "adj_path = \"/mnt/ER_network.tsv\"\n",
    "f_db_names = \"/mnt/Common_files/databases/*.feather\"\n",
    "f_motif_path = \"/mnt/Common_files/motifs-v10nr_clust-nr.hgnc-m0.001-o0.0.tbl\"\n",
    "exp_matrix = \"/mnt/expression_matrix.loom\"\n",
    "output_path = \"/mnt/regulons.csv\""
   ]
  },
  {
   "cell_type": "code",
   "execution_count": null,
   "id": "62cabf41-e786-4544-abcb-af1ffbd6dc8a",
   "metadata": {},
   "outputs": [],
   "source": [
    "\n",
    "!singularity exec \\\n",
    "  -B /home/igarzonalva/Proyecto_SC_TNBC/GSE161529/grn:/mnt \\\n",
    "  aertslab-pyscenic-scanpy-0.12.1-1.9.1.sif \\\n",
    "  pyscenic ctx \\\n",
    "  /mnt/ER_network.tsv \\\n",
    "  /mnt/Common_files/databases/*.feather \\\n",
    "  --annotations_fname /mnt/Common_files/motifs-v10nr_clust-nr.hgnc-m0.001-o0.0.tbl \\\n",
    "  --expression_mtx_fname /mnt/some_expression.tsv \\\n",
    "  --output /mnt/regulons.csv \\\n",
    "  --num_workers 6\n"
   ]
  },
  {
   "cell_type": "code",
   "execution_count": null,
   "id": "89502a89-197d-485c-8810-295dd168ae7b",
   "metadata": {},
   "outputs": [],
   "source": [
    "singularity exec -B /path/on/hpc:/mnt \\\n",
    "    aertslab-pyscenic-0.12.1.sif \\\n",
    "    pyscenic grn /mnt/expr_mat.tsv /mnt/allTFs_hg38.txt \\\n",
    "    -o /mnt/expr_mat.adjacencies.tsv --num_workers 6\n"
   ]
  },
  {
   "cell_type": "code",
   "execution_count": null,
   "id": "28cc7ec3-38e1-4441-8e41-b48838a47d58",
   "metadata": {},
   "outputs": [],
   "source": [
    "f_db_names = \"/home/igarzonalva/Proyecto_SC_TNBC/GSE161529/grn/Common_files/databases/*.feather\"\n",
    "f_motif_path = \"/home/igarzonalva/Proyecto_SC_TNBC/GSE161529/grn/Common_files/motifs-v10nr_clust-nr.hgnc-m0.001-o0.0.tbl\"\n",
    "adj_path = \"/home/igarzonalva/Proyecto_SC_TNBC/GSE161529/grn/ER_network.tsv\""
   ]
  },
  {
   "cell_type": "code",
   "execution_count": null,
   "id": "6ca71d0f-4518-4e0c-999f-f30ff1a34d4d",
   "metadata": {},
   "outputs": [],
   "source": [
    "\n",
    "!pyscenic ctx {adj_path} \\\n",
    "    {f_db_names} \\\n",
    "    --annotations_fname {f_motif_path} \\\n",
    "    --expression_mtx_fname {loom_file} \\\n",
    "    --output regulons.csv \\\n",
    "    --mask_dropouts \\\n",
    "    --num_workers 20 \\\n",
    "    --mode dask_cluster \\\n",
    "    --client_or_address {scheduler_addr}\n"
   ]
  },
  {
   "cell_type": "code",
   "execution_count": null,
   "id": "8b6f6d2d-f642-4649-93bb-7b0943b47906",
   "metadata": {},
   "outputs": [],
   "source": [
    "client.close()\n",
    "cluster.close()"
   ]
  },
  {
   "cell_type": "code",
   "execution_count": null,
   "id": "bef7d515-4df3-4b3b-b09d-e9b06d59dd8d",
   "metadata": {},
   "outputs": [],
   "source": []
  }
 ],
 "metadata": {
  "kernelspec": {
   "display_name": "pySCENIC singularity local",
   "language": "python",
   "name": "pyscenic-latest-image"
  },
  "language_info": {
   "codemirror_mode": {
    "name": "ipython",
    "version": 3
   },
   "file_extension": ".py",
   "mimetype": "text/x-python",
   "name": "python",
   "nbconvert_exporter": "python",
   "pygments_lexer": "ipython3",
   "version": "3.10.6"
  }
 },
 "nbformat": 4,
 "nbformat_minor": 5
}
