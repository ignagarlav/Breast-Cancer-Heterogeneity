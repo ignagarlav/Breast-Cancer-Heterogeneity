{
 "cells": [
  {
   "cell_type": "code",
   "execution_count": 39,
   "id": "79b0ccfc-1ac5-4d35-9936-c2a3cf2a5786",
   "metadata": {},
   "outputs": [],
   "source": [
    "import os \n",
    "import scanpy as sc\n",
    "import pandas as pd"
   ]
  },
  {
   "cell_type": "code",
   "execution_count": 9,
   "id": "33a33a9d-f7f5-448d-afd6-8a6095ccdcac",
   "metadata": {},
   "outputs": [],
   "source": [
    "data_dir = \"/home/igarzonalva/Proyecto_SC_TNBC/GSE161529/Integration/adata\""
   ]
  },
  {
   "cell_type": "code",
   "execution_count": 10,
   "id": "a8baa0d8-7c54-4cb4-a01e-fc2a8822faeb",
   "metadata": {},
   "outputs": [],
   "source": [
    "adata = sc.read_h5ad(os.path.join(data_dir,\"adata_GenAnno.h5ad\"))"
   ]
  },
  {
   "cell_type": "code",
   "execution_count": 11,
   "id": "6ad5d733-296b-4350-a014-6c087309ce53",
   "metadata": {},
   "outputs": [
    {
     "data": {
      "text/plain": [
       "AnnData object with n_obs × n_vars = 152319 × 18088\n",
       "    obs: 'sample', 'n_genes_by_counts', 'total_counts', 'pct_counts_in_top_50_genes', 'pct_counts_in_top_100_genes', 'pct_counts_in_top_200_genes', 'pct_counts_in_top_500_genes', 'total_counts_mt', 'pct_counts_mt', 'complexity', 'doublet_scores', 'predicted_doublets', 'n_genes', 'n_counts', 'celltypist_labels_Immune_All_High', 'celltypist_scores_Immune_All_High', 'celltypist_labels_Cells_Adult_Breast', 'celltypist_scores_Cells_Adult_Breast', 'batch', 'subtype', 'leiden', 'GenAnno'\n",
       "    var: 'highly_variable', 'highly_variable_rank', 'means', 'variances', 'variances_norm', 'highly_variable_nbatches'\n",
       "    uns: 'hvg', 'leiden', 'leiden_colors', 'log1p', 'neighbors', 'pca'\n",
       "    obsm: 'X_pca', 'X_pca_MDE', 'X_scVI', 'X_scvi_MDE'\n",
       "    varm: 'PCs'\n",
       "    layers: 'counts'\n",
       "    obsp: 'connectivities', 'distances'"
      ]
     },
     "execution_count": 11,
     "metadata": {},
     "output_type": "execute_result"
    }
   ],
   "source": [
    "adata"
   ]
  },
  {
   "cell_type": "code",
   "execution_count": 29,
   "id": "1336aabe-60cc-48bc-8d03-a776a9484907",
   "metadata": {},
   "outputs": [],
   "source": [
    "tumors = set(adata.obs['subtype'].values)"
   ]
  },
  {
   "cell_type": "code",
   "execution_count": 32,
   "id": "003a1564-2782-4f82-a3d2-65cd7c14856b",
   "metadata": {},
   "outputs": [],
   "source": [
    "grn_dir = \"/home/igarzonalva/Proyecto_SC_TNBC/GSE161529/grn\""
   ]
  },
  {
   "cell_type": "code",
   "execution_count": 40,
   "id": "763716b8-9a0b-4895-9527-933f7bdc164c",
   "metadata": {},
   "outputs": [],
   "source": [
    "for idx,tumor_type in enumerate(tumors):\n",
    "    \n",
    "    adata_tumor = adata[adata.obs['subtype'] == tumor_type,:]\n",
    "    \n",
    "    exp_mt = adata_tumor.raw.X\n",
    "    cell_names = adata_tumor.obs_names.to_series()\n",
    "    gene_names = adata_tumor.raw.var_names.to_series()\n",
    "\n",
    "    new_adata = sc.AnnData(\n",
    "    X=exp_mt,  \n",
    "    obs=pd.DataFrame(index=cell_names),  \n",
    "    var=pd.DataFrame(index=gene_names))   \n",
    "    \n",
    "    new_adata.write_h5ad(os.path.join(grn_dir, f\"expression_adata_{idx + 1}.h5ad\"))"
   ]
  },
  {
   "cell_type": "code",
   "execution_count": 41,
   "id": "c233ca9d-0224-4c66-a38f-3c1d7cf13f11",
   "metadata": {},
   "outputs": [],
   "source": [
    "with open(os.path.join(grn_dir,\"tumor_equivalence.txt\"), \"w\") as file:\n",
    "    for idx, tumor_type in enumerate(tumors):\n",
    "        file.write(f\"{idx + 1} = {tumor_type} \\n\")"
   ]
  }
 ],
 "metadata": {
  "kernelspec": {
   "display_name": "Python (scvi-env)",
   "language": "python",
   "name": "scvi-env"
  },
  "language_info": {
   "codemirror_mode": {
    "name": "ipython",
    "version": 3
   },
   "file_extension": ".py",
   "mimetype": "text/x-python",
   "name": "python",
   "nbconvert_exporter": "python",
   "pygments_lexer": "ipython3",
   "version": "3.12.8"
  }
 },
 "nbformat": 4,
 "nbformat_minor": 5
}
