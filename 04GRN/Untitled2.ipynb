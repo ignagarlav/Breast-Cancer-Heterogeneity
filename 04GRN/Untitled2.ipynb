{
 "cells": [
  {
   "cell_type": "code",
   "execution_count": null,
   "id": "baff15d3-cd43-4b56-aa6f-f69c2bb38502",
   "metadata": {},
   "outputs": [],
   "source": [
    "import torch\n",
    "import torch.nn as nn\n",
    "\n",
    "class VAEEncoder(nn.Module):\n",
    "    def __init__(self, input_dim: int, latent_dim: int, hidden_dims=None):\n",
    "        \"\"\"\n",
    "        :param input_dim:  Number of genes (columns) in your TF x gene matrix.\n",
    "        :param latent_dim: Dimensionality of the latent space (z).\n",
    "        :param hidden_dims: List of hidden layer sizes (e.g. [512, 256]).\n",
    "        \"\"\"\n",
    "        super(VAEEncoder, self).__init__()\n",
    "        \n",
    "        if hidden_dims is None:\n",
    "            hidden_dims = [512, 256]  # example defaults\n",
    "\n",
    "        # Build a sequence of linear -> ReLU (or other) layers\n",
    "        layers = []\n",
    "        prev_dim = input_dim\n",
    "        for hdim in hidden_dims:\n",
    "            layers.append(nn.Linear(prev_dim, hdim))\n",
    "            layers.append(nn.ReLU())\n",
    "            prev_dim = hdim\n",
    "        \n",
    "        # Combine into a Sequential module\n",
    "        self.net = nn.Sequential(*layers)\n",
    "\n",
    "        # Final layers to produce mu and log_var\n",
    "        self.fc_mu = nn.Linear(prev_dim, latent_dim)\n",
    "        self.fc_logvar = nn.Linear(prev_dim, latent_dim)\n"
   ]
  },
  {
   "cell_type": "code",
   "execution_count": null,
   "id": "24129686-6ee3-44ca-bc96-926cec1d12df",
   "metadata": {},
   "outputs": [],
   "source": [
    "\n",
    "    def forward(self, x):\n",
    "        \"\"\"\n",
    "        :param x: [batch_size, input_dim] tensor\n",
    "        :return: mu, log_var\n",
    "                 mu -> [batch_size, latent_dim]\n",
    "                 log_var -> [batch_size, latent_dim]\n",
    "        \"\"\"\n",
    "        # Pass input through the main feed-forward net\n",
    "        out = self.net(x)\n",
    "\n",
    "        # Compute mu and log_var\n",
    "        mu = self.fc_mu(out)\n",
    "        log_var = self.fc_logvar(out)\n",
    "\n",
    "        return mu, log_var\n"
   ]
  }
 ],
 "metadata": {
  "kernelspec": {
   "display_name": "Python (scvi-env)",
   "language": "python",
   "name": "scvi-env"
  },
  "language_info": {
   "codemirror_mode": {
    "name": "ipython",
    "version": 3
   },
   "file_extension": ".py",
   "mimetype": "text/x-python",
   "name": "python",
   "nbconvert_exporter": "python",
   "pygments_lexer": "ipython3",
   "version": "3.12.8"
  }
 },
 "nbformat": 4,
 "nbformat_minor": 5
}
