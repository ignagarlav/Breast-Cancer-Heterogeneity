{
 "cells": [
  {
   "cell_type": "code",
   "execution_count": 2,
   "id": "cc472445-e9d8-4c75-96eb-5b1f2158eaf2",
   "metadata": {},
   "outputs": [],
   "source": [
    "# ADATA\n",
    "import scanpy as sc\n",
    "\n",
    "# NETWORK\n",
    "import pandas as pd\n",
    "import os\n",
    "\n",
    "# MOTIFS\n",
    "\n",
    "import numpy as np\n",
    "from cytoolz import compose\n",
    "import operator as op\n",
    "import os\n",
    "from os import listdir\n",
    "\n",
    "from pyscenic.utils import load_motifs # Load motifs from step 2\n",
    "from pyscenic.transform import df2regulons # Used in regulon creation in derive_regulon custom function\n",
    "\n",
    "# AUCELL \n",
    "import json\n",
    "import zlib\n",
    "import base64\n",
    "import loompy as lp\n",
    "import pandas as pd\n",
    "\n",
    "# ADATA EXPORT\n",
    "from pyscenic.export import export2loom, add_scenic_metadata"
   ]
  },
  {
   "cell_type": "code",
   "execution_count": 9,
   "id": "807b40dd-b1fd-47ea-a550-eb309bee61eb",
   "metadata": {},
   "outputs": [],
   "source": [
    "DATA_DIR = \"/home/igarzonalva/Proyecto_SC_TNBC/GSE161529/Integration/adata/adata_scanvi_predictions.h5ad\"\n",
    "MODULE_DIR = \"/home/igarzonalva/Proyecto_SC_TNBC/GSE161529/grn/01Networks/\"\n",
    "MOTIFS_DIR = \"/home/igarzonalva/Proyecto_SC_TNBC/GSE161529/grn/03Motifs/\"\n",
    "DB_DIR = \"/home/igarzonalva/Proyecto_SC_TNBC/GSE161529/grn/Common_files/databases\"\n",
    "AUCELL_DIR = \"/home/igarzonalva/Proyecto_SC_TNBC/GSE161529/grn/04AUCell/\"\n",
    "SAVING_DIR = \"/home/igarzonalva/Proyecto_SC_TNBC/GSE161529/grn/Results\""
   ]
  },
  {
   "cell_type": "markdown",
   "id": "72da50d1-15ea-4367-a795-e11e9fac028d",
   "metadata": {},
   "source": [
    "# ADATA "
   ]
  },
  {
   "cell_type": "code",
   "execution_count": 4,
   "id": "656ed8e5-4c40-4097-8dbe-e4a7d4d41118",
   "metadata": {},
   "outputs": [],
   "source": [
    "adata_orig = sc.read_h5ad(DATA_DIR)\n",
    "adata_orig.obs['cell_type'] = adata_orig.obs.GennAnno_ScAnvi"
   ]
  },
  {
   "cell_type": "code",
   "execution_count": 5,
   "id": "02c67758-38cb-4678-8a39-9fe78cca30f1",
   "metadata": {
    "editable": true,
    "slideshow": {
     "slide_type": ""
    },
    "tags": []
   },
   "outputs": [],
   "source": [
    "adatas = {}"
   ]
  },
  {
   "cell_type": "code",
   "execution_count": 6,
   "id": "b1179a37-59fa-4109-a305-82de9786347e",
   "metadata": {},
   "outputs": [],
   "source": [
    "import pickle"
   ]
  },
  {
   "cell_type": "code",
   "execution_count": 7,
   "id": "0102b3e3-1fec-457e-8c14-ae76f6c7da89",
   "metadata": {},
   "outputs": [],
   "source": [
    "for t_type in adata_orig.obs['subtype'].cat.categories:\n",
    "    ad_tum = adata_orig[adata_orig.obs['subtype'] == t_type,:].copy()\n",
    "    adatas[t_type] = ad_tum"
   ]
  },
  {
   "cell_type": "code",
   "execution_count": 8,
   "id": "f9cab1ef-755b-42f8-8786-b3adf55341c2",
   "metadata": {},
   "outputs": [
    {
     "data": {
      "text/plain": [
       "dict_keys(['ER', 'HER2', 'TNBC'])"
      ]
     },
     "execution_count": 8,
     "metadata": {},
     "output_type": "execute_result"
    }
   ],
   "source": [
    "adatas.keys()"
   ]
  },
  {
   "cell_type": "code",
   "execution_count": 10,
   "id": "a1e04510-0d78-4738-ab55-3aa149a3d7b3",
   "metadata": {},
   "outputs": [],
   "source": [
    "adata_dir = os.path.join(SAVING_DIR, \"adatas_dict.pkl\")\n",
    "with open(adata_dir, \"wb\") as f:\n",
    "    pickle.dump(adatas, f)"
   ]
  },
  {
   "cell_type": "markdown",
   "id": "e2ad9d0c-7773-4565-a885-7ba954e222e4",
   "metadata": {},
   "source": [
    "# MODULES\n",
    "\n",
    "Gene modules are genes that show co-expression across cells in the dataset ( TF + gene). \n",
    "\n",
    "The strenght of that co-expression is measured by the column \"importance\""
   ]
  },
  {
   "cell_type": "code",
   "execution_count": 11,
   "id": "918dfd72-2fb2-484b-9a90-afa506be60f1",
   "metadata": {},
   "outputs": [],
   "source": [
    "modules = {}\n",
    "for t_type in adata_orig.obs['subtype'].cat.categories:\n",
    "    mod_dir = os.path.join(MODULE_DIR, f\"{t_type}_network.tsv\")\n",
    "    mod_tum = pd.read_table(mod_dir, sep = \"\\t\")\n",
    "    modules[t_type] = mod_tum"
   ]
  },
  {
   "cell_type": "code",
   "execution_count": 12,
   "id": "731eaaac-a166-4bd5-8166-e51f973a2f4e",
   "metadata": {},
   "outputs": [
    {
     "name": "stdout",
     "output_type": "stream",
     "text": [
      "Nº of modules 1317005\n",
      "Nº of modules 1317033\n",
      "Nº of modules 1411858\n"
     ]
    }
   ],
   "source": [
    "for module in modules.values():\n",
    "    print(f\"Nº of modules {module.shape[0]}\")"
   ]
  },
  {
   "cell_type": "code",
   "execution_count": 13,
   "id": "97ea26cf-3985-436a-a5fb-a739f40a1a10",
   "metadata": {},
   "outputs": [],
   "source": [
    "modules_dir = os.path.join(SAVING_DIR, \"modules_dict.pkl\")\n",
    "with open(modules_dir, \"wb\") as f:\n",
    "    pickle.dump(modules, f)"
   ]
  },
  {
   "cell_type": "markdown",
   "id": "2d11be11-2158-4ba3-8264-c247f9720782",
   "metadata": {},
   "source": [
    "# REGULONS\n",
    "\n",
    "Regulons are sets of genes which share regulatory sequences to which a certain TF binds to. \n"
   ]
  },
  {
   "cell_type": "markdown",
   "id": "3732f1d2-929d-471a-8b96-a15272a46d27",
   "metadata": {},
   "source": [
    "## Motifs"
   ]
  },
  {
   "cell_type": "code",
   "execution_count": 14,
   "id": "683b9efd-bfc8-4951-a534-6a31ae56c724",
   "metadata": {},
   "outputs": [],
   "source": [
    "motifs = {}\n",
    "for t_type in adata_orig.obs['subtype'].cat.categories:\n",
    "    motifs_fname = os.path.join(MOTIFS_DIR, f\"{t_type}_regulons.csv\")\n",
    "    motif_tum = load_motifs(motifs_fname)\n",
    "    motifs[t_type] = motif_tum"
   ]
  },
  {
   "cell_type": "code",
   "execution_count": 15,
   "id": "20e09d87-117d-449d-9b7a-9bce48c1ca08",
   "metadata": {},
   "outputs": [
    {
     "data": {
      "text/plain": [
       "dict_keys(['ER', 'HER2', 'TNBC'])"
      ]
     },
     "execution_count": 15,
     "metadata": {},
     "output_type": "execute_result"
    }
   ],
   "source": [
    "motifs.keys()"
   ]
  },
  {
   "cell_type": "code",
   "execution_count": 16,
   "id": "3d5055fb-a7ed-4538-90c7-42dc7c43032c",
   "metadata": {},
   "outputs": [],
   "source": [
    "def contains(*elems):\n",
    "    def f(context):\n",
    "        return any(elem in context for elem in elems)\n",
    "    return f"
   ]
  },
  {
   "cell_type": "code",
   "execution_count": 17,
   "id": "ffc5fd98-70bc-4df7-a246-94763c2946d6",
   "metadata": {},
   "outputs": [
    {
     "data": {
      "text/plain": [
       "['hg38_10kbp_up_10kbp_down_full_tx_v10_clust.genes_vs_motifs.rankings',\n",
       " 'hg38_500bp_up_100bp_down_full_tx_v10_clust.genes_vs_motifs.rankings',\n",
       " 'hg38_10kbp_up_10kbp_down_full_tx_v10_clust.genes_vs_motifs.scores',\n",
       " 'hg38_500bp_up_100bp_down_full_tx_v10_clust.genes_vs_motifs.scores']"
      ]
     },
     "execution_count": 17,
     "metadata": {},
     "output_type": "execute_result"
    }
   ],
   "source": [
    "cis_target_data = {}\n",
    "for file in listdir(DB_DIR):\n",
    "    if file.endswith(\".feather\"):\n",
    "        cis_target_data[file] = pd.read_feather(os.path.join(DB_DIR,file))  \n",
    "\n",
    "databases_names = list(cis_target_data.keys())\n",
    "databases_names = [os.path.splitext(filename)[0] for filename in databases_names] \n",
    "databases_names"
   ]
  },
  {
   "cell_type": "code",
   "execution_count": 18,
   "id": "03f582a3-dc73-4bb1-86bb-7930efddf29a",
   "metadata": {},
   "outputs": [],
   "source": [
    "def derive_regulons(motifs, db_names=databases_names):\n",
    "    motifs.columns = motifs.columns.droplevel(0)\n",
    "\n",
    "    def contains(*elems):\n",
    "        def f(context):\n",
    "            return any(elem in context for elem in elems)\n",
    "        return f\n",
    "\n",
    "    # For the creation of regulons we only keep the 10-species databases and the activating modules. We also remove the\n",
    "    # enriched motifs for the modules that were created using the method 'weight>50.0%' (because these modules are not part\n",
    "    # of the default settings of modules_from_adjacencies anymore.\n",
    "    motifs = motifs[\n",
    "        np.fromiter(map(compose(op.not_, contains('weight>50.0%')), motifs.Context), dtype=np.bool) & \\\n",
    "        np.fromiter(map(contains(*db_names), motifs.Context), dtype=np.bool) & \\\n",
    "        np.fromiter(map(contains('activating'), motifs.Context), dtype=np.bool)]\n",
    "\n",
    "    # We build regulons only using enriched motifs with a NES of 3.0 or higher; we take only directly annotated TFs or TF annotated\n",
    "    # for an orthologous gene into account; and we only keep regulons with at least 10 genes.\n",
    "    regulons = list(filter(lambda r: len(r) >= 10, df2regulons(motifs[(motifs['NES'] >= 3.0) \n",
    "                                                                      & ((motifs['Annotation'] == 'gene is directly annotated')\n",
    "                                                                        | (motifs['Annotation'].str.startswith('gene is orthologous to')\n",
    "                                                                           & motifs['Annotation'].str.endswith('which is directly annotated for motif')))\n",
    "                                                                     ])))\n",
    "    \n",
    "    # Rename regulons, i.e. remove suffix.\n",
    "    return list(map(lambda r: r.rename(r.transcription_factor), regulons))\n"
   ]
  },
  {
   "cell_type": "code",
   "execution_count": 19,
   "id": "24d65df4-0734-430b-9f46-36a6bd41dddf",
   "metadata": {
    "scrolled": true
   },
   "outputs": [
    {
     "name": "stderr",
     "output_type": "stream",
     "text": [
      "/tmp/ipykernel_378676/2029404592.py:13: DeprecationWarning: `np.bool` is a deprecated alias for the builtin `bool`. To silence this warning, use `bool` by itself. Doing this will not modify any behavior and is safe. If you specifically wanted the numpy scalar type, use `np.bool_` here.\n",
      "Deprecated in NumPy 1.20; for more details and guidance: https://numpy.org/devdocs/release/1.20.0-notes.html#deprecations\n",
      "  np.fromiter(map(compose(op.not_, contains('weight>50.0%')), motifs.Context), dtype=np.bool) & \\\n",
      "/tmp/ipykernel_378676/2029404592.py:14: DeprecationWarning: `np.bool` is a deprecated alias for the builtin `bool`. To silence this warning, use `bool` by itself. Doing this will not modify any behavior and is safe. If you specifically wanted the numpy scalar type, use `np.bool_` here.\n",
      "Deprecated in NumPy 1.20; for more details and guidance: https://numpy.org/devdocs/release/1.20.0-notes.html#deprecations\n",
      "  np.fromiter(map(contains(*db_names), motifs.Context), dtype=np.bool) & \\\n",
      "/tmp/ipykernel_378676/2029404592.py:15: DeprecationWarning: `np.bool` is a deprecated alias for the builtin `bool`. To silence this warning, use `bool` by itself. Doing this will not modify any behavior and is safe. If you specifically wanted the numpy scalar type, use `np.bool_` here.\n",
      "Deprecated in NumPy 1.20; for more details and guidance: https://numpy.org/devdocs/release/1.20.0-notes.html#deprecations\n",
      "  np.fromiter(map(contains('activating'), motifs.Context), dtype=np.bool)]\n"
     ]
    },
    {
     "name": "stdout",
     "output_type": "stream",
     "text": [
      "Create regulons from a dataframe of enriched features.\n",
      "Additional columns saved: []\n"
     ]
    },
    {
     "name": "stderr",
     "output_type": "stream",
     "text": [
      "/tmp/ipykernel_378676/2029404592.py:13: DeprecationWarning: `np.bool` is a deprecated alias for the builtin `bool`. To silence this warning, use `bool` by itself. Doing this will not modify any behavior and is safe. If you specifically wanted the numpy scalar type, use `np.bool_` here.\n",
      "Deprecated in NumPy 1.20; for more details and guidance: https://numpy.org/devdocs/release/1.20.0-notes.html#deprecations\n",
      "  np.fromiter(map(compose(op.not_, contains('weight>50.0%')), motifs.Context), dtype=np.bool) & \\\n",
      "/tmp/ipykernel_378676/2029404592.py:14: DeprecationWarning: `np.bool` is a deprecated alias for the builtin `bool`. To silence this warning, use `bool` by itself. Doing this will not modify any behavior and is safe. If you specifically wanted the numpy scalar type, use `np.bool_` here.\n",
      "Deprecated in NumPy 1.20; for more details and guidance: https://numpy.org/devdocs/release/1.20.0-notes.html#deprecations\n",
      "  np.fromiter(map(contains(*db_names), motifs.Context), dtype=np.bool) & \\\n",
      "/tmp/ipykernel_378676/2029404592.py:15: DeprecationWarning: `np.bool` is a deprecated alias for the builtin `bool`. To silence this warning, use `bool` by itself. Doing this will not modify any behavior and is safe. If you specifically wanted the numpy scalar type, use `np.bool_` here.\n",
      "Deprecated in NumPy 1.20; for more details and guidance: https://numpy.org/devdocs/release/1.20.0-notes.html#deprecations\n",
      "  np.fromiter(map(contains('activating'), motifs.Context), dtype=np.bool)]\n"
     ]
    },
    {
     "name": "stdout",
     "output_type": "stream",
     "text": [
      "Create regulons from a dataframe of enriched features.\n",
      "Additional columns saved: []\n"
     ]
    },
    {
     "name": "stderr",
     "output_type": "stream",
     "text": [
      "/tmp/ipykernel_378676/2029404592.py:13: DeprecationWarning: `np.bool` is a deprecated alias for the builtin `bool`. To silence this warning, use `bool` by itself. Doing this will not modify any behavior and is safe. If you specifically wanted the numpy scalar type, use `np.bool_` here.\n",
      "Deprecated in NumPy 1.20; for more details and guidance: https://numpy.org/devdocs/release/1.20.0-notes.html#deprecations\n",
      "  np.fromiter(map(compose(op.not_, contains('weight>50.0%')), motifs.Context), dtype=np.bool) & \\\n",
      "/tmp/ipykernel_378676/2029404592.py:14: DeprecationWarning: `np.bool` is a deprecated alias for the builtin `bool`. To silence this warning, use `bool` by itself. Doing this will not modify any behavior and is safe. If you specifically wanted the numpy scalar type, use `np.bool_` here.\n",
      "Deprecated in NumPy 1.20; for more details and guidance: https://numpy.org/devdocs/release/1.20.0-notes.html#deprecations\n",
      "  np.fromiter(map(contains(*db_names), motifs.Context), dtype=np.bool) & \\\n",
      "/tmp/ipykernel_378676/2029404592.py:15: DeprecationWarning: `np.bool` is a deprecated alias for the builtin `bool`. To silence this warning, use `bool` by itself. Doing this will not modify any behavior and is safe. If you specifically wanted the numpy scalar type, use `np.bool_` here.\n",
      "Deprecated in NumPy 1.20; for more details and guidance: https://numpy.org/devdocs/release/1.20.0-notes.html#deprecations\n",
      "  np.fromiter(map(contains('activating'), motifs.Context), dtype=np.bool)]\n"
     ]
    },
    {
     "name": "stdout",
     "output_type": "stream",
     "text": [
      "Create regulons from a dataframe of enriched features.\n",
      "Additional columns saved: []\n"
     ]
    }
   ],
   "source": [
    "regulons = {}\n",
    "for key in motifs.keys():\n",
    "    motif_tum = motifs[key]\n",
    "    regulon_tum = derive_regulons(motif_tum)\n",
    "    regulons[key] = regulon_tum"
   ]
  },
  {
   "cell_type": "code",
   "execution_count": 21,
   "id": "cf596e2c-9e55-47ba-9d2b-e9ceddd323b6",
   "metadata": {},
   "outputs": [],
   "source": [
    "regulons_dir = os.path.join(SAVING_DIR, \"regulons_dict.pkl\")\n",
    "with open(regulons_dir, \"wb\") as f:\n",
    "    pickle.dump(regulons, f)"
   ]
  },
  {
   "cell_type": "markdown",
   "id": "1b4a5c09-3ff7-4f9d-a58d-490a84c73198",
   "metadata": {},
   "source": [
    "# AUCELL"
   ]
  },
  {
   "cell_type": "code",
   "execution_count": 22,
   "id": "ba543d36-75fb-4653-b124-88ad63e33916",
   "metadata": {},
   "outputs": [],
   "source": [
    "aucells = {}\n",
    "for t_type in adata_orig.obs['subtype'].cat.categories:\n",
    "    aucell_fname = os.path.join(AUCELL_DIR, f\"{t_type}_aucell.loom\")\n",
    "    \n",
    "    lf = lp.connect(aucell_fname, mode='r+', validate=False )\n",
    "    auc_mtx = pd.DataFrame(lf.ca.RegulonsAUC, index=lf.ca.CellID)\n",
    "    lf.close()\n",
    "\n",
    "    aucells[t_type] = auc_mtx"
   ]
  },
  {
   "cell_type": "code",
   "execution_count": null,
   "id": "ab41925d-d80e-474f-a927-09ead2e00330",
   "metadata": {
    "scrolled": true
   },
   "outputs": [],
   "source": [
    "aucells"
   ]
  },
  {
   "cell_type": "code",
   "execution_count": 23,
   "id": "efc16879-db48-44af-b61c-4c99db9fb163",
   "metadata": {},
   "outputs": [],
   "source": [
    "au_dir = os.path.join(SAVING_DIR, \"aucells_dict.pkl\")\n",
    "with open(au_dir, \"wb\") as f:\n",
    "    pickle.dump(aucells, f)"
   ]
  },
  {
   "cell_type": "markdown",
   "id": "1b02d357-e932-4686-ad44-81ea78d54e14",
   "metadata": {},
   "source": [
    "# ADD TO ADATA PIPELINE"
   ]
  },
  {
   "cell_type": "code",
   "execution_count": 24,
   "id": "631ccbd8-9b57-4ddc-97d7-d26ca7ffc27b",
   "metadata": {},
   "outputs": [],
   "source": [
    "for key in adata_orig.obs.subtype.cat.categories:\n",
    "    add_scenic_metadata(adatas[key], aucells[key], regulons[key])"
   ]
  },
  {
   "cell_type": "code",
   "execution_count": 25,
   "id": "67e0f757-c346-41fd-bba6-e2e3f8f4eb83",
   "metadata": {
    "scrolled": true
   },
   "outputs": [
    {
     "data": {
      "text/plain": [
       "{'ER': AnnData object with n_obs × n_vars = 61800 × 18088\n",
       "     obs: 'sample', 'n_genes_by_counts', 'total_counts', 'pct_counts_in_top_50_genes', 'pct_counts_in_top_100_genes', 'pct_counts_in_top_200_genes', 'pct_counts_in_top_500_genes', 'total_counts_mt', 'pct_counts_mt', 'complexity', 'doublet_scores', 'predicted_doublets', 'n_genes', 'n_counts', 'celltypist_labels_Immune_All_High', 'celltypist_scores_Immune_All_High', 'celltypist_labels_Cells_Adult_Breast', 'celltypist_scores_Cells_Adult_Breast', 'batch', 'subtype', 'leiden', 'celltypist_labels_Immune_All_High_highconf', 'GenAnno', 'GenAnnoV1', 'GenAnnoV2', 'celltypist_mapped', 'GenAnnoHighConf', 'cell_type', 'predicted_labels', 'GennAnno_ScAnvi', 'Regulon(ALX3(+))', 'Regulon(AR(+))', 'Regulon(ARID5B(+))', 'Regulon(ASCL1(+))', 'Regulon(ATF3(+))', 'Regulon(ATF4(+))', 'Regulon(ATF5(+))', 'Regulon(BACH1(+))', 'Regulon(BATF(+))', 'Regulon(BCL11A(+))', 'Regulon(BCL11B(+))', 'Regulon(BCL6(+))', 'Regulon(BCL6B(+))', 'Regulon(BHLHE41(+))', 'Regulon(BPTF(+))', 'Regulon(CEBPA(+))', 'Regulon(CEBPB(+))', 'Regulon(CEBPD(+))', 'Regulon(CEBPG(+))', 'Regulon(CLOCK(+))', 'Regulon(CREB1(+))', 'Regulon(CREB3(+))', 'Regulon(CREB3L2(+))', 'Regulon(CREB5(+))', 'Regulon(CREM(+))', 'Regulon(CTCF(+))', 'Regulon(CUX1(+))', 'Regulon(DDIT3(+))', 'Regulon(DLX2(+))', 'Regulon(DLX3(+))', 'Regulon(DLX5(+))', 'Regulon(DLX6(+))', 'Regulon(DRAP1(+))', 'Regulon(E2F1(+))', 'Regulon(E2F2(+))', 'Regulon(E2F3(+))', 'Regulon(E2F8(+))', 'Regulon(EBF1(+))', 'Regulon(EBF3(+))', 'Regulon(EGR1(+))', 'Regulon(EGR2(+))', 'Regulon(EGR3(+))', 'Regulon(EHF(+))', 'Regulon(ELF1(+))', 'Regulon(ELF2(+))', 'Regulon(ELF3(+))', 'Regulon(ELF5(+))', 'Regulon(ELK3(+))', 'Regulon(EN1(+))', 'Regulon(EOMES(+))', 'Regulon(ERF(+))', 'Regulon(ERG(+))', 'Regulon(ETS1(+))', 'Regulon(ETS2(+))', 'Regulon(ETV1(+))', 'Regulon(ETV3(+))', 'Regulon(ETV4(+))', 'Regulon(ETV5(+))', 'Regulon(ETV6(+))', 'Regulon(ETV7(+))', 'Regulon(FLI1(+))', 'Regulon(FOS(+))', 'Regulon(FOSB(+))', 'Regulon(FOSL1(+))', 'Regulon(FOSL2(+))', 'Regulon(FOXA1(+))', 'Regulon(FOXC1(+))', 'Regulon(FOXD1(+))', 'Regulon(FOXI1(+))', 'Regulon(FOXM1(+))', 'Regulon(FOXO1(+))', 'Regulon(FOXO3(+))', 'Regulon(FOXP1(+))', 'Regulon(FOXP2(+))', 'Regulon(FOXP3(+))', 'Regulon(GATA2(+))', 'Regulon(GATA3(+))', 'Regulon(GATA6(+))', 'Regulon(GCM1(+))', 'Regulon(GFI1(+))', 'Regulon(GRHL2(+))', 'Regulon(HAND2(+))', 'Regulon(HDX(+))', 'Regulon(HES1(+))', 'Regulon(HES2(+))', 'Regulon(HEY1(+))', 'Regulon(HIC1(+))', 'Regulon(HIF1A(+))', 'Regulon(HMGA1(+))', 'Regulon(HOXA10(+))', 'Regulon(HOXA3(+))', 'Regulon(HOXA5(+))', 'Regulon(HOXA9(+))', 'Regulon(HOXB2(+))', 'Regulon(HOXB3(+))', 'Regulon(HOXB4(+))', 'Regulon(HOXB5(+))', 'Regulon(HOXB6(+))', 'Regulon(HOXC10(+))', 'Regulon(HOXC11(+))', 'Regulon(HOXC8(+))', 'Regulon(HOXC9(+))', 'Regulon(HOXD1(+))', 'Regulon(HOXD8(+))', 'Regulon(HOXD9(+))', 'Regulon(IKZF1(+))', 'Regulon(IKZF2(+))', 'Regulon(IKZF3(+))', 'Regulon(IRF1(+))', 'Regulon(IRF2(+))', 'Regulon(IRF4(+))', 'Regulon(IRF5(+))', 'Regulon(IRF6(+))', 'Regulon(IRF7(+))', 'Regulon(IRF8(+))', 'Regulon(IRF9(+))', 'Regulon(IRX2(+))', 'Regulon(IRX4(+))', 'Regulon(JDP2(+))', 'Regulon(JUN(+))', 'Regulon(JUNB(+))', 'Regulon(JUND(+))', 'Regulon(KLF10(+))', 'Regulon(KLF2(+))', 'Regulon(KLF4(+))', 'Regulon(KLF5(+))', 'Regulon(KLF6(+))', 'Regulon(KLF8(+))', 'Regulon(KLF9(+))', 'Regulon(LEF1(+))', 'Regulon(LHX1(+))', 'Regulon(LHX6(+))', 'Regulon(LTF(+))', 'Regulon(LYL1(+))', 'Regulon(MAF(+))', 'Regulon(MAFB(+))', 'Regulon(MAFF(+))', 'Regulon(MAFG(+))', 'Regulon(MAFK(+))', 'Regulon(MAX(+))', 'Regulon(MBD2(+))', 'Regulon(MEF2A(+))', 'Regulon(MEF2C(+))', 'Regulon(MEIS1(+))', 'Regulon(MITF(+))', 'Regulon(MLX(+))', 'Regulon(MLXIPL(+))', 'Regulon(MSC(+))', 'Regulon(MSX1(+))', 'Regulon(MXD1(+))', 'Regulon(MXD4(+))', 'Regulon(MXI1(+))', 'Regulon(MYB(+))', 'Regulon(MYBL1(+))', 'Regulon(MYBL2(+))', 'Regulon(MYC(+))', 'Regulon(MZF1(+))', 'Regulon(NANOG(+))', 'Regulon(NFATC1(+))', 'Regulon(NFATC2(+))', 'Regulon(NFATC3(+))', 'Regulon(NFE2L1(+))', 'Regulon(NFE2L2(+))', 'Regulon(NFE2L3(+))', 'Regulon(NFIA(+))', 'Regulon(NFIB(+))', 'Regulon(NFIC(+))', 'Regulon(NFIL3(+))', 'Regulon(NFKB1(+))', 'Regulon(NFKB2(+))', 'Regulon(NFYB(+))', 'Regulon(NKX1-2(+))', 'Regulon(NKX2-5(+))', 'Regulon(NPAS2(+))', 'Regulon(NR1H3(+))', 'Regulon(NR2F2(+))', 'Regulon(NR3C1(+))', 'Regulon(NR5A2(+))', 'Regulon(PATZ1(+))', 'Regulon(PAX6(+))', 'Regulon(PBX1(+))', 'Regulon(PBX3(+))', 'Regulon(PEG3(+))', 'Regulon(PHF20(+))', 'Regulon(PITX1(+))', 'Regulon(PITX2(+))', 'Regulon(PLAGL1(+))', 'Regulon(POU2F1(+))', 'Regulon(POU2F2(+))', 'Regulon(POU6F1(+))', 'Regulon(PPARG(+))', 'Regulon(PRDM1(+))', 'Regulon(PURA(+))', 'Regulon(RARB(+))', 'Regulon(REL(+))', 'Regulon(RELB(+))', 'Regulon(RFX1(+))', 'Regulon(RUNX1(+))', 'Regulon(RUNX3(+))', 'Regulon(RXRA(+))', 'Regulon(SHOX2(+))', 'Regulon(SIX1(+))', 'Regulon(SMAD1(+))', 'Regulon(SMAD4(+))', 'Regulon(SMAD5(+))', 'Regulon(SNAI1(+))', 'Regulon(SOX10(+))', 'Regulon(SOX11(+))', 'Regulon(SOX13(+))', 'Regulon(SOX15(+))', 'Regulon(SOX17(+))', 'Regulon(SOX18(+))', 'Regulon(SOX4(+))', 'Regulon(SOX6(+))', 'Regulon(SOX7(+))', 'Regulon(SOX9(+))', 'Regulon(SP1(+))', 'Regulon(SP3(+))', 'Regulon(SP5(+))', 'Regulon(SPDEF(+))', 'Regulon(SPI1(+))', 'Regulon(SPIB(+))', 'Regulon(SREBF1(+))', 'Regulon(SREBF2(+))', 'Regulon(SRF(+))', 'Regulon(STAT1(+))', 'Regulon(STAT2(+))', 'Regulon(STAT5A(+))', 'Regulon(STAT5B(+))', 'Regulon(TAL1(+))', 'Regulon(TBX15(+))', 'Regulon(TBX5(+))', 'Regulon(TCF12(+))', 'Regulon(TCF7L1(+))', 'Regulon(TCF7L2(+))', 'Regulon(TEAD1(+))', 'Regulon(TEAD3(+))', 'Regulon(TFAP2A(+))', 'Regulon(TFAP2B(+))', 'Regulon(TFDP1(+))', 'Regulon(TFDP2(+))', 'Regulon(TFEB(+))', 'Regulon(THAP11(+))', 'Regulon(TLX3(+))', 'Regulon(TP63(+))', 'Regulon(USF1(+))', 'Regulon(USF2(+))', 'Regulon(VDR(+))', 'Regulon(VEZF1(+))', 'Regulon(XBP1(+))', 'Regulon(YY1(+))', 'Regulon(ZBED1(+))', 'Regulon(ZBTB11(+))', 'Regulon(ZBTB20(+))', 'Regulon(ZBTB7A(+))', 'Regulon(ZBTB7B(+))', 'Regulon(ZBTB8A(+))', 'Regulon(ZEB1(+))', 'Regulon(ZFP91(+))', 'Regulon(ZIC1(+))', 'Regulon(ZIM2(+))', 'Regulon(ZNF148(+))', 'Regulon(ZNF154(+))', 'Regulon(ZNF224(+))', 'Regulon(ZNF267(+))', 'Regulon(ZNF285(+))', 'Regulon(ZNF287(+))', 'Regulon(ZNF3(+))', 'Regulon(ZNF354C(+))', 'Regulon(ZNF432(+))', 'Regulon(ZNF444(+))', 'Regulon(ZNF580(+))', 'Regulon(ZNF627(+))', 'Regulon(ZNF662(+))', 'Regulon(ZNF704(+))', 'Regulon(ZNF791(+))', 'Regulon(ZNF841(+))', 'Regulon(ZNF91(+))', 'Regulon(ZSCAN31(+))'\n",
       "     var: 'highly_variable', 'highly_variable_rank', 'means', 'variances', 'variances_norm', 'highly_variable_nbatches', 'Regulon(AR)', 'Regulon(ATF3)', 'Regulon(ATF4)', 'Regulon(BATF)', 'Regulon(CEBPA)', 'Regulon(CEBPG)', 'Regulon(CREB1)', 'Regulon(CREB3)', 'Regulon(CTCF)', 'Regulon(DDIT3)', 'Regulon(DLX5)', 'Regulon(DLX6)', 'Regulon(DRAP1)', 'Regulon(E2F1)', 'Regulon(E2F2)', 'Regulon(E2F3)', 'Regulon(E2F8)', 'Regulon(EBF1)', 'Regulon(EGR1)', 'Regulon(EGR2)', 'Regulon(EGR3)', 'Regulon(ELF1)', 'Regulon(ELF2)', 'Regulon(ELF3)', 'Regulon(ELK3)', 'Regulon(EN1)', 'Regulon(EOMES)', 'Regulon(ERG)', 'Regulon(ETS1)', 'Regulon(ETS2)', 'Regulon(ETV5)', 'Regulon(ETV7)', 'Regulon(FLI1)', 'Regulon(FOS)', 'Regulon(FOSB)', 'Regulon(FOSL1)', 'Regulon(FOXI1)', 'Regulon(FOXM1)', 'Regulon(FOXO1)', 'Regulon(FOXP1)', 'Regulon(FOXP3)', 'Regulon(GATA2)', 'Regulon(GATA6)', 'Regulon(GCM1)', 'Regulon(HEY1)', 'Regulon(HIC1)', 'Regulon(HIF1A)', 'Regulon(HMGA1)', 'Regulon(HOXA10)', 'Regulon(HOXA9)', 'Regulon(HOXB5)', 'Regulon(HOXC9)', 'Regulon(IKZF1)', 'Regulon(IKZF2)', 'Regulon(IRF1)', 'Regulon(IRF2)', 'Regulon(IRF5)', 'Regulon(IRF7)', 'Regulon(IRF8)', 'Regulon(IRF9)', 'Regulon(JDP2)', 'Regulon(JUN)', 'Regulon(JUNB)', 'Regulon(JUND)', 'Regulon(KLF10)', 'Regulon(KLF2)', 'Regulon(KLF4)', 'Regulon(KLF6)', 'Regulon(LYL1)', 'Regulon(MAF)', 'Regulon(MAFF)', 'Regulon(MBD2)', 'Regulon(MEF2A)', 'Regulon(MEF2C)', 'Regulon(MITF)', 'Regulon(MLXIPL)', 'Regulon(MSX1)', 'Regulon(MXI1)', 'Regulon(MYBL2)', 'Regulon(MYC)', 'Regulon(NFATC3)', 'Regulon(NFE2L2)', 'Regulon(NFKB1)', 'Regulon(NFKB2)', 'Regulon(NFYB)', 'Regulon(NKX2-5)', 'Regulon(NR1H3)', 'Regulon(NR2F2)', 'Regulon(NR3C1)', 'Regulon(PATZ1)', 'Regulon(PAX6)', 'Regulon(PHF20)', 'Regulon(PLAGL1)', 'Regulon(PRDM1)', 'Regulon(REL)', 'Regulon(RELB)', 'Regulon(RUNX3)', 'Regulon(SIX1)', 'Regulon(SMAD5)', 'Regulon(SOX10)', 'Regulon(SOX15)', 'Regulon(SOX6)', 'Regulon(SOX9)', 'Regulon(SP1)', 'Regulon(SP3)', 'Regulon(SP5)', 'Regulon(SPDEF)', 'Regulon(SPI1)', 'Regulon(SPIB)', 'Regulon(SREBF2)', 'Regulon(SRF)', 'Regulon(STAT1)', 'Regulon(STAT2)', 'Regulon(TAL1)', 'Regulon(TEAD1)', 'Regulon(TEAD3)', 'Regulon(TFAP2B)', 'Regulon(TFDP1)', 'Regulon(TFDP2)', 'Regulon(THAP11)', 'Regulon(VDR)', 'Regulon(YY1)', 'Regulon(ZBTB20)', 'Regulon(ZBTB7A)', 'Regulon(ZIM2)', 'Regulon(ZNF224)', 'Regulon(ZNF285)', 'Regulon(ZNF354C)', 'Regulon(ZNF791)', 'Regulon(ZNF841)'\n",
       "     uns: 'GenAnnoHighConf_colors', 'GenAnnoV1_colors', 'GenAnnoV2_colors', 'GennAnno_ScAnvi_colors', 'celltypist_labels_Immune_All_High_highconf_colors', 'hvg', 'leiden', 'leiden_colors', 'log1p', 'neighbors', 'pca', 'predicted_labels_colors', 'aucell'\n",
       "     obsm: 'X_pca', 'X_pca_MDE', 'X_scANVI', 'X_scVI', 'X_scanvi_MDE', 'X_scvi_MDE', 'X_aucell'\n",
       "     varm: 'PCs'\n",
       "     layers: 'counts'\n",
       "     obsp: 'connectivities', 'distances',\n",
       " 'HER2': AnnData object with n_obs × n_vars = 31457 × 18088\n",
       "     obs: 'sample', 'n_genes_by_counts', 'total_counts', 'pct_counts_in_top_50_genes', 'pct_counts_in_top_100_genes', 'pct_counts_in_top_200_genes', 'pct_counts_in_top_500_genes', 'total_counts_mt', 'pct_counts_mt', 'complexity', 'doublet_scores', 'predicted_doublets', 'n_genes', 'n_counts', 'celltypist_labels_Immune_All_High', 'celltypist_scores_Immune_All_High', 'celltypist_labels_Cells_Adult_Breast', 'celltypist_scores_Cells_Adult_Breast', 'batch', 'subtype', 'leiden', 'celltypist_labels_Immune_All_High_highconf', 'GenAnno', 'GenAnnoV1', 'GenAnnoV2', 'celltypist_mapped', 'GenAnnoHighConf', 'cell_type', 'predicted_labels', 'GennAnno_ScAnvi', 'Regulon(AHR(+))', 'Regulon(ANHX(+))', 'Regulon(ARID3A(+))', 'Regulon(ARID5B(+))', 'Regulon(ARNT(+))', 'Regulon(ARNTL2(+))', 'Regulon(ATF1(+))', 'Regulon(ATF3(+))', 'Regulon(ATF4(+))', 'Regulon(ATF5(+))', 'Regulon(ATF6(+))', 'Regulon(BACH1(+))', 'Regulon(BACH2(+))', 'Regulon(BCL11A(+))', 'Regulon(BCL11B(+))', 'Regulon(BHLHE40(+))', 'Regulon(BHLHE41(+))', 'Regulon(BPTF(+))', 'Regulon(CEBPA(+))', 'Regulon(CEBPB(+))', 'Regulon(CEBPD(+))', 'Regulon(CEBPG(+))', 'Regulon(CREB1(+))', 'Regulon(CREB3(+))', 'Regulon(CREB3L1(+))', 'Regulon(CREB3L2(+))', 'Regulon(CREM(+))', 'Regulon(CUX1(+))', 'Regulon(DBP(+))', 'Regulon(DDIT3(+))', 'Regulon(DEAF1(+))', 'Regulon(DLX3(+))', 'Regulon(DLX4(+))', 'Regulon(DRAP1(+))', 'Regulon(E2F1(+))', 'Regulon(E2F2(+))', 'Regulon(E2F3(+))', 'Regulon(E2F6(+))', 'Regulon(E2F7(+))', 'Regulon(E2F8(+))', 'Regulon(EBF1(+))', 'Regulon(EGR1(+))', 'Regulon(EGR2(+))', 'Regulon(EHF(+))', 'Regulon(ELF1(+))', 'Regulon(ELF2(+))', 'Regulon(ELF3(+))', 'Regulon(ELF5(+))', 'Regulon(ELK1(+))', 'Regulon(ELK3(+))', 'Regulon(ELK4(+))', 'Regulon(EMX2(+))', 'Regulon(EN2(+))', 'Regulon(EOMES(+))', 'Regulon(ERG(+))', 'Regulon(ESR2(+))', 'Regulon(ETS1(+))', 'Regulon(ETS2(+))', 'Regulon(ETV1(+))', 'Regulon(ETV2(+))', 'Regulon(ETV4(+))', 'Regulon(ETV5(+))', 'Regulon(ETV7(+))', 'Regulon(FIZ1(+))', 'Regulon(FLI1(+))', 'Regulon(FOS(+))', 'Regulon(FOSB(+))', 'Regulon(FOSL1(+))', 'Regulon(FOSL2(+))', 'Regulon(FOXI1(+))', 'Regulon(FOXJ2(+))', 'Regulon(FOXJ3(+))', 'Regulon(FOXM1(+))', 'Regulon(FOXO1(+))', 'Regulon(FOXO3(+))', 'Regulon(FOXO4(+))', 'Regulon(FOXO6(+))', 'Regulon(FOXP1(+))', 'Regulon(FOXP3(+))', 'Regulon(GABPA(+))', 'Regulon(GATA2(+))', 'Regulon(GATA3(+))', 'Regulon(GATA6(+))', 'Regulon(GLI3(+))', 'Regulon(GRHL1(+))', 'Regulon(GTF2B(+))', 'Regulon(GTF2IRD1(+))', 'Regulon(HDX(+))', 'Regulon(HIC1(+))', 'Regulon(HMBOX1(+))', 'Regulon(HMGA1(+))', 'Regulon(HOXA13(+))', 'Regulon(HOXA3(+))', 'Regulon(HOXA5(+))', 'Regulon(HOXA6(+))', 'Regulon(HOXB13(+))', 'Regulon(HOXB2(+))', 'Regulon(HOXB4(+))', 'Regulon(HOXB5(+))', 'Regulon(HOXB8(+))', 'Regulon(HOXC5(+))', 'Regulon(HOXC8(+))', 'Regulon(HOXC9(+))', 'Regulon(HOXD8(+))', 'Regulon(HSF1(+))', 'Regulon(IKZF1(+))', 'Regulon(IKZF2(+))', 'Regulon(IKZF3(+))', 'Regulon(IRF1(+))', 'Regulon(IRF2(+))', 'Regulon(IRF5(+))', 'Regulon(IRF7(+))', 'Regulon(IRF8(+))', 'Regulon(IRF9(+))', 'Regulon(IRX2(+))', 'Regulon(IRX4(+))', 'Regulon(JUN(+))', 'Regulon(JUNB(+))', 'Regulon(JUND(+))', 'Regulon(KLF10(+))', 'Regulon(KLF12(+))', 'Regulon(KLF2(+))', 'Regulon(KLF4(+))', 'Regulon(KLF6(+))', 'Regulon(KLF8(+))', 'Regulon(KLF9(+))', 'Regulon(KMT2B(+))', 'Regulon(LCORL(+))', 'Regulon(LEF1(+))', 'Regulon(LHX1(+))', 'Regulon(LTF(+))', 'Regulon(MAF(+))', 'Regulon(MAFB(+))', 'Regulon(MAFF(+))', 'Regulon(MAFG(+))', 'Regulon(MAFK(+))', 'Regulon(MAX(+))', 'Regulon(MECOM(+))', 'Regulon(MEF2C(+))', 'Regulon(MITF(+))', 'Regulon(MLX(+))', 'Regulon(MNX1(+))', 'Regulon(MSX1(+))', 'Regulon(MSX2(+))', 'Regulon(MTF1(+))', 'Regulon(MXD1(+))', 'Regulon(MYB(+))', 'Regulon(MYBL1(+))', 'Regulon(MYBL2(+))', 'Regulon(MYC(+))', 'Regulon(MYCN(+))', 'Regulon(MYF6(+))', 'Regulon(MZF1(+))', 'Regulon(NFATC2(+))', 'Regulon(NFATC4(+))', 'Regulon(NFE2L1(+))', 'Regulon(NFE2L2(+))', 'Regulon(NFE2L3(+))', 'Regulon(NFIA(+))', 'Regulon(NFIC(+))', 'Regulon(NFIL3(+))', 'Regulon(NFKB1(+))', 'Regulon(NFKB2(+))', 'Regulon(NFYB(+))', 'Regulon(NFYC(+))', 'Regulon(NKX2-5(+))', 'Regulon(NKX3-1(+))', 'Regulon(NR2C2(+))', 'Regulon(NR2F1(+))', 'Regulon(NR2F2(+))', 'Regulon(NR3C1(+))', 'Regulon(ONECUT2(+))', 'Regulon(OTX1(+))', 'Regulon(OVOL2(+))', 'Regulon(PAX6(+))', 'Regulon(PAX7(+))', 'Regulon(PBX1(+))', 'Regulon(PBX4(+))', 'Regulon(PGR(+))', 'Regulon(PHF20(+))', 'Regulon(PITX1(+))', 'Regulon(PLAGL1(+))', 'Regulon(POU2F1(+))', 'Regulon(POU2F2(+))', 'Regulon(POU2F3(+))', 'Regulon(POU6F1(+))', 'Regulon(PPARG(+))', 'Regulon(PRDM1(+))', 'Regulon(PRRX2(+))', 'Regulon(PURA(+))', 'Regulon(RARA(+))', 'Regulon(RARG(+))', 'Regulon(REL(+))', 'Regulon(RELB(+))', 'Regulon(REST(+))', 'Regulon(RFX1(+))', 'Regulon(RFX3(+))', 'Regulon(RFX5(+))', 'Regulon(RFX7(+))', 'Regulon(RUNX1(+))', 'Regulon(RUNX3(+))', 'Regulon(RXRA(+))', 'Regulon(SATB2(+))', 'Regulon(SHOX2(+))', 'Regulon(SMAD1(+))', 'Regulon(SMAD3(+))', 'Regulon(SMAD4(+))', 'Regulon(SMAD5(+))', 'Regulon(SNAI3(+))', 'Regulon(SOX12(+))', 'Regulon(SOX13(+))', 'Regulon(SOX17(+))', 'Regulon(SOX18(+))', 'Regulon(SOX2(+))', 'Regulon(SOX4(+))', 'Regulon(SOX6(+))', 'Regulon(SOX7(+))', 'Regulon(SOX9(+))', 'Regulon(SP1(+))', 'Regulon(SP3(+))', 'Regulon(SPDEF(+))', 'Regulon(SPI1(+))', 'Regulon(SPIB(+))', 'Regulon(SREBF1(+))', 'Regulon(SREBF2(+))', 'Regulon(SRF(+))', 'Regulon(STAT1(+))', 'Regulon(STAT2(+))', 'Regulon(STAT3(+))', 'Regulon(STAT5A(+))', 'Regulon(STAT6(+))', 'Regulon(TAL1(+))', 'Regulon(TBP(+))', 'Regulon(TBX1(+))', 'Regulon(TBX15(+))', 'Regulon(TBX21(+))', 'Regulon(TCF4(+))', 'Regulon(TCF7(+))', 'Regulon(TCF7L1(+))', 'Regulon(TCF7L2(+))', 'Regulon(TEAD1(+))', 'Regulon(TEAD3(+))', 'Regulon(TEAD4(+))', 'Regulon(TFAP2B(+))', 'Regulon(TFAP2C(+))', 'Regulon(TFCP2(+))', 'Regulon(TFDP1(+))', 'Regulon(TFE3(+))', 'Regulon(TFEB(+))', 'Regulon(TFEC(+))', 'Regulon(THRA(+))', 'Regulon(THRB(+))', 'Regulon(TP53(+))', 'Regulon(TWIST1(+))', 'Regulon(USF2(+))', 'Regulon(VDR(+))', 'Regulon(VEZF1(+))', 'Regulon(XBP1(+))', 'Regulon(YY1(+))', 'Regulon(YY2(+))', 'Regulon(ZBTB11(+))', 'Regulon(ZBTB14(+))', 'Regulon(ZBTB17(+))', 'Regulon(ZBTB20(+))', 'Regulon(ZBTB43(+))', 'Regulon(ZBTB5(+))', 'Regulon(ZBTB7A(+))', 'Regulon(ZEB1(+))', 'Regulon(ZFP62(+))', 'Regulon(ZFX(+))', 'Regulon(ZNF10(+))', 'Regulon(ZNF131(+))', 'Regulon(ZNF148(+))', 'Regulon(ZNF154(+))', 'Regulon(ZNF217(+))', 'Regulon(ZNF236(+))', 'Regulon(ZNF250(+))', 'Regulon(ZNF253(+))', 'Regulon(ZNF274(+))', 'Regulon(ZNF280D(+))', 'Regulon(ZNF281(+))', 'Regulon(ZNF32(+))', 'Regulon(ZNF333(+))', 'Regulon(ZNF335(+))', 'Regulon(ZNF43(+))', 'Regulon(ZNF430(+))', 'Regulon(ZNF440(+))', 'Regulon(ZNF444(+))', 'Regulon(ZNF445(+))', 'Regulon(ZNF480(+))', 'Regulon(ZNF484(+))', 'Regulon(ZNF502(+))', 'Regulon(ZNF511(+))', 'Regulon(ZNF516(+))', 'Regulon(ZNF518A(+))', 'Regulon(ZNF549(+))', 'Regulon(ZNF561(+))', 'Regulon(ZNF566(+))', 'Regulon(ZNF580(+))', 'Regulon(ZNF599(+))', 'Regulon(ZNF670(+))', 'Regulon(ZNF677(+))', 'Regulon(ZNF689(+))', 'Regulon(ZNF700(+))', 'Regulon(ZNF749(+))', 'Regulon(ZNF76(+))', 'Regulon(ZNF770(+))', 'Regulon(ZNF778(+))', 'Regulon(ZNF783(+))', 'Regulon(ZNF784(+))', 'Regulon(ZNF786(+))', 'Regulon(ZNF805(+))', 'Regulon(ZNF91(+))', 'Regulon(ZNF99(+))'\n",
       "     var: 'highly_variable', 'highly_variable_rank', 'means', 'variances', 'variances_norm', 'highly_variable_nbatches', 'Regulon(ARNT)', 'Regulon(ATF3)', 'Regulon(ATF4)', 'Regulon(ATF5)', 'Regulon(ATF6)', 'Regulon(BACH1)', 'Regulon(CEBPA)', 'Regulon(CEBPB)', 'Regulon(CEBPG)', 'Regulon(CREB1)', 'Regulon(CREB3)', 'Regulon(CREB3L1)', 'Regulon(CREB3L2)', 'Regulon(CREM)', 'Regulon(DDIT3)', 'Regulon(DEAF1)', 'Regulon(DLX3)', 'Regulon(DLX4)', 'Regulon(DRAP1)', 'Regulon(E2F1)', 'Regulon(E2F2)', 'Regulon(E2F3)', 'Regulon(E2F6)', 'Regulon(E2F7)', 'Regulon(E2F8)', 'Regulon(EGR1)', 'Regulon(EGR2)', 'Regulon(EHF)', 'Regulon(ELF1)', 'Regulon(ELF3)', 'Regulon(ELK1)', 'Regulon(ELK3)', 'Regulon(ELK4)', 'Regulon(EMX2)', 'Regulon(EOMES)', 'Regulon(ERG)', 'Regulon(ETS1)', 'Regulon(ETS2)', 'Regulon(ETV2)', 'Regulon(ETV4)', 'Regulon(ETV5)', 'Regulon(ETV7)', 'Regulon(FIZ1)', 'Regulon(FLI1)', 'Regulon(FOS)', 'Regulon(FOSB)', 'Regulon(FOSL2)', 'Regulon(FOXJ3)', 'Regulon(FOXM1)', 'Regulon(FOXO3)', 'Regulon(FOXP1)', 'Regulon(GABPA)', 'Regulon(GTF2B)', 'Regulon(HOXA13)', 'Regulon(HOXB2)', 'Regulon(HOXB5)', 'Regulon(IKZF1)', 'Regulon(IKZF2)', 'Regulon(IRF1)', 'Regulon(IRF2)', 'Regulon(IRF7)', 'Regulon(IRF8)', 'Regulon(IRF9)', 'Regulon(IRX2)', 'Regulon(IRX4)', 'Regulon(JUN)', 'Regulon(JUNB)', 'Regulon(KLF2)', 'Regulon(KLF4)', 'Regulon(KLF6)', 'Regulon(LHX1)', 'Regulon(LTF)', 'Regulon(MAFB)', 'Regulon(MAFF)', 'Regulon(MEF2C)', 'Regulon(MITF)', 'Regulon(MSX1)', 'Regulon(MSX2)', 'Regulon(MYBL1)', 'Regulon(MYBL2)', 'Regulon(MYF6)', 'Regulon(MZF1)', 'Regulon(NFE2L3)', 'Regulon(NFIL3)', 'Regulon(NFKB1)', 'Regulon(NFKB2)', 'Regulon(NFYB)', 'Regulon(NFYC)', 'Regulon(NKX2-5)', 'Regulon(NR3C1)', 'Regulon(ONECUT2)', 'Regulon(PHF20)', 'Regulon(PITX1)', 'Regulon(PLAGL1)', 'Regulon(POU2F2)', 'Regulon(PRDM1)', 'Regulon(RARA)', 'Regulon(REL)', 'Regulon(RELB)', 'Regulon(REST)', 'Regulon(RFX1)', 'Regulon(RUNX3)', 'Regulon(SMAD5)', 'Regulon(SP1)', 'Regulon(SP3)', 'Regulon(SPDEF)', 'Regulon(SPI1)', 'Regulon(SPIB)', 'Regulon(SREBF1)', 'Regulon(SRF)', 'Regulon(STAT1)', 'Regulon(STAT2)', 'Regulon(STAT5A)', 'Regulon(TBP)', 'Regulon(TBX1)', 'Regulon(TBX21)', 'Regulon(TCF7)', 'Regulon(TCF7L1)', 'Regulon(TEAD1)', 'Regulon(TEAD4)', 'Regulon(TFDP1)', 'Regulon(TFEB)', 'Regulon(TWIST1)', 'Regulon(USF2)', 'Regulon(XBP1)', 'Regulon(YY1)', 'Regulon(ZBTB20)', 'Regulon(ZBTB43)', 'Regulon(ZNF148)', 'Regulon(ZNF154)', 'Regulon(ZNF236)', 'Regulon(ZNF253)', 'Regulon(ZNF281)', 'Regulon(ZNF32)', 'Regulon(ZNF335)', 'Regulon(ZNF484)', 'Regulon(ZNF502)', 'Regulon(ZNF580)', 'Regulon(ZNF770)', 'Regulon(ZNF783)', 'Regulon(ZNF784)', 'Regulon(ZNF91)'\n",
       "     uns: 'GenAnnoHighConf_colors', 'GenAnnoV1_colors', 'GenAnnoV2_colors', 'GennAnno_ScAnvi_colors', 'celltypist_labels_Immune_All_High_highconf_colors', 'hvg', 'leiden', 'leiden_colors', 'log1p', 'neighbors', 'pca', 'predicted_labels_colors', 'aucell'\n",
       "     obsm: 'X_pca', 'X_pca_MDE', 'X_scANVI', 'X_scVI', 'X_scanvi_MDE', 'X_scvi_MDE', 'X_aucell'\n",
       "     varm: 'PCs'\n",
       "     layers: 'counts'\n",
       "     obsp: 'connectivities', 'distances',\n",
       " 'TNBC': AnnData object with n_obs × n_vars = 59062 × 18088\n",
       "     obs: 'sample', 'n_genes_by_counts', 'total_counts', 'pct_counts_in_top_50_genes', 'pct_counts_in_top_100_genes', 'pct_counts_in_top_200_genes', 'pct_counts_in_top_500_genes', 'total_counts_mt', 'pct_counts_mt', 'complexity', 'doublet_scores', 'predicted_doublets', 'n_genes', 'n_counts', 'celltypist_labels_Immune_All_High', 'celltypist_scores_Immune_All_High', 'celltypist_labels_Cells_Adult_Breast', 'celltypist_scores_Cells_Adult_Breast', 'batch', 'subtype', 'leiden', 'celltypist_labels_Immune_All_High_highconf', 'GenAnno', 'GenAnnoV1', 'GenAnnoV2', 'celltypist_mapped', 'GenAnnoHighConf', 'cell_type', 'predicted_labels', 'GennAnno_ScAnvi', 'Regulon(ALX3(+))', 'Regulon(ALX4(+))', 'Regulon(AR(+))', 'Regulon(ARID3A(+))', 'Regulon(ARID5B(+))', 'Regulon(ATF1(+))', 'Regulon(ATF3(+))', 'Regulon(ATF4(+))', 'Regulon(ATF5(+))', 'Regulon(ATF7(+))', 'Regulon(BACH1(+))', 'Regulon(BARX2(+))', 'Regulon(BATF(+))', 'Regulon(BCL11A(+))', 'Regulon(BCL11B(+))', 'Regulon(BCL6(+))', 'Regulon(BHLHE22(+))', 'Regulon(BHLHE40(+))', 'Regulon(BPTF(+))', 'Regulon(CEBPA(+))', 'Regulon(CEBPB(+))', 'Regulon(CEBPD(+))', 'Regulon(CEBPG(+))', 'Regulon(CEBPZ(+))', 'Regulon(CREB1(+))', 'Regulon(CREB3(+))', 'Regulon(CREB5(+))', 'Regulon(CREM(+))', 'Regulon(CTCF(+))', 'Regulon(CUX1(+))', 'Regulon(DDIT3(+))', 'Regulon(DLX1(+))', 'Regulon(DLX5(+))', 'Regulon(DLX6(+))', 'Regulon(DRAP1(+))', 'Regulon(E2F1(+))', 'Regulon(E2F2(+))', 'Regulon(E2F3(+))', 'Regulon(E2F7(+))', 'Regulon(E2F8(+))', 'Regulon(EBF1(+))', 'Regulon(EGR1(+))', 'Regulon(EGR3(+))', 'Regulon(EHF(+))', 'Regulon(ELF1(+))', 'Regulon(ELF2(+))', 'Regulon(ELF3(+))', 'Regulon(ELF5(+))', 'Regulon(ELK1(+))', 'Regulon(ELK3(+))', 'Regulon(EMX2(+))', 'Regulon(EOMES(+))', 'Regulon(ERG(+))', 'Regulon(ESR1(+))', 'Regulon(ESRRA(+))', 'Regulon(ETS1(+))', 'Regulon(ETS2(+))', 'Regulon(ETV1(+))', 'Regulon(ETV2(+))', 'Regulon(ETV4(+))', 'Regulon(ETV5(+))', 'Regulon(ETV6(+))', 'Regulon(ETV7(+))', 'Regulon(FLI1(+))', 'Regulon(FOS(+))', 'Regulon(FOSB(+))', 'Regulon(FOSL1(+))', 'Regulon(FOSL2(+))', 'Regulon(FOXC2(+))', 'Regulon(FOXD2(+))', 'Regulon(FOXI1(+))', 'Regulon(FOXL1(+))', 'Regulon(FOXM1(+))', 'Regulon(FOXN2(+))', 'Regulon(FOXO1(+))', 'Regulon(FOXO3(+))', 'Regulon(FOXP1(+))', 'Regulon(FOXP3(+))', 'Regulon(FOXP4(+))', 'Regulon(GATA2(+))', 'Regulon(GATA3(+))', 'Regulon(GATA6(+))', 'Regulon(GFI1(+))', 'Regulon(GRHL1(+))', 'Regulon(GRHL3(+))', 'Regulon(GSC(+))', 'Regulon(GTF2IRD1(+))', 'Regulon(HES1(+))', 'Regulon(HEY1(+))', 'Regulon(HEY2(+))', 'Regulon(HEYL(+))', 'Regulon(HHEX(+))', 'Regulon(HIC1(+))', 'Regulon(HMGA1(+))', 'Regulon(HOXA10(+))', 'Regulon(HOXA13(+))', 'Regulon(HOXA3(+))', 'Regulon(HOXA6(+))', 'Regulon(HOXA7(+))', 'Regulon(HOXA9(+))', 'Regulon(HOXB2(+))', 'Regulon(HOXB3(+))', 'Regulon(HOXC10(+))', 'Regulon(HOXC6(+))', 'Regulon(HOXC9(+))', 'Regulon(HSF1(+))', 'Regulon(IKZF1(+))', 'Regulon(IKZF2(+))', 'Regulon(IKZF3(+))', 'Regulon(IRF1(+))', 'Regulon(IRF2(+))', 'Regulon(IRF3(+))', 'Regulon(IRF4(+))', 'Regulon(IRF5(+))', 'Regulon(IRF7(+))', 'Regulon(IRF8(+))', 'Regulon(IRF9(+))', 'Regulon(IRX4(+))', 'Regulon(JDP2(+))', 'Regulon(JUN(+))', 'Regulon(JUNB(+))', 'Regulon(JUND(+))', 'Regulon(KLF10(+))', 'Regulon(KLF12(+))', 'Regulon(KLF4(+))', 'Regulon(KLF6(+))', 'Regulon(KLF7(+))', 'Regulon(KLF8(+))', 'Regulon(KLF9(+))', 'Regulon(LEF1(+))', 'Regulon(LTF(+))', 'Regulon(MAF(+))', 'Regulon(MAFB(+))', 'Regulon(MAFF(+))', 'Regulon(MAFG(+))', 'Regulon(MAFK(+))', 'Regulon(MAX(+))', 'Regulon(MAZ(+))', 'Regulon(MBD2(+))', 'Regulon(MECP2(+))', 'Regulon(MEF2C(+))', 'Regulon(MEIS1(+))', 'Regulon(MESP1(+))', 'Regulon(MITF(+))', 'Regulon(MLX(+))', 'Regulon(MNX1(+))', 'Regulon(MSX1(+))', 'Regulon(MSX2(+))', 'Regulon(MTF2(+))', 'Regulon(MXD1(+))', 'Regulon(MYB(+))', 'Regulon(MYBL1(+))', 'Regulon(MYBL2(+))', 'Regulon(MYC(+))', 'Regulon(MYCN(+))', 'Regulon(NFATC1(+))', 'Regulon(NFATC2(+))', 'Regulon(NFATC3(+))', 'Regulon(NFE2L1(+))', 'Regulon(NFE2L2(+))', 'Regulon(NFE2L3(+))', 'Regulon(NFIA(+))', 'Regulon(NFIC(+))', 'Regulon(NFIL3(+))', 'Regulon(NFKB1(+))', 'Regulon(NFKB2(+))', 'Regulon(NFYB(+))', 'Regulon(NFYC(+))', 'Regulon(NKX3-1(+))', 'Regulon(NKX3-2(+))', 'Regulon(NR1D1(+))', 'Regulon(NR2F1(+))', 'Regulon(NR2F2(+))', 'Regulon(NR3C1(+))', 'Regulon(NR5A2(+))', 'Regulon(ONECUT2(+))', 'Regulon(OSR1(+))', 'Regulon(OSR2(+))', 'Regulon(OTX1(+))', 'Regulon(PATZ1(+))', 'Regulon(PAX5(+))', 'Regulon(PBX1(+))', 'Regulon(PBX3(+))', 'Regulon(PGR(+))', 'Regulon(PITX1(+))', 'Regulon(PITX2(+))', 'Regulon(PLAGL1(+))', 'Regulon(POU2F1(+))', 'Regulon(POU2F2(+))', 'Regulon(POU2F3(+))', 'Regulon(POU3F3(+))', 'Regulon(PPARG(+))', 'Regulon(PRDM1(+))', 'Regulon(PRRX2(+))', 'Regulon(PURA(+))', 'Regulon(RARA(+))', 'Regulon(RARB(+))', 'Regulon(RARG(+))', 'Regulon(REL(+))', 'Regulon(RELB(+))', 'Regulon(RFX2(+))', 'Regulon(RFX3(+))', 'Regulon(RUNX1(+))', 'Regulon(RUNX3(+))', 'Regulon(RXRA(+))', 'Regulon(RXRB(+))', 'Regulon(SHOX2(+))', 'Regulon(SMAD1(+))', 'Regulon(SMAD3(+))', 'Regulon(SMAD5(+))', 'Regulon(SOX10(+))', 'Regulon(SOX11(+))', 'Regulon(SOX15(+))', 'Regulon(SOX18(+))', 'Regulon(SOX4(+))', 'Regulon(SOX6(+))', 'Regulon(SOX7(+))', 'Regulon(SOX8(+))', 'Regulon(SOX9(+))', 'Regulon(SP3(+))', 'Regulon(SP5(+))', 'Regulon(SPDEF(+))', 'Regulon(SPI1(+))', 'Regulon(SPIB(+))', 'Regulon(SREBF1(+))', 'Regulon(SREBF2(+))', 'Regulon(SRF(+))', 'Regulon(STAT1(+))', 'Regulon(STAT2(+))', 'Regulon(STAT4(+))', 'Regulon(STAT5A(+))', 'Regulon(STAT6(+))', 'Regulon(TBX15(+))', 'Regulon(TBX21(+))', 'Regulon(TBX3(+))', 'Regulon(TCF3(+))', 'Regulon(TCF4(+))', 'Regulon(TCF7(+))', 'Regulon(TCF7L1(+))', 'Regulon(TCF7L2(+))', 'Regulon(TEAD1(+))', 'Regulon(TEAD4(+))', 'Regulon(TFAP2C(+))', 'Regulon(TFDP1(+))', 'Regulon(TFDP2(+))', 'Regulon(TFE3(+))', 'Regulon(TFEB(+))', 'Regulon(TFEC(+))', 'Regulon(THRB(+))', 'Regulon(TP73(+))', 'Regulon(UBP1(+))', 'Regulon(USF2(+))', 'Regulon(VAX2(+))', 'Regulon(VDR(+))', 'Regulon(VEZF1(+))', 'Regulon(XBP1(+))', 'Regulon(YBX1(+))', 'Regulon(YY1(+))', 'Regulon(YY2(+))', 'Regulon(ZBTB1(+))', 'Regulon(ZBTB18(+))', 'Regulon(ZBTB21(+))', 'Regulon(ZBTB25(+))', 'Regulon(ZBTB41(+))', 'Regulon(ZBTB5(+))', 'Regulon(ZBTB7A(+))', 'Regulon(ZBTB8A(+))', 'Regulon(ZEB1(+))', 'Regulon(ZFPM1(+))', 'Regulon(ZNF138(+))', 'Regulon(ZNF148(+))', 'Regulon(ZNF223(+))', 'Regulon(ZNF232(+))', 'Regulon(ZNF281(+))', 'Regulon(ZNF385D(+))', 'Regulon(ZNF444(+))', 'Regulon(ZNF524(+))', 'Regulon(ZNF547(+))', 'Regulon(ZNF552(+))', 'Regulon(ZNF580(+))', 'Regulon(ZNF582(+))', 'Regulon(ZNF639(+))', 'Regulon(ZNF652(+))', 'Regulon(ZNF680(+))', 'Regulon(ZNF730(+))', 'Regulon(ZNF768(+))', 'Regulon(ZNF823(+))', 'Regulon(ZNF85(+))', 'Regulon(ZSCAN31(+))', 'Regulon(ZSCAN5A(+))'\n",
       "     var: 'highly_variable', 'highly_variable_rank', 'means', 'variances', 'variances_norm', 'highly_variable_nbatches', 'Regulon(AR)', 'Regulon(ARID5B)', 'Regulon(ATF3)', 'Regulon(ATF4)', 'Regulon(BATF)', 'Regulon(BHLHE40)', 'Regulon(CEBPB)', 'Regulon(CEBPG)', 'Regulon(CREB3)', 'Regulon(CREM)', 'Regulon(CTCF)', 'Regulon(CUX1)', 'Regulon(DDIT3)', 'Regulon(DRAP1)', 'Regulon(E2F1)', 'Regulon(E2F2)', 'Regulon(E2F3)', 'Regulon(E2F7)', 'Regulon(E2F8)', 'Regulon(EBF1)', 'Regulon(EGR1)', 'Regulon(EGR3)', 'Regulon(EHF)', 'Regulon(ELF1)', 'Regulon(ELF2)', 'Regulon(ELF3)', 'Regulon(ELK1)', 'Regulon(ELK3)', 'Regulon(EOMES)', 'Regulon(ERG)', 'Regulon(ESR1)', 'Regulon(ETS1)', 'Regulon(ETS2)', 'Regulon(ETV5)', 'Regulon(ETV7)', 'Regulon(FLI1)', 'Regulon(FOS)', 'Regulon(FOSB)', 'Regulon(FOSL1)', 'Regulon(FOSL2)', 'Regulon(FOXM1)', 'Regulon(FOXO1)', 'Regulon(FOXO3)', 'Regulon(FOXP1)', 'Regulon(FOXP3)', 'Regulon(GATA2)', 'Regulon(GRHL1)', 'Regulon(GRHL3)', 'Regulon(HIC1)', 'Regulon(HOXA10)', 'Regulon(HOXA13)', 'Regulon(HOXA9)', 'Regulon(HOXB2)', 'Regulon(HOXC6)', 'Regulon(HOXC9)', 'Regulon(IKZF1)', 'Regulon(IRF1)', 'Regulon(IRF2)', 'Regulon(IRF3)', 'Regulon(IRF4)', 'Regulon(IRF7)', 'Regulon(IRF8)', 'Regulon(IRF9)', 'Regulon(JUN)', 'Regulon(JUNB)', 'Regulon(JUND)', 'Regulon(KLF10)', 'Regulon(KLF4)', 'Regulon(KLF6)', 'Regulon(MAFB)', 'Regulon(MAFF)', 'Regulon(MAFK)', 'Regulon(MAX)', 'Regulon(MBD2)', 'Regulon(MECP2)', 'Regulon(MEF2C)', 'Regulon(MESP1)', 'Regulon(MITF)', 'Regulon(MLX)', 'Regulon(MNX1)', 'Regulon(MSX1)', 'Regulon(MTF2)', 'Regulon(MYBL1)', 'Regulon(MYBL2)', 'Regulon(NFKB1)', 'Regulon(NFKB2)', 'Regulon(NFYB)', 'Regulon(NFYC)', 'Regulon(NR3C1)', 'Regulon(ONECUT2)', 'Regulon(OSR2)', 'Regulon(PITX1)', 'Regulon(PLAGL1)', 'Regulon(POU2F2)', 'Regulon(PPARG)', 'Regulon(PRDM1)', 'Regulon(PRRX2)', 'Regulon(RARA)', 'Regulon(REL)', 'Regulon(RELB)', 'Regulon(RUNX3)', 'Regulon(SMAD5)', 'Regulon(SOX10)', 'Regulon(SOX6)', 'Regulon(SOX8)', 'Regulon(SP3)', 'Regulon(SPDEF)', 'Regulon(SPI1)', 'Regulon(SPIB)', 'Regulon(SREBF1)', 'Regulon(SREBF2)', 'Regulon(STAT1)', 'Regulon(STAT2)', 'Regulon(STAT5A)', 'Regulon(STAT6)', 'Regulon(TBX21)', 'Regulon(TCF4)', 'Regulon(TCF7L1)', 'Regulon(TCF7L2)', 'Regulon(TEAD1)', 'Regulon(TEAD4)', 'Regulon(TFAP2C)', 'Regulon(TFDP1)', 'Regulon(TFEC)', 'Regulon(XBP1)', 'Regulon(YY1)', 'Regulon(ZBTB1)', 'Regulon(ZBTB7A)', 'Regulon(ZBTB8A)', 'Regulon(ZNF281)', 'Regulon(ZNF385D)', 'Regulon(ZNF552)', 'Regulon(ZNF580)', 'Regulon(ZNF85)', 'Regulon(ZSCAN31)'\n",
       "     uns: 'GenAnnoHighConf_colors', 'GenAnnoV1_colors', 'GenAnnoV2_colors', 'GennAnno_ScAnvi_colors', 'celltypist_labels_Immune_All_High_highconf_colors', 'hvg', 'leiden', 'leiden_colors', 'log1p', 'neighbors', 'pca', 'predicted_labels_colors', 'aucell'\n",
       "     obsm: 'X_pca', 'X_pca_MDE', 'X_scANVI', 'X_scVI', 'X_scanvi_MDE', 'X_scvi_MDE', 'X_aucell'\n",
       "     varm: 'PCs'\n",
       "     layers: 'counts'\n",
       "     obsp: 'connectivities', 'distances'}"
      ]
     },
     "execution_count": 25,
     "metadata": {},
     "output_type": "execute_result"
    }
   ],
   "source": [
    "adatas"
   ]
  },
  {
   "cell_type": "code",
   "execution_count": 26,
   "id": "6852048c-bbaa-4349-ac3e-bf90a49d654c",
   "metadata": {},
   "outputs": [],
   "source": [
    "adata_dir = os.path.join(SAVING_DIR, \"adatas_processed_dict.pkl\")\n",
    "with open(adata_dir, \"wb\") as f:\n",
    "    pickle.dump(adatas, f)"
   ]
  },
  {
   "cell_type": "code",
   "execution_count": 27,
   "id": "69b5fc78-2914-44ee-be2e-8ab4db8d5285",
   "metadata": {},
   "outputs": [],
   "source": [
    "df_results_dict = {}\n",
    "\n",
    "for adata in adatas.values():\n",
    "    df_obs = adata.obs\n",
    "    signature_column_names = list(df_obs.select_dtypes('number').columns)\n",
    "    signature_column_names = list(filter(lambda s: s.startswith('Regulon('), signature_column_names))\n",
    "    df_scores = df_obs[signature_column_names + ['cell_type']]\n",
    "    df_results = ((df_scores.groupby(by='cell_type').mean() - df_obs[signature_column_names].mean())/ df_obs[signature_column_names].std()).stack().reset_index().rename(columns={'level_1': 'regulon', 0:'Z'})\n",
    "    df_results['regulon'] = list(map(lambda s: s[8:-1], df_results.regulon))\n",
    "    df_results = df_results[(df_results.Z >= 3)].sort_values('Z', ascending=False)\n",
    "    df_results.regulon = df_results.regulon.str.replace(r'\\(\\+\\)', '', regex=True)\n",
    "    ttype = adata.obs.subtype.cat.categories[0]\n",
    "    df_results_dict[ttype] = df_results"
   ]
  },
  {
   "cell_type": "code",
   "execution_count": 28,
   "id": "25c60013-bd96-423c-a7ec-eab04562a8fb",
   "metadata": {},
   "outputs": [],
   "source": [
    "df_dir = os.path.join(SAVING_DIR, \"df_results_dict.pkl\")\n",
    "with open(df_dir, \"wb\") as f:\n",
    "    pickle.dump(df_results_dict, f)"
   ]
  },
  {
   "cell_type": "code",
   "execution_count": null,
   "id": "3fd208e8-9173-4a24-a046-9d2642aa12e5",
   "metadata": {},
   "outputs": [],
   "source": [
    "df = df_results_dict['TNBC'].reset_index(drop=True)\n",
    "df.rename(columns={'regulon': 'TF'}, inplace=True)\n"
   ]
  },
  {
   "cell_type": "code",
   "execution_count": null,
   "id": "b3127360-775c-4d92-8518-6215b8c12ae8",
   "metadata": {},
   "outputs": [],
   "source": [
    "df.iloc[:, :2].to_csv(\"/home/igarzonalva/Proyecto_SC_TNBC/GSE161529/cpdb/activetf.tsv\", sep = '\\t', index = False)"
   ]
  },
  {
   "cell_type": "code",
   "execution_count": null,
   "id": "cb467f6d-6bfa-4f15-b74e-1de028cfe503",
   "metadata": {
    "scrolled": true
   },
   "outputs": [],
   "source": [
    "df_results_dict['TNBC']"
   ]
  },
  {
   "cell_type": "code",
   "execution_count": null,
   "id": "5f24e6aa-b2c1-4344-a5c1-01f03ef17b4f",
   "metadata": {},
   "outputs": [],
   "source": [
    "ct_regulon = {}\n",
    "def explore_celltype(c_type):\n",
    "    for key in df_results_dict.keys():\n",
    "        results = df_results_dict[key][df_results_dict[key].cell_type == c_type]\n",
    "        trh = np.quantile(np.abs(results.Z.astype(float)),0.95)\n",
    "        results = results[np.abs(results.Z.astype(float)) > trh]\n",
    "        ct_regulon[key] = results.regulon \n",
    "    "
   ]
  },
  {
   "cell_type": "code",
   "execution_count": null,
   "id": "7019e468-d905-4419-8e76-19773f28265a",
   "metadata": {},
   "outputs": [],
   "source": [
    "explore_celltype(\"Fibroblasts\")"
   ]
  },
  {
   "cell_type": "code",
   "execution_count": null,
   "id": "2e2d8252-3e5b-44fa-8058-e36066f8447a",
   "metadata": {
    "scrolled": true
   },
   "outputs": [],
   "source": [
    "ct_regulon"
   ]
  },
  {
   "cell_type": "code",
   "execution_count": null,
   "id": "7d326dea-e0fd-4b69-8fd8-f2a485663bf1",
   "metadata": {
    "scrolled": true
   },
   "outputs": [],
   "source": [
    "# 1) Convert lists to sets for easy counting\n",
    "for key in ct_regulon:\n",
    "    ct_regulon[key] = set(ct_regulon[key])\n",
    "\n",
    "# 2) Count occurrences\n",
    "counts = defaultdict(int)\n",
    "for subtype, tf_set in ct_regulon.items():\n",
    "    for tf in tf_set:\n",
    "        counts[tf] += 1\n",
    "\n",
    "# 3) Classify TFs by appearance frequency\n",
    "in_one, in_two, in_three = [], [], []\n",
    "for tf, cnt in counts.items():\n",
    "    if cnt == 1:\n",
    "        in_one.append(tf)\n",
    "    elif cnt == 2:\n",
    "        in_two.append(tf)\n",
    "    elif cnt == 3:\n",
    "        in_three.append(tf)\n"
   ]
  },
  {
   "cell_type": "code",
   "execution_count": null,
   "id": "2a2d8d81-f060-4bd3-b751-a3a0aa7b23a8",
   "metadata": {},
   "outputs": [],
   "source": [
    "print(\"TFs in exactly one subtype list:\", in_one)\n",
    "print(\"TFs in exactly two subtype lists:\", in_two)\n",
    "print(\"TFs in all three subtype lists:\", in_three)"
   ]
  },
  {
   "cell_type": "code",
   "execution_count": null,
   "id": "fd923a89-7f56-4d96-8253-c6d83ba01189",
   "metadata": {},
   "outputs": [],
   "source": [
    "sc.set_figure_params(frameon=False, dpi=150, fontsize=8)\n",
    "sc.pl.embedding(\n",
    "    adatas['TNBC'],\n",
    "    basis=\"X_scanvi_MDE\",\n",
    "    color=[\"Regulon(SHOX2(+))\", \"Regulon(HIC1(+))\", \"ENPP1\",\"Regulon(SMAD1(+))\"],\n",
    "    frameon=False,\n",
    "    ncols=2,use_raw = False, cmap = \"viridis\", size = 8)"
   ]
  },
  {
   "cell_type": "code",
   "execution_count": null,
   "id": "dc80b566-e6f5-4a21-b95b-68bafe29e592",
   "metadata": {},
   "outputs": [],
   "source": [
    "sc.pl.dotplot(adatas['ER'], ['Regulon(MITF(+))', 'Regulon(MYC(+))', 'Regulon(DDIT3(+))',], groupby='cell_type')\n"
   ]
  },
  {
   "cell_type": "code",
   "execution_count": 1,
   "id": "f0ab82cb-f8a5-4891-836c-22c407157042",
   "metadata": {},
   "outputs": [],
   "source": [
    "import pickle"
   ]
  },
  {
   "cell_type": "code",
   "execution_count": 2,
   "id": "5f44cca6-3e4c-42cf-90ed-f8b5bea9b02e",
   "metadata": {},
   "outputs": [],
   "source": [
    "with open(\"/home/igarzonalva/Proyecto_SC_TNBC/GSE161529/grn/Results/df_results_dict.pkl\", \"rb\") as f:\n",
    "    df = pickle.load(f)"
   ]
  },
  {
   "cell_type": "code",
   "execution_count": 3,
   "id": "0591171a-d6f6-40a9-afc6-d7b9bd32a1ac",
   "metadata": {
    "scrolled": true
   },
   "outputs": [
    {
     "data": {
      "text/plain": [
       "{'ER':         cell_type regulon          Z\n",
       " 1191   Mast cells   GATA2  10.927799\n",
       " 1345   Mast cells    TAL1   8.907119\n",
       " 609   Endothelial     ERG   6.076746\n",
       " 768   Endothelial   SOX17   5.653256\n",
       " 643   Endothelial    HEY1   5.390032\n",
       " 605   Endothelial    ELK3   5.135444\n",
       " 661   Endothelial   HOXD8   5.065468\n",
       " 1154   Mast cells    EBF3   4.809410\n",
       " 570   Endothelial   BCL6B   4.781235\n",
       " 769   Endothelial   SOX18   4.181496\n",
       " 787   Endothelial    TAL1   3.882504\n",
       " 188       B cells  POU2F2   3.764207\n",
       " 1249   Mast cells    LYL1   3.756502\n",
       " 633   Endothelial   GATA2   3.575831\n",
       " 221       B cells    SPIB   3.525671\n",
       " 1785      Myeloid    IRF5   3.007905,\n",
       " 'HER2':         cell_type regulon         Z\n",
       " 840   Endothelial   SOX18  4.638924\n",
       " 682   Endothelial     ERG  4.610072\n",
       " 839   Endothelial   SOX17  4.607801\n",
       " 844   Endothelial    SOX7  4.041955\n",
       " 677   Endothelial    ELK3  3.961117\n",
       " 685   Endothelial    ETS2  3.531254\n",
       " 832   Endothelial   SMAD1  3.200633\n",
       " 1658  Mesenchymal    HIC1  3.070465\n",
       " 1610  Mesenchymal    EBF1  3.063956\n",
       " 1823  Mesenchymal  TWIST1  3.009022,\n",
       " 'TNBC':          cell_type regulon         Z\n",
       " 1239    Mast cells   GATA2  7.292744\n",
       " 1440    Mast cells  ZNF582  6.942867\n",
       " 787    Endothelial   SMAD1  6.190944\n",
       " 632    Endothelial     ERG  5.677251\n",
       " 793    Endothelial   SOX18  4.981453\n",
       " 629    Endothelial    ELK3  4.541414\n",
       " 1656   Mesenchymal   SHOX2  4.285721\n",
       " 1542   Mesenchymal    HIC1  4.149948\n",
       " 1621   Mesenchymal   NR2F1  4.130686\n",
       " 1490   Mesenchymal    EBF1  4.098116\n",
       " 1690   Mesenchymal   TEAD1  4.020296\n",
       " 671    Endothelial    HHEX  3.924097\n",
       " 1236    Mast cells   FOXP1  3.847440\n",
       " 1636   Mesenchymal  PLAGL1  3.842716\n",
       " 1682   Mesenchymal   TBX15  3.811871\n",
       " 180        B cells    PAX5  3.683337\n",
       " 816    Endothelial    TCF4  3.653893\n",
       " 2033  Plasma cells  ARID3A  3.328295\n",
       " 789    Endothelial   SMAD5  3.145579\n",
       " 1507   Mesenchymal    ETV1  3.124606\n",
       " 1689   Mesenchymal  TCF7L2  3.086131}"
      ]
     },
     "execution_count": 3,
     "metadata": {},
     "output_type": "execute_result"
    }
   ],
   "source": [
    "df"
   ]
  },
  {
   "cell_type": "code",
   "execution_count": 6,
   "id": "26ab4cbb-f572-4390-b8b1-e6c8e3072b8f",
   "metadata": {},
   "outputs": [],
   "source": [
    "import matplotlib.pyplot as plt\n",
    "import seaborn as sns\n",
    "import pandas as pd"
   ]
  },
  {
   "cell_type": "code",
   "execution_count": 11,
   "id": "5d45c3fa-e821-4c18-bff6-8f0b66f096a2",
   "metadata": {},
   "outputs": [],
   "source": [
    "df_list = []\n",
    "\n",
    "# Loop over each key-value pair in the dictionary\n",
    "for tumor_type, df_res in df.items():\n",
    "    # Make a copy so we don't alter the original\n",
    "    df_tmp = df_res.copy()\n",
    "    # Add a new column \"tumor_type\" based on the dictionary key\n",
    "    df_tmp[\"tumor_type\"] = tumor_type  \n",
    "    # Collect in a list\n",
    "    df_list.append(df_tmp)"
   ]
  },
  {
   "cell_type": "code",
   "execution_count": 13,
   "id": "12fd2f07-68db-480e-961e-fe15ab36ccdc",
   "metadata": {},
   "outputs": [],
   "source": [
    "df_merged = pd.concat(df_list, ignore_index=True)"
   ]
  },
  {
   "cell_type": "code",
   "execution_count": 14,
   "id": "c3375b8b-fe7d-4b9b-b92b-ed66b48496c7",
   "metadata": {},
   "outputs": [
    {
     "data": {
      "text/html": [
       "<div>\n",
       "<style scoped>\n",
       "    .dataframe tbody tr th:only-of-type {\n",
       "        vertical-align: middle;\n",
       "    }\n",
       "\n",
       "    .dataframe tbody tr th {\n",
       "        vertical-align: top;\n",
       "    }\n",
       "\n",
       "    .dataframe thead th {\n",
       "        text-align: right;\n",
       "    }\n",
       "</style>\n",
       "<table border=\"1\" class=\"dataframe\">\n",
       "  <thead>\n",
       "    <tr style=\"text-align: right;\">\n",
       "      <th></th>\n",
       "      <th>cell_type</th>\n",
       "      <th>regulon</th>\n",
       "      <th>Z</th>\n",
       "      <th>tumor_type</th>\n",
       "    </tr>\n",
       "  </thead>\n",
       "  <tbody>\n",
       "    <tr>\n",
       "      <th>0</th>\n",
       "      <td>Mast cells</td>\n",
       "      <td>GATA2</td>\n",
       "      <td>10.927799</td>\n",
       "      <td>ER</td>\n",
       "    </tr>\n",
       "    <tr>\n",
       "      <th>1</th>\n",
       "      <td>Mast cells</td>\n",
       "      <td>TAL1</td>\n",
       "      <td>8.907119</td>\n",
       "      <td>ER</td>\n",
       "    </tr>\n",
       "    <tr>\n",
       "      <th>2</th>\n",
       "      <td>Endothelial</td>\n",
       "      <td>ERG</td>\n",
       "      <td>6.076746</td>\n",
       "      <td>ER</td>\n",
       "    </tr>\n",
       "    <tr>\n",
       "      <th>3</th>\n",
       "      <td>Endothelial</td>\n",
       "      <td>SOX17</td>\n",
       "      <td>5.653256</td>\n",
       "      <td>ER</td>\n",
       "    </tr>\n",
       "    <tr>\n",
       "      <th>4</th>\n",
       "      <td>Endothelial</td>\n",
       "      <td>HEY1</td>\n",
       "      <td>5.390032</td>\n",
       "      <td>ER</td>\n",
       "    </tr>\n",
       "    <tr>\n",
       "      <th>5</th>\n",
       "      <td>Endothelial</td>\n",
       "      <td>ELK3</td>\n",
       "      <td>5.135444</td>\n",
       "      <td>ER</td>\n",
       "    </tr>\n",
       "    <tr>\n",
       "      <th>6</th>\n",
       "      <td>Endothelial</td>\n",
       "      <td>HOXD8</td>\n",
       "      <td>5.065468</td>\n",
       "      <td>ER</td>\n",
       "    </tr>\n",
       "    <tr>\n",
       "      <th>7</th>\n",
       "      <td>Mast cells</td>\n",
       "      <td>EBF3</td>\n",
       "      <td>4.809410</td>\n",
       "      <td>ER</td>\n",
       "    </tr>\n",
       "    <tr>\n",
       "      <th>8</th>\n",
       "      <td>Endothelial</td>\n",
       "      <td>BCL6B</td>\n",
       "      <td>4.781235</td>\n",
       "      <td>ER</td>\n",
       "    </tr>\n",
       "    <tr>\n",
       "      <th>9</th>\n",
       "      <td>Endothelial</td>\n",
       "      <td>SOX18</td>\n",
       "      <td>4.181496</td>\n",
       "      <td>ER</td>\n",
       "    </tr>\n",
       "    <tr>\n",
       "      <th>10</th>\n",
       "      <td>Endothelial</td>\n",
       "      <td>TAL1</td>\n",
       "      <td>3.882504</td>\n",
       "      <td>ER</td>\n",
       "    </tr>\n",
       "    <tr>\n",
       "      <th>11</th>\n",
       "      <td>B cells</td>\n",
       "      <td>POU2F2</td>\n",
       "      <td>3.764207</td>\n",
       "      <td>ER</td>\n",
       "    </tr>\n",
       "    <tr>\n",
       "      <th>12</th>\n",
       "      <td>Mast cells</td>\n",
       "      <td>LYL1</td>\n",
       "      <td>3.756502</td>\n",
       "      <td>ER</td>\n",
       "    </tr>\n",
       "    <tr>\n",
       "      <th>13</th>\n",
       "      <td>Endothelial</td>\n",
       "      <td>GATA2</td>\n",
       "      <td>3.575831</td>\n",
       "      <td>ER</td>\n",
       "    </tr>\n",
       "    <tr>\n",
       "      <th>14</th>\n",
       "      <td>B cells</td>\n",
       "      <td>SPIB</td>\n",
       "      <td>3.525671</td>\n",
       "      <td>ER</td>\n",
       "    </tr>\n",
       "    <tr>\n",
       "      <th>15</th>\n",
       "      <td>Myeloid</td>\n",
       "      <td>IRF5</td>\n",
       "      <td>3.007905</td>\n",
       "      <td>ER</td>\n",
       "    </tr>\n",
       "    <tr>\n",
       "      <th>16</th>\n",
       "      <td>Endothelial</td>\n",
       "      <td>SOX18</td>\n",
       "      <td>4.638924</td>\n",
       "      <td>HER2</td>\n",
       "    </tr>\n",
       "    <tr>\n",
       "      <th>17</th>\n",
       "      <td>Endothelial</td>\n",
       "      <td>ERG</td>\n",
       "      <td>4.610072</td>\n",
       "      <td>HER2</td>\n",
       "    </tr>\n",
       "    <tr>\n",
       "      <th>18</th>\n",
       "      <td>Endothelial</td>\n",
       "      <td>SOX17</td>\n",
       "      <td>4.607801</td>\n",
       "      <td>HER2</td>\n",
       "    </tr>\n",
       "    <tr>\n",
       "      <th>19</th>\n",
       "      <td>Endothelial</td>\n",
       "      <td>SOX7</td>\n",
       "      <td>4.041955</td>\n",
       "      <td>HER2</td>\n",
       "    </tr>\n",
       "    <tr>\n",
       "      <th>20</th>\n",
       "      <td>Endothelial</td>\n",
       "      <td>ELK3</td>\n",
       "      <td>3.961117</td>\n",
       "      <td>HER2</td>\n",
       "    </tr>\n",
       "    <tr>\n",
       "      <th>21</th>\n",
       "      <td>Endothelial</td>\n",
       "      <td>ETS2</td>\n",
       "      <td>3.531254</td>\n",
       "      <td>HER2</td>\n",
       "    </tr>\n",
       "    <tr>\n",
       "      <th>22</th>\n",
       "      <td>Endothelial</td>\n",
       "      <td>SMAD1</td>\n",
       "      <td>3.200633</td>\n",
       "      <td>HER2</td>\n",
       "    </tr>\n",
       "    <tr>\n",
       "      <th>23</th>\n",
       "      <td>Mesenchymal</td>\n",
       "      <td>HIC1</td>\n",
       "      <td>3.070465</td>\n",
       "      <td>HER2</td>\n",
       "    </tr>\n",
       "    <tr>\n",
       "      <th>24</th>\n",
       "      <td>Mesenchymal</td>\n",
       "      <td>EBF1</td>\n",
       "      <td>3.063956</td>\n",
       "      <td>HER2</td>\n",
       "    </tr>\n",
       "    <tr>\n",
       "      <th>25</th>\n",
       "      <td>Mesenchymal</td>\n",
       "      <td>TWIST1</td>\n",
       "      <td>3.009022</td>\n",
       "      <td>HER2</td>\n",
       "    </tr>\n",
       "    <tr>\n",
       "      <th>26</th>\n",
       "      <td>Mast cells</td>\n",
       "      <td>GATA2</td>\n",
       "      <td>7.292744</td>\n",
       "      <td>TNBC</td>\n",
       "    </tr>\n",
       "    <tr>\n",
       "      <th>27</th>\n",
       "      <td>Mast cells</td>\n",
       "      <td>ZNF582</td>\n",
       "      <td>6.942867</td>\n",
       "      <td>TNBC</td>\n",
       "    </tr>\n",
       "    <tr>\n",
       "      <th>28</th>\n",
       "      <td>Endothelial</td>\n",
       "      <td>SMAD1</td>\n",
       "      <td>6.190944</td>\n",
       "      <td>TNBC</td>\n",
       "    </tr>\n",
       "    <tr>\n",
       "      <th>29</th>\n",
       "      <td>Endothelial</td>\n",
       "      <td>ERG</td>\n",
       "      <td>5.677251</td>\n",
       "      <td>TNBC</td>\n",
       "    </tr>\n",
       "    <tr>\n",
       "      <th>30</th>\n",
       "      <td>Endothelial</td>\n",
       "      <td>SOX18</td>\n",
       "      <td>4.981453</td>\n",
       "      <td>TNBC</td>\n",
       "    </tr>\n",
       "    <tr>\n",
       "      <th>31</th>\n",
       "      <td>Endothelial</td>\n",
       "      <td>ELK3</td>\n",
       "      <td>4.541414</td>\n",
       "      <td>TNBC</td>\n",
       "    </tr>\n",
       "    <tr>\n",
       "      <th>32</th>\n",
       "      <td>Mesenchymal</td>\n",
       "      <td>SHOX2</td>\n",
       "      <td>4.285721</td>\n",
       "      <td>TNBC</td>\n",
       "    </tr>\n",
       "    <tr>\n",
       "      <th>33</th>\n",
       "      <td>Mesenchymal</td>\n",
       "      <td>HIC1</td>\n",
       "      <td>4.149948</td>\n",
       "      <td>TNBC</td>\n",
       "    </tr>\n",
       "    <tr>\n",
       "      <th>34</th>\n",
       "      <td>Mesenchymal</td>\n",
       "      <td>NR2F1</td>\n",
       "      <td>4.130686</td>\n",
       "      <td>TNBC</td>\n",
       "    </tr>\n",
       "    <tr>\n",
       "      <th>35</th>\n",
       "      <td>Mesenchymal</td>\n",
       "      <td>EBF1</td>\n",
       "      <td>4.098116</td>\n",
       "      <td>TNBC</td>\n",
       "    </tr>\n",
       "    <tr>\n",
       "      <th>36</th>\n",
       "      <td>Mesenchymal</td>\n",
       "      <td>TEAD1</td>\n",
       "      <td>4.020296</td>\n",
       "      <td>TNBC</td>\n",
       "    </tr>\n",
       "    <tr>\n",
       "      <th>37</th>\n",
       "      <td>Endothelial</td>\n",
       "      <td>HHEX</td>\n",
       "      <td>3.924097</td>\n",
       "      <td>TNBC</td>\n",
       "    </tr>\n",
       "    <tr>\n",
       "      <th>38</th>\n",
       "      <td>Mast cells</td>\n",
       "      <td>FOXP1</td>\n",
       "      <td>3.847440</td>\n",
       "      <td>TNBC</td>\n",
       "    </tr>\n",
       "    <tr>\n",
       "      <th>39</th>\n",
       "      <td>Mesenchymal</td>\n",
       "      <td>PLAGL1</td>\n",
       "      <td>3.842716</td>\n",
       "      <td>TNBC</td>\n",
       "    </tr>\n",
       "    <tr>\n",
       "      <th>40</th>\n",
       "      <td>Mesenchymal</td>\n",
       "      <td>TBX15</td>\n",
       "      <td>3.811871</td>\n",
       "      <td>TNBC</td>\n",
       "    </tr>\n",
       "    <tr>\n",
       "      <th>41</th>\n",
       "      <td>B cells</td>\n",
       "      <td>PAX5</td>\n",
       "      <td>3.683337</td>\n",
       "      <td>TNBC</td>\n",
       "    </tr>\n",
       "    <tr>\n",
       "      <th>42</th>\n",
       "      <td>Endothelial</td>\n",
       "      <td>TCF4</td>\n",
       "      <td>3.653893</td>\n",
       "      <td>TNBC</td>\n",
       "    </tr>\n",
       "    <tr>\n",
       "      <th>43</th>\n",
       "      <td>Plasma cells</td>\n",
       "      <td>ARID3A</td>\n",
       "      <td>3.328295</td>\n",
       "      <td>TNBC</td>\n",
       "    </tr>\n",
       "    <tr>\n",
       "      <th>44</th>\n",
       "      <td>Endothelial</td>\n",
       "      <td>SMAD5</td>\n",
       "      <td>3.145579</td>\n",
       "      <td>TNBC</td>\n",
       "    </tr>\n",
       "    <tr>\n",
       "      <th>45</th>\n",
       "      <td>Mesenchymal</td>\n",
       "      <td>ETV1</td>\n",
       "      <td>3.124606</td>\n",
       "      <td>TNBC</td>\n",
       "    </tr>\n",
       "    <tr>\n",
       "      <th>46</th>\n",
       "      <td>Mesenchymal</td>\n",
       "      <td>TCF7L2</td>\n",
       "      <td>3.086131</td>\n",
       "      <td>TNBC</td>\n",
       "    </tr>\n",
       "  </tbody>\n",
       "</table>\n",
       "</div>"
      ],
      "text/plain": [
       "       cell_type regulon          Z tumor_type\n",
       "0     Mast cells   GATA2  10.927799         ER\n",
       "1     Mast cells    TAL1   8.907119         ER\n",
       "2    Endothelial     ERG   6.076746         ER\n",
       "3    Endothelial   SOX17   5.653256         ER\n",
       "4    Endothelial    HEY1   5.390032         ER\n",
       "5    Endothelial    ELK3   5.135444         ER\n",
       "6    Endothelial   HOXD8   5.065468         ER\n",
       "7     Mast cells    EBF3   4.809410         ER\n",
       "8    Endothelial   BCL6B   4.781235         ER\n",
       "9    Endothelial   SOX18   4.181496         ER\n",
       "10   Endothelial    TAL1   3.882504         ER\n",
       "11       B cells  POU2F2   3.764207         ER\n",
       "12    Mast cells    LYL1   3.756502         ER\n",
       "13   Endothelial   GATA2   3.575831         ER\n",
       "14       B cells    SPIB   3.525671         ER\n",
       "15       Myeloid    IRF5   3.007905         ER\n",
       "16   Endothelial   SOX18   4.638924       HER2\n",
       "17   Endothelial     ERG   4.610072       HER2\n",
       "18   Endothelial   SOX17   4.607801       HER2\n",
       "19   Endothelial    SOX7   4.041955       HER2\n",
       "20   Endothelial    ELK3   3.961117       HER2\n",
       "21   Endothelial    ETS2   3.531254       HER2\n",
       "22   Endothelial   SMAD1   3.200633       HER2\n",
       "23   Mesenchymal    HIC1   3.070465       HER2\n",
       "24   Mesenchymal    EBF1   3.063956       HER2\n",
       "25   Mesenchymal  TWIST1   3.009022       HER2\n",
       "26    Mast cells   GATA2   7.292744       TNBC\n",
       "27    Mast cells  ZNF582   6.942867       TNBC\n",
       "28   Endothelial   SMAD1   6.190944       TNBC\n",
       "29   Endothelial     ERG   5.677251       TNBC\n",
       "30   Endothelial   SOX18   4.981453       TNBC\n",
       "31   Endothelial    ELK3   4.541414       TNBC\n",
       "32   Mesenchymal   SHOX2   4.285721       TNBC\n",
       "33   Mesenchymal    HIC1   4.149948       TNBC\n",
       "34   Mesenchymal   NR2F1   4.130686       TNBC\n",
       "35   Mesenchymal    EBF1   4.098116       TNBC\n",
       "36   Mesenchymal   TEAD1   4.020296       TNBC\n",
       "37   Endothelial    HHEX   3.924097       TNBC\n",
       "38    Mast cells   FOXP1   3.847440       TNBC\n",
       "39   Mesenchymal  PLAGL1   3.842716       TNBC\n",
       "40   Mesenchymal   TBX15   3.811871       TNBC\n",
       "41       B cells    PAX5   3.683337       TNBC\n",
       "42   Endothelial    TCF4   3.653893       TNBC\n",
       "43  Plasma cells  ARID3A   3.328295       TNBC\n",
       "44   Endothelial   SMAD5   3.145579       TNBC\n",
       "45   Mesenchymal    ETV1   3.124606       TNBC\n",
       "46   Mesenchymal  TCF7L2   3.086131       TNBC"
      ]
     },
     "execution_count": 14,
     "metadata": {},
     "output_type": "execute_result"
    }
   ],
   "source": [
    "df_merged"
   ]
  },
  {
   "cell_type": "code",
   "execution_count": 26,
   "id": "30a8db73-af78-437b-a3bd-94de11777757",
   "metadata": {},
   "outputs": [],
   "source": [
    "df_heatmap = (\n",
    "    df_merged.sort_values('Z', ascending=False).pivot_table(\n",
    "        index=[\"tumor_type\", \"cell_type\"],\n",
    "        columns=\"regulon\",\n",
    "        values=\"Z\",\n",
    "        aggfunc=\"max\"  # or \"mean\" if you have duplicates\n",
    "    )\n",
    ")\n"
   ]
  },
  {
   "cell_type": "code",
   "execution_count": 30,
   "id": "feb4df84-c23f-407f-a0e8-8e74481858aa",
   "metadata": {},
   "outputs": [
    {
     "data": {
      "image/png": "[encoded data removed]",
      "text/plain": [
       "<Figure size 1000x800 with 1 Axes>"
      ]
     },
     "metadata": {},
     "output_type": "display_data"
    }
   ],
   "source": [
    "fig, ax = plt.subplots(figsize=(10, 8))\n",
    "sns.heatmap(\n",
    "    df_heatmap,\n",
    "    ax=ax,\n",
    "    annot=True,\n",
    "    fmt=\".1f\",\n",
    "    linewidths=.7,\n",
    "    cbar=False,\n",
    "    square=True,\n",
    "    linecolor=\"gray\",\n",
    "    cmap=\"YlGnBu\",\n",
    "    annot_kws={\"size\": 6}\n",
    ")\n",
    "ax.set_ylabel(\"\")\n",
    "plt.show()"
   ]
  },
  {
   "cell_type": "code",
   "execution_count": null,
   "id": "e3cf2f59-2b0e-4808-a315-92322ca0feb8",
   "metadata": {},
   "outputs": [],
   "source": [
    "from pyscenic.rss import regulon_specificity_scores"
   ]
  },
  {
   "cell_type": "code",
   "execution_count": null,
   "id": "9a1faf17-586c-41fe-ac21-8a2287a2dd4b",
   "metadata": {},
   "outputs": [],
   "source": [
    "rss_dict = {}\n",
    "\n",
    "for key in adatas.keys():\n",
    "    rss = regulon_specificity_scores(aucells[key], adatas[key].obs.cell_type)\n",
    "    rss_dict[key] = rss"
   ]
  },
  {
   "cell_type": "code",
   "execution_count": null,
   "id": "d86c1175-c449-40b1-b7a0-3e869cc800b0",
   "metadata": {},
   "outputs": [],
   "source": [
    "rss_dict['TNBC']"
   ]
  },
  {
   "cell_type": "code",
   "execution_count": null,
   "id": "a29f3759-51c3-4c0e-bae4-2f6c6d396387",
   "metadata": {},
   "outputs": [],
   "source": [
    "adata.obs['cell_type'].cat.categories"
   ]
  },
  {
   "cell_type": "code",
   "execution_count": null,
   "id": "6263cfe1-0fe3-4659-999b-4d126bdb259d",
   "metadata": {},
   "outputs": [],
   "source": [
    "from pyscenic.plotting import plot_binarization, plot_rss"
   ]
  },
  {
   "cell_type": "code",
   "execution_count": null,
   "id": "d1a04240-524d-48cc-806e-cb3bbc32a231",
   "metadata": {},
   "outputs": [],
   "source": [
    "for rss in rss_dict.values():\n",
    "    \n",
    "    sns.set()\n",
    "    sns.set(style='whitegrid', font_scale=0.8)\n",
    "    fig, ((ax1, ax2, ax3, ax4), (ax5, ax6, ax7, ax8)) = plt.subplots(2, 4, figsize=(8, 6), dpi=100)\n",
    "    plot_rss(rss, 'B Cells', ax=ax1)\n",
    "    ax1.set_xlabel('')\n",
    "    plot_rss(rss, 'TCells', ax=ax2)\n",
    "    ax2.set_xlabel('')\n",
    "    ax2.set_ylabel('')\n",
    "    plot_rss(rss, 'Fibroblasts', ax=ax3)\n",
    "    ax3.set_xlabel('')\n",
    "    ax3.set_ylabel('')\n",
    "    plot_rss(rss, 'Epithelial', ax=ax4)\n",
    "    ax4.set_xlabel('')\n",
    "    ax4.set_ylabel('')\n",
    "    plot_rss(rss, 'PlasmaCells', ax=ax5)\n",
    "    plot_rss(rss, 'CyclingEpithelial', ax=ax6)\n",
    "    ax6.set_ylabel('')\n",
    "    plot_rss(rss, 'MastCells', ax=ax7)\n",
    "    ax7.set_ylabel('')\n",
    "    plot_rss(rss, 'Endothelial', ax=ax8)\n",
    "    ax8.set_ylabel('')\n",
    "    plt.tight_layout()"
   ]
  },
  {
   "cell_type": "code",
   "execution_count": null,
   "id": "765f0099-386e-484e-b7b9-fcf54db59842",
   "metadata": {},
   "outputs": [],
   "source": [
    "sc.set_figure_params(frameon=False, dpi=150, fontsize=8)\n",
    "sc.pl.embedding(\n",
    "    adatas['ER'],\n",
    "    basis=\"X_scanvi_MDE\",\n",
    "    color=[\"Regulon(POU2F2(+))\",\"cell_type\", \"Regulon(E2F2(+))\", \"ENPP1\"],\n",
    "    frameon=False,\n",
    "    ncols=2,use_raw = False, cmap = \"viridis\", size = 8)\n",
    "\n"
   ]
  },
  {
   "cell_type": "code",
   "execution_count": null,
   "id": "785e3d28-c2af-46b4-ac91-6e84be40c4ea",
   "metadata": {},
   "outputs": [],
   "source": [
    "sc.pl.embedding(\n",
    "    adatas['TNBC'],\n",
    "    basis=\"X_scanvi_MDE\",\n",
    "    color=[\"Regulon(POU2F2(+))\",\"cell_type\", \"Regulon(E2F2(+))\", \"ENPP1\"],\n",
    "    frameon=False,\n",
    "    ncols=2,use_raw = False, cmap = \"viridis\", size = 8)"
   ]
  },
  {
   "cell_type": "code",
   "execution_count": null,
   "id": "ab4c7520-972a-47bb-a463-8cf6eeaff753",
   "metadata": {},
   "outputs": [],
   "source": [
    "modules['TNBC']"
   ]
  },
  {
   "cell_type": "code",
   "execution_count": null,
   "id": "417e1b39-9717-4485-8b87-c2cc69411e8d",
   "metadata": {
    "scrolled": true
   },
   "outputs": [],
   "source": [
    "modules['TNBC'][modules['TNBC'].target == \"ENPP1\"].sort_values('importance', ascending = False).TF.to_list()"
   ]
  },
  {
   "cell_type": "code",
   "execution_count": null,
   "id": "57a496b7-68ed-40a7-8ea7-8bc6d7643a44",
   "metadata": {},
   "outputs": [],
   "source": [
    "sc.pl.embedding(\n",
    "    adatas['TNBC'],\n",
    "    basis=\"X_scanvi_MDE\",\n",
    "    color=[\"cell_type\", \"ENPP1\", \"Regulon(GATA3(+))\",\"Regulon(XBP1(+))\",\"Regulon(ESR1(+))\",\"Regulon(ZNF385D(+))\", \"Regulon(AR(+))\"],\n",
    "    frameon=False,\n",
    "    ncols=3,use_raw = False, cmap = \"viridis\", size = 8)"
   ]
  },
  {
   "cell_type": "code",
   "execution_count": null,
   "id": "058a486f-5f3f-4a5b-91f4-8b1be477e4b7",
   "metadata": {},
   "outputs": [],
   "source": [
    "some_gene = \"ENPP1\"\n",
    "\n",
    "matching_regulons = [\n",
    "    r\n",
    "    for r in regulons[\"TNBC\"]\n",
    "    if some_gene in r.gene2weight and isinstance(r.gene2weight[some_gene], float)\n",
    "]"
   ]
  },
  {
   "cell_type": "code",
   "execution_count": null,
   "id": "3057d704-be20-4655-a5d7-69c44ad77109",
   "metadata": {},
   "outputs": [],
   "source": [
    "matching_regulons"
   ]
  },
  {
   "cell_type": "code",
   "execution_count": null,
   "id": "77e52e08-dcbf-4c83-9752-63e745c79a2a",
   "metadata": {},
   "outputs": [],
   "source": [
    "some_tf = \"AEBP1\"\n",
    "match = next((r for r in regulons['TNBC'] if r.name == some_tf), None)\n",
    "\n",
    "if match is not None:\n",
    "    print(f\"Regulon found for TF '{some_tf}': {match.name}\")\n",
    "else:\n",
    "    print(f\"No regulon found for TF '{some_tf}'\")"
   ]
  },
  {
   "cell_type": "code",
   "execution_count": null,
   "id": "6c304c0b-2ed7-4fd1-ae3b-8332df733f6d",
   "metadata": {},
   "outputs": [],
   "source": [
    "match.name"
   ]
  },
  {
   "cell_type": "code",
   "execution_count": null,
   "id": "6872b940-5007-48f9-8ec1-223d4d1a0969",
   "metadata": {},
   "outputs": [],
   "source": [
    "[regulons['TNBC'][1].name == \"TRPS1\"]"
   ]
  },
  {
   "cell_type": "code",
   "execution_count": null,
   "id": "5efac829-7d13-429a-bba8-ec13d62ca859",
   "metadata": {},
   "outputs": [],
   "source": [
    "sc.pl.embedding(\n",
    "    adatas['TNBC'],\n",
    "    basis=\"X_scanvi_MDE\",\n",
    "    color=[\"cell_type\", \"ENPP1\", \"Regulon(GATA3(+))\",\"Regulon(XBP1(+))\",\"Regulon(ESR1(+))\",\"Regulon(ZNF385D(+))\", \"Regulon(AR(+))\"],\n",
    "    frameon=False,\n",
    "    ncols=3,use_raw = False, cmap = \"viridis\", size = 8)"
   ]
  },
  {
   "cell_type": "code",
   "execution_count": null,
   "id": "05ddd389-0d24-4817-943d-d05fff5ccc6e",
   "metadata": {},
   "outputs": [],
   "source": []
  },
  {
   "cell_type": "code",
   "execution_count": null,
   "id": "7d12edc7-d5b5-4823-9577-9a74e5e1d50f",
   "metadata": {},
   "outputs": [],
   "source": [
    "pd.DataFrame({\"barcode_sample\" : adatas['TNBC'].obs_names.values,\n",
    "             \"cell_type\" : adatas['TNBC'].obs.cell_type.values}).to_csv(\"/home/igarzonalva/Proyecto_SC_TNBC/GSE161529/cpdb/metadata.tsv\", sep = '\\t', index = False)"
   ]
  },
  {
   "cell_type": "markdown",
   "id": "bbc249bb-266e-4f6c-9ab3-9fa770807a7b",
   "metadata": {},
   "source": [
    "# Análisis de regulones comunes"
   ]
  },
  {
   "cell_type": "markdown",
   "id": "bc94c97a-14c6-4b63-8fda-260b47aec005",
   "metadata": {},
   "source": [
    "## Sacar los genes regulados por cada TF encada regulón con su importancia"
   ]
  },
  {
   "cell_type": "code",
   "execution_count": 45,
   "id": "699765f2-a814-4dd9-bda3-8f4e3495868d",
   "metadata": {},
   "outputs": [],
   "source": [
    "filas = []\n",
    "\n",
    "for subtipo, lista_regulones in regulons.items():\n",
    "    for regulon in lista_regulones:\n",
    "        for gen, puntaje in regulon.gene2weight.items():\n",
    "            filas.append({\n",
    "                'subtipo': subtipo,\n",
    "                'regulon_name': regulon.name,\n",
    "                'gen': gen,\n",
    "                'puntaje': puntaje\n",
    "            })\n",
    "df_genes_regulones = pd.DataFrame(filas)\n"
   ]
  },
  {
   "cell_type": "code",
   "execution_count": 46,
   "id": "353db5da-1b51-4a5a-9c86-0df2fe3fed41",
   "metadata": {
    "collapsed": true,
    "jupyter": {
     "outputs_hidden": true
    }
   },
   "outputs": [
    {
     "data": {
      "text/html": [
       "<div>\n",
       "<style scoped>\n",
       "    .dataframe tbody tr th:only-of-type {\n",
       "        vertical-align: middle;\n",
       "    }\n",
       "\n",
       "    .dataframe tbody tr th {\n",
       "        vertical-align: top;\n",
       "    }\n",
       "\n",
       "    .dataframe thead th {\n",
       "        text-align: right;\n",
       "    }\n",
       "</style>\n",
       "<table border=\"1\" class=\"dataframe\">\n",
       "  <thead>\n",
       "    <tr style=\"text-align: right;\">\n",
       "      <th></th>\n",
       "      <th>subtipo</th>\n",
       "      <th>regulon_name</th>\n",
       "      <th>gen</th>\n",
       "      <th>puntaje</th>\n",
       "    </tr>\n",
       "  </thead>\n",
       "  <tbody>\n",
       "    <tr>\n",
       "      <th>0</th>\n",
       "      <td>ER</td>\n",
       "      <td>AR</td>\n",
       "      <td>LCOR</td>\n",
       "      <td>2.169366</td>\n",
       "    </tr>\n",
       "    <tr>\n",
       "      <th>1</th>\n",
       "      <td>ER</td>\n",
       "      <td>AR</td>\n",
       "      <td>ANKEF1</td>\n",
       "      <td>0.501753</td>\n",
       "    </tr>\n",
       "    <tr>\n",
       "      <th>2</th>\n",
       "      <td>ER</td>\n",
       "      <td>AR</td>\n",
       "      <td>OSBPL1A</td>\n",
       "      <td>2.136968</td>\n",
       "    </tr>\n",
       "    <tr>\n",
       "      <th>3</th>\n",
       "      <td>ER</td>\n",
       "      <td>AR</td>\n",
       "      <td>DENND5B</td>\n",
       "      <td>0.098241</td>\n",
       "    </tr>\n",
       "    <tr>\n",
       "      <th>4</th>\n",
       "      <td>ER</td>\n",
       "      <td>AR</td>\n",
       "      <td>VWA2</td>\n",
       "      <td>0.758286</td>\n",
       "    </tr>\n",
       "    <tr>\n",
       "      <th>...</th>\n",
       "      <td>...</td>\n",
       "      <td>...</td>\n",
       "      <td>...</td>\n",
       "      <td>...</td>\n",
       "    </tr>\n",
       "    <tr>\n",
       "      <th>98245</th>\n",
       "      <td>TNBC</td>\n",
       "      <td>ZSCAN31</td>\n",
       "      <td>MFSD2B</td>\n",
       "      <td>0.464917</td>\n",
       "    </tr>\n",
       "    <tr>\n",
       "      <th>98246</th>\n",
       "      <td>TNBC</td>\n",
       "      <td>ZSCAN31</td>\n",
       "      <td>KCNC3</td>\n",
       "      <td>0.049985</td>\n",
       "    </tr>\n",
       "    <tr>\n",
       "      <th>98247</th>\n",
       "      <td>TNBC</td>\n",
       "      <td>ZSCAN31</td>\n",
       "      <td>PPARGC1A</td>\n",
       "      <td>0.201516</td>\n",
       "    </tr>\n",
       "    <tr>\n",
       "      <th>98248</th>\n",
       "      <td>TNBC</td>\n",
       "      <td>ZSCAN31</td>\n",
       "      <td>MECOM</td>\n",
       "      <td>0.333651</td>\n",
       "    </tr>\n",
       "    <tr>\n",
       "      <th>98249</th>\n",
       "      <td>TNBC</td>\n",
       "      <td>ZSCAN31</td>\n",
       "      <td>LINC00543</td>\n",
       "      <td>0.010646</td>\n",
       "    </tr>\n",
       "  </tbody>\n",
       "</table>\n",
       "<p>98250 rows × 4 columns</p>\n",
       "</div>"
      ],
      "text/plain": [
       "      subtipo regulon_name        gen   puntaje\n",
       "0          ER           AR       LCOR  2.169366\n",
       "1          ER           AR     ANKEF1  0.501753\n",
       "2          ER           AR    OSBPL1A  2.136968\n",
       "3          ER           AR    DENND5B  0.098241\n",
       "4          ER           AR       VWA2  0.758286\n",
       "...       ...          ...        ...       ...\n",
       "98245    TNBC      ZSCAN31     MFSD2B  0.464917\n",
       "98246    TNBC      ZSCAN31      KCNC3  0.049985\n",
       "98247    TNBC      ZSCAN31   PPARGC1A  0.201516\n",
       "98248    TNBC      ZSCAN31      MECOM  0.333651\n",
       "98249    TNBC      ZSCAN31  LINC00543  0.010646\n",
       "\n",
       "[98250 rows x 4 columns]"
      ]
     },
     "execution_count": 46,
     "metadata": {},
     "output_type": "execute_result"
    }
   ],
   "source": [
    "df_genes_regulones"
   ]
  },
  {
   "cell_type": "markdown",
   "id": "339f4109-dd88-4e78-9956-a8e52632790b",
   "metadata": {},
   "source": [
    "## Filtrar regulones con un alto Z-score en los tipos celulares y conseguir los genes regulados por ellos con alta importancia"
   ]
  },
  {
   "cell_type": "code",
   "execution_count": 142,
   "id": "4ae50090-a63f-401b-9a4f-bc8c42a57be9",
   "metadata": {},
   "outputs": [],
   "source": [
    "relevant_genes = {}\n",
    "for tumor in df_results_dict.keys():\n",
    "    df = df_results_dict[tumor]\n",
    "    cell_types = df.cell_type.unique().tolist()\n",
    "    \n",
    "    for ct in cell_types:\n",
    "        df_ct = df[df.cell_type == ct]\n",
    "        \n",
    "        for reg in  df_ct.regulon.unique():\n",
    "            min_importance = df_genes_regulones[(df_genes_regulones.subtipo == tumor) & \n",
    "                                                (df_genes_regulones.regulon_name == reg)].puntaje.quantile(0.9)\n",
    "            \n",
    "            gene_list = df_genes_regulones[(df_genes_regulones.subtipo == tumor)&\n",
    "                                            (df_genes_regulones.regulon_name == reg)&\n",
    "                                            (df_genes_regulones.puntaje >= min_importance)].gen.tolist()\n",
    "\n",
    "            if gene_list:\n",
    "                relevant_genes[(tumor, ct, reg)] = gene_list\n",
    "               "
   ]
  },
  {
   "cell_type": "code",
   "execution_count": 143,
   "id": "c3eea266-f3c4-4cf9-a304-5346aa3233f0",
   "metadata": {},
   "outputs": [],
   "source": [
    "genes_dir = os.path.join(SAVING_DIR, \"relevant_genes_dict.pkl\")\n",
    "with open(genes_dir, \"wb\") as f:\n",
    "    pickle.dump(relevant_genes, f)"
   ]
  },
  {
   "cell_type": "code",
   "execution_count": 103,
   "id": "3c552583-ee9c-4774-9ff1-e309b6c64abd",
   "metadata": {},
   "outputs": [],
   "source": [
    "cell_types = df_results_dict['TNBC'].cell_type.cat.categories.tolist()"
   ]
  },
  {
   "cell_type": "code",
   "execution_count": 114,
   "id": "1b103d8e-f4b7-4739-89b1-b84028035c27",
   "metadata": {},
   "outputs": [
    {
     "data": {
      "text/html": [
       "<div>\n",
       "<style scoped>\n",
       "    .dataframe tbody tr th:only-of-type {\n",
       "        vertical-align: middle;\n",
       "    }\n",
       "\n",
       "    .dataframe tbody tr th {\n",
       "        vertical-align: top;\n",
       "    }\n",
       "\n",
       "    .dataframe thead th {\n",
       "        text-align: right;\n",
       "    }\n",
       "</style>\n",
       "<table border=\"1\" class=\"dataframe\">\n",
       "  <thead>\n",
       "    <tr style=\"text-align: right;\">\n",
       "      <th></th>\n",
       "      <th>cell_type</th>\n",
       "      <th>regulon</th>\n",
       "      <th>Z</th>\n",
       "    </tr>\n",
       "  </thead>\n",
       "  <tbody>\n",
       "    <tr>\n",
       "      <th>787</th>\n",
       "      <td>Endothelial</td>\n",
       "      <td>SMAD1</td>\n",
       "      <td>6.190944</td>\n",
       "    </tr>\n",
       "    <tr>\n",
       "      <th>632</th>\n",
       "      <td>Endothelial</td>\n",
       "      <td>ERG</td>\n",
       "      <td>5.677251</td>\n",
       "    </tr>\n",
       "    <tr>\n",
       "      <th>793</th>\n",
       "      <td>Endothelial</td>\n",
       "      <td>SOX18</td>\n",
       "      <td>4.981453</td>\n",
       "    </tr>\n",
       "    <tr>\n",
       "      <th>629</th>\n",
       "      <td>Endothelial</td>\n",
       "      <td>ELK3</td>\n",
       "      <td>4.541414</td>\n",
       "    </tr>\n",
       "    <tr>\n",
       "      <th>671</th>\n",
       "      <td>Endothelial</td>\n",
       "      <td>HHEX</td>\n",
       "      <td>3.924097</td>\n",
       "    </tr>\n",
       "    <tr>\n",
       "      <th>816</th>\n",
       "      <td>Endothelial</td>\n",
       "      <td>TCF4</td>\n",
       "      <td>3.653893</td>\n",
       "    </tr>\n",
       "    <tr>\n",
       "      <th>789</th>\n",
       "      <td>Endothelial</td>\n",
       "      <td>SMAD5</td>\n",
       "      <td>3.145579</td>\n",
       "    </tr>\n",
       "  </tbody>\n",
       "</table>\n",
       "</div>"
      ],
      "text/plain": [
       "       cell_type regulon         Z\n",
       "787  Endothelial   SMAD1  6.190944\n",
       "632  Endothelial     ERG  5.677251\n",
       "793  Endothelial   SOX18  4.981453\n",
       "629  Endothelial    ELK3  4.541414\n",
       "671  Endothelial    HHEX  3.924097\n",
       "816  Endothelial    TCF4  3.653893\n",
       "789  Endothelial   SMAD5  3.145579"
      ]
     },
     "execution_count": 114,
     "metadata": {},
     "output_type": "execute_result"
    }
   ],
   "source": [
    "df_results_dict['TNBC'][df_results_dict['TNBC'].cell_type == cell_types[2]]"
   ]
  },
  {
   "cell_type": "code",
   "execution_count": 133,
   "id": "7e06d3e2-0062-4d67-82ef-9c150b5941fc",
   "metadata": {},
   "outputs": [],
   "source": [
    "min_importance = df_genes_regulones[(df_genes_regulones.subtipo == \"TNBC\")&(df_genes_regulones.regulon_name == \"SMAD5\")].puntaje.quantile(0.9)\n",
    "genes_analyse = df_genes_regulones[(df_genes_regulones.subtipo == \"TNBC\")&(df_genes_regulones.regulon_name == \"SMAD5\")&(df_genes_regulones.puntaje >= min_importance)].gen.tolist()"
   ]
  },
  {
   "cell_type": "code",
   "execution_count": 48,
   "id": "352bf6a1-b966-4415-bc18-1e1e2a730dd8",
   "metadata": {},
   "outputs": [],
   "source": [
    "lista_conjuntos = [set(df.regulon) for df in df_results_dict.values()]"
   ]
  },
  {
   "cell_type": "code",
   "execution_count": 49,
   "id": "59ba4db0-5a77-4e0b-9a0e-eb9c55358428",
   "metadata": {},
   "outputs": [],
   "source": [
    "valores_comunes = set.intersection(*lista_conjuntos)"
   ]
  },
  {
   "cell_type": "code",
   "execution_count": 50,
   "id": "12cbd443-8129-4c34-bdc9-d7b028eb0c49",
   "metadata": {},
   "outputs": [
    {
     "data": {
      "text/plain": [
       "{'ELK3', 'ERG', 'SOX18'}"
      ]
     },
     "execution_count": 50,
     "metadata": {},
     "output_type": "execute_result"
    }
   ],
   "source": [
    "valores_comunes"
   ]
  },
  {
   "cell_type": "code",
   "execution_count": 90,
   "id": "6c01b80b-f59b-47da-ba81-5cf35b65e970",
   "metadata": {},
   "outputs": [],
   "source": [
    "def hallar_genes_comunes(df_genes, regulon):\n",
    "\n",
    "\n",
    "    df_gen = df_genes_regulones_comunes[df_genes_regulones_comunes.regulon_name == regulon] # filtara el regulón de interés\n",
    "    count_subtipos = df_gen.groupby(\"gen\")[\"subtipo\"].nunique() # contar en cuántos subtipos aparece\n",
    "    genes_comunes = count_subtipos[count_subtipos == 3].index # filtrar solo los genes que estén en los 3 subtipos (comunes)\n",
    "    \n",
    "    df_genes_comunes = df_gen[df_gen[\"gen\"].isin(genes_comunes)] # filtrar el dataframe con esos genes comunes\n",
    "    df_genes_comunes.loc[:,\"Zscore\"] = (df_genes_comunes.puntaje - df_genes_comunes.puntaje.mean()) / df_genes_comunes.puntaje.std() # z score\n",
    "\n",
    "    df_pivot = df_genes_comunes.pivot(index='gen', columns='subtipo', values='Zscore') \n",
    "\n",
    "    df_positivos = df_pivot[(df_pivot > 0).all(axis=1)]\n",
    "\n",
    "    return(df_positivos)"
   ]
  },
  {
   "cell_type": "code",
   "execution_count": 91,
   "id": "5a574835-cf24-43d6-8dff-f1e48659ea81",
   "metadata": {},
   "outputs": [
    {
     "name": "stderr",
     "output_type": "stream",
     "text": [
      "/tmp/ipykernel_378676/2319008322.py:9: SettingWithCopyWarning: \n",
      "A value is trying to be set on a copy of a slice from a DataFrame.\n",
      "Try using .loc[row_indexer,col_indexer] = value instead\n",
      "\n",
      "See the caveats in the documentation: https://pandas.pydata.org/pandas-docs/stable/user_guide/indexing.html#returning-a-view-versus-a-copy\n",
      "  df_genes_comunes.loc[:,\"Zscore\"] = (df_genes_comunes.puntaje - df_genes_comunes.puntaje.mean()) / df_genes_comunes.puntaje.std() # z score\n",
      "/tmp/ipykernel_378676/2319008322.py:9: SettingWithCopyWarning: \n",
      "A value is trying to be set on a copy of a slice from a DataFrame.\n",
      "Try using .loc[row_indexer,col_indexer] = value instead\n",
      "\n",
      "See the caveats in the documentation: https://pandas.pydata.org/pandas-docs/stable/user_guide/indexing.html#returning-a-view-versus-a-copy\n",
      "  df_genes_comunes.loc[:,\"Zscore\"] = (df_genes_comunes.puntaje - df_genes_comunes.puntaje.mean()) / df_genes_comunes.puntaje.std() # z score\n"
     ]
    }
   ],
   "source": [
    "comunes_ELK3 = hallar_genes_comunes(df_genes_regulones, \"ELK3\")\n",
    "comunes_ERG = hallar_genes_comunes(df_genes_regulones, \"ERG\")\n",
    "comunes_SOX18 = hallar_genes_comunes(df_genes_regulones, \"SOX18\")"
   ]
  },
  {
   "cell_type": "code",
   "execution_count": 1,
   "id": "9f862aac-b6ee-4182-9dfd-96c44f19183c",
   "metadata": {},
   "outputs": [
    {
     "ename": "NameError",
     "evalue": "name 'comunes_ELK3' is not defined",
     "output_type": "error",
     "traceback": [
      "\u001b[0;31m---------------------------------------------------------------------------\u001b[0m",
      "\u001b[0;31mNameError\u001b[0m                                 Traceback (most recent call last)",
      "Cell \u001b[0;32mIn [1], line 1\u001b[0m\n\u001b[0;32m----> 1\u001b[0m \u001b[43mcomunes_ELK3\u001b[49m\n",
      "\u001b[0;31mNameError\u001b[0m: name 'comunes_ELK3' is not defined"
     ]
    }
   ],
   "source": [
    "comunes_ELK3"
   ]
  },
  {
   "cell_type": "markdown",
   "id": "ad3e33eb-e377-4884-b45c-422c1637c26c",
   "metadata": {},
   "source": [
    "## Graficar"
   ]
  },
  {
   "cell_type": "code",
   "execution_count": 64,
   "id": "ad8e6a22-0aea-4641-9543-9c7f9ee1352b",
   "metadata": {},
   "outputs": [],
   "source": [
    "import pandas as pd\n",
    "import seaborn as sns\n",
    "import matplotlib.pyplot as plt"
   ]
  },
  {
   "cell_type": "code",
   "execution_count": 79,
   "id": "632a6bf1-e822-4cd7-aad7-41e47a572f6e",
   "metadata": {},
   "outputs": [],
   "source": [
    "\n"
   ]
  },
  {
   "cell_type": "code",
   "execution_count": 80,
   "id": "8bcfa59a-fab8-4091-92e2-514617e49449",
   "metadata": {},
   "outputs": [
    {
     "data": {
      "text/html": [
       "<div>\n",
       "<style scoped>\n",
       "    .dataframe tbody tr th:only-of-type {\n",
       "        vertical-align: middle;\n",
       "    }\n",
       "\n",
       "    .dataframe tbody tr th {\n",
       "        vertical-align: top;\n",
       "    }\n",
       "\n",
       "    .dataframe thead th {\n",
       "        text-align: right;\n",
       "    }\n",
       "</style>\n",
       "<table border=\"1\" class=\"dataframe\">\n",
       "  <thead>\n",
       "    <tr style=\"text-align: right;\">\n",
       "      <th>subtipo</th>\n",
       "      <th>ER</th>\n",
       "      <th>HER2</th>\n",
       "      <th>TNBC</th>\n",
       "    </tr>\n",
       "    <tr>\n",
       "      <th>gen</th>\n",
       "      <th></th>\n",
       "      <th></th>\n",
       "      <th></th>\n",
       "    </tr>\n",
       "  </thead>\n",
       "  <tbody>\n",
       "    <tr>\n",
       "      <th>ACVRL1</th>\n",
       "      <td>-1.198479</td>\n",
       "      <td>-1.067343</td>\n",
       "      <td>0.562379</td>\n",
       "    </tr>\n",
       "    <tr>\n",
       "      <th>ADAMTS6</th>\n",
       "      <td>-0.794366</td>\n",
       "      <td>-0.605206</td>\n",
       "      <td>-0.170612</td>\n",
       "    </tr>\n",
       "    <tr>\n",
       "      <th>ADGRF5</th>\n",
       "      <td>-0.534990</td>\n",
       "      <td>0.469180</td>\n",
       "      <td>0.901561</td>\n",
       "    </tr>\n",
       "    <tr>\n",
       "      <th>APOLD1</th>\n",
       "      <td>-1.021380</td>\n",
       "      <td>2.056319</td>\n",
       "      <td>-0.612180</td>\n",
       "    </tr>\n",
       "    <tr>\n",
       "      <th>AQP1</th>\n",
       "      <td>-0.359178</td>\n",
       "      <td>0.231972</td>\n",
       "      <td>0.308994</td>\n",
       "    </tr>\n",
       "    <tr>\n",
       "      <th>CASKIN2</th>\n",
       "      <td>-1.229808</td>\n",
       "      <td>-0.991127</td>\n",
       "      <td>-0.808351</td>\n",
       "    </tr>\n",
       "    <tr>\n",
       "      <th>CD34</th>\n",
       "      <td>-0.345562</td>\n",
       "      <td>0.450912</td>\n",
       "      <td>-0.138453</td>\n",
       "    </tr>\n",
       "    <tr>\n",
       "      <th>CD93</th>\n",
       "      <td>2.048866</td>\n",
       "      <td>0.637169</td>\n",
       "      <td>0.071395</td>\n",
       "    </tr>\n",
       "    <tr>\n",
       "      <th>CDH5</th>\n",
       "      <td>0.282150</td>\n",
       "      <td>0.008313</td>\n",
       "      <td>0.343622</td>\n",
       "    </tr>\n",
       "    <tr>\n",
       "      <th>CYYR1</th>\n",
       "      <td>-1.045916</td>\n",
       "      <td>0.331140</td>\n",
       "      <td>-0.132603</td>\n",
       "    </tr>\n",
       "    <tr>\n",
       "      <th>ECE1</th>\n",
       "      <td>-0.821807</td>\n",
       "      <td>-0.673366</td>\n",
       "      <td>1.020160</td>\n",
       "    </tr>\n",
       "    <tr>\n",
       "      <th>ECSCR</th>\n",
       "      <td>3.097966</td>\n",
       "      <td>0.252124</td>\n",
       "      <td>1.407551</td>\n",
       "    </tr>\n",
       "    <tr>\n",
       "      <th>EGFL7</th>\n",
       "      <td>-0.796311</td>\n",
       "      <td>1.279362</td>\n",
       "      <td>0.101213</td>\n",
       "    </tr>\n",
       "    <tr>\n",
       "      <th>ELK3</th>\n",
       "      <td>-0.276475</td>\n",
       "      <td>-0.276475</td>\n",
       "      <td>-0.276475</td>\n",
       "    </tr>\n",
       "    <tr>\n",
       "      <th>EMCN</th>\n",
       "      <td>0.461201</td>\n",
       "      <td>1.679070</td>\n",
       "      <td>1.731795</td>\n",
       "    </tr>\n",
       "    <tr>\n",
       "      <th>ENG</th>\n",
       "      <td>0.442412</td>\n",
       "      <td>0.579491</td>\n",
       "      <td>-0.031017</td>\n",
       "    </tr>\n",
       "    <tr>\n",
       "      <th>ENTPD1</th>\n",
       "      <td>-0.077337</td>\n",
       "      <td>-0.960455</td>\n",
       "      <td>-1.012956</td>\n",
       "    </tr>\n",
       "    <tr>\n",
       "      <th>ESAM</th>\n",
       "      <td>-0.128479</td>\n",
       "      <td>0.271155</td>\n",
       "      <td>0.301442</td>\n",
       "    </tr>\n",
       "    <tr>\n",
       "      <th>FAM167B</th>\n",
       "      <td>-0.495045</td>\n",
       "      <td>-1.288563</td>\n",
       "      <td>1.381477</td>\n",
       "    </tr>\n",
       "    <tr>\n",
       "      <th>FLT1</th>\n",
       "      <td>-0.634861</td>\n",
       "      <td>1.741825</td>\n",
       "      <td>1.354720</td>\n",
       "    </tr>\n",
       "    <tr>\n",
       "      <th>GIMAP6</th>\n",
       "      <td>0.219374</td>\n",
       "      <td>0.878140</td>\n",
       "      <td>-1.245396</td>\n",
       "    </tr>\n",
       "    <tr>\n",
       "      <th>GNG11</th>\n",
       "      <td>-0.514513</td>\n",
       "      <td>0.356857</td>\n",
       "      <td>-0.586846</td>\n",
       "    </tr>\n",
       "    <tr>\n",
       "      <th>HECW2</th>\n",
       "      <td>-1.185655</td>\n",
       "      <td>-0.071321</td>\n",
       "      <td>1.782823</td>\n",
       "    </tr>\n",
       "    <tr>\n",
       "      <th>HSPA12B</th>\n",
       "      <td>-1.341514</td>\n",
       "      <td>-1.351525</td>\n",
       "      <td>0.980645</td>\n",
       "    </tr>\n",
       "    <tr>\n",
       "      <th>HYAL2</th>\n",
       "      <td>-0.046382</td>\n",
       "      <td>0.010265</td>\n",
       "      <td>-0.541114</td>\n",
       "    </tr>\n",
       "    <tr>\n",
       "      <th>ITGA5</th>\n",
       "      <td>0.602162</td>\n",
       "      <td>0.971971</td>\n",
       "      <td>-0.004896</td>\n",
       "    </tr>\n",
       "    <tr>\n",
       "      <th>LMO2</th>\n",
       "      <td>-0.654810</td>\n",
       "      <td>0.162787</td>\n",
       "      <td>-1.007845</td>\n",
       "    </tr>\n",
       "    <tr>\n",
       "      <th>MMRN2</th>\n",
       "      <td>-0.581768</td>\n",
       "      <td>0.811889</td>\n",
       "      <td>0.658229</td>\n",
       "    </tr>\n",
       "    <tr>\n",
       "      <th>NRP1</th>\n",
       "      <td>-0.693826</td>\n",
       "      <td>0.301583</td>\n",
       "      <td>-1.212192</td>\n",
       "    </tr>\n",
       "    <tr>\n",
       "      <th>NUAK1</th>\n",
       "      <td>-1.092823</td>\n",
       "      <td>-0.444602</td>\n",
       "      <td>-0.503031</td>\n",
       "    </tr>\n",
       "    <tr>\n",
       "      <th>PCAT19</th>\n",
       "      <td>0.631742</td>\n",
       "      <td>2.898300</td>\n",
       "      <td>1.899073</td>\n",
       "    </tr>\n",
       "    <tr>\n",
       "      <th>PCDH17</th>\n",
       "      <td>-0.371047</td>\n",
       "      <td>-0.899263</td>\n",
       "      <td>1.922455</td>\n",
       "    </tr>\n",
       "    <tr>\n",
       "      <th>PECAM1</th>\n",
       "      <td>1.413918</td>\n",
       "      <td>0.941534</td>\n",
       "      <td>0.163131</td>\n",
       "    </tr>\n",
       "    <tr>\n",
       "      <th>PHACTR2</th>\n",
       "      <td>-0.999605</td>\n",
       "      <td>-0.873915</td>\n",
       "      <td>-0.837567</td>\n",
       "    </tr>\n",
       "    <tr>\n",
       "      <th>PICALM</th>\n",
       "      <td>-1.108873</td>\n",
       "      <td>0.458059</td>\n",
       "      <td>-0.970081</td>\n",
       "    </tr>\n",
       "    <tr>\n",
       "      <th>PLVAP</th>\n",
       "      <td>-0.005465</td>\n",
       "      <td>0.722862</td>\n",
       "      <td>3.177031</td>\n",
       "    </tr>\n",
       "    <tr>\n",
       "      <th>PTPRB</th>\n",
       "      <td>-0.598848</td>\n",
       "      <td>0.793895</td>\n",
       "      <td>1.031260</td>\n",
       "    </tr>\n",
       "    <tr>\n",
       "      <th>RAI14</th>\n",
       "      <td>-1.289502</td>\n",
       "      <td>-0.073456</td>\n",
       "      <td>-0.925196</td>\n",
       "    </tr>\n",
       "    <tr>\n",
       "      <th>RASGRP3</th>\n",
       "      <td>0.034690</td>\n",
       "      <td>-0.665016</td>\n",
       "      <td>-1.144707</td>\n",
       "    </tr>\n",
       "    <tr>\n",
       "      <th>S1PR1</th>\n",
       "      <td>-0.963485</td>\n",
       "      <td>-0.334654</td>\n",
       "      <td>0.611086</td>\n",
       "    </tr>\n",
       "    <tr>\n",
       "      <th>SCARF1</th>\n",
       "      <td>0.682177</td>\n",
       "      <td>-0.971103</td>\n",
       "      <td>-0.543569</td>\n",
       "    </tr>\n",
       "    <tr>\n",
       "      <th>SLC9A3R2</th>\n",
       "      <td>-1.220667</td>\n",
       "      <td>-0.229803</td>\n",
       "      <td>1.112002</td>\n",
       "    </tr>\n",
       "    <tr>\n",
       "      <th>SPRY1</th>\n",
       "      <td>-0.858093</td>\n",
       "      <td>1.662454</td>\n",
       "      <td>-1.221686</td>\n",
       "    </tr>\n",
       "    <tr>\n",
       "      <th>TCF4</th>\n",
       "      <td>-0.914140</td>\n",
       "      <td>-0.830357</td>\n",
       "      <td>-0.905573</td>\n",
       "    </tr>\n",
       "    <tr>\n",
       "      <th>TIE1</th>\n",
       "      <td>-1.293134</td>\n",
       "      <td>-0.876662</td>\n",
       "      <td>2.104589</td>\n",
       "    </tr>\n",
       "    <tr>\n",
       "      <th>TMEM204</th>\n",
       "      <td>-1.000065</td>\n",
       "      <td>0.110968</td>\n",
       "      <td>-0.973811</td>\n",
       "    </tr>\n",
       "    <tr>\n",
       "      <th>TMEM255B</th>\n",
       "      <td>-0.000006</td>\n",
       "      <td>-0.233764</td>\n",
       "      <td>0.004618</td>\n",
       "    </tr>\n",
       "    <tr>\n",
       "      <th>TNS2</th>\n",
       "      <td>-0.877984</td>\n",
       "      <td>0.269369</td>\n",
       "      <td>-0.854091</td>\n",
       "    </tr>\n",
       "    <tr>\n",
       "      <th>VWF</th>\n",
       "      <td>1.590840</td>\n",
       "      <td>1.276929</td>\n",
       "      <td>1.332335</td>\n",
       "    </tr>\n",
       "    <tr>\n",
       "      <th>ZEB1</th>\n",
       "      <td>-0.854066</td>\n",
       "      <td>-0.760413</td>\n",
       "      <td>-1.024081</td>\n",
       "    </tr>\n",
       "  </tbody>\n",
       "</table>\n",
       "</div>"
      ],
      "text/plain": [
       "subtipo         ER      HER2      TNBC\n",
       "gen                                   \n",
       "ACVRL1   -1.198479 -1.067343  0.562379\n",
       "ADAMTS6  -0.794366 -0.605206 -0.170612\n",
       "ADGRF5   -0.534990  0.469180  0.901561\n",
       "APOLD1   -1.021380  2.056319 -0.612180\n",
       "AQP1     -0.359178  0.231972  0.308994\n",
       "CASKIN2  -1.229808 -0.991127 -0.808351\n",
       "CD34     -0.345562  0.450912 -0.138453\n",
       "CD93      2.048866  0.637169  0.071395\n",
       "CDH5      0.282150  0.008313  0.343622\n",
       "CYYR1    -1.045916  0.331140 -0.132603\n",
       "ECE1     -0.821807 -0.673366  1.020160\n",
       "ECSCR     3.097966  0.252124  1.407551\n",
       "EGFL7    -0.796311  1.279362  0.101213\n",
       "ELK3     -0.276475 -0.276475 -0.276475\n",
       "EMCN      0.461201  1.679070  1.731795\n",
       "ENG       0.442412  0.579491 -0.031017\n",
       "ENTPD1   -0.077337 -0.960455 -1.012956\n",
       "ESAM     -0.128479  0.271155  0.301442\n",
       "FAM167B  -0.495045 -1.288563  1.381477\n",
       "FLT1     -0.634861  1.741825  1.354720\n",
       "GIMAP6    0.219374  0.878140 -1.245396\n",
       "GNG11    -0.514513  0.356857 -0.586846\n",
       "HECW2    -1.185655 -0.071321  1.782823\n",
       "HSPA12B  -1.341514 -1.351525  0.980645\n",
       "HYAL2    -0.046382  0.010265 -0.541114\n",
       "ITGA5     0.602162  0.971971 -0.004896\n",
       "LMO2     -0.654810  0.162787 -1.007845\n",
       "MMRN2    -0.581768  0.811889  0.658229\n",
       "NRP1     -0.693826  0.301583 -1.212192\n",
       "NUAK1    -1.092823 -0.444602 -0.503031\n",
       "PCAT19    0.631742  2.898300  1.899073\n",
       "PCDH17   -0.371047 -0.899263  1.922455\n",
       "PECAM1    1.413918  0.941534  0.163131\n",
       "PHACTR2  -0.999605 -0.873915 -0.837567\n",
       "PICALM   -1.108873  0.458059 -0.970081\n",
       "PLVAP    -0.005465  0.722862  3.177031\n",
       "PTPRB    -0.598848  0.793895  1.031260\n",
       "RAI14    -1.289502 -0.073456 -0.925196\n",
       "RASGRP3   0.034690 -0.665016 -1.144707\n",
       "S1PR1    -0.963485 -0.334654  0.611086\n",
       "SCARF1    0.682177 -0.971103 -0.543569\n",
       "SLC9A3R2 -1.220667 -0.229803  1.112002\n",
       "SPRY1    -0.858093  1.662454 -1.221686\n",
       "TCF4     -0.914140 -0.830357 -0.905573\n",
       "TIE1     -1.293134 -0.876662  2.104589\n",
       "TMEM204  -1.000065  0.110968 -0.973811\n",
       "TMEM255B -0.000006 -0.233764  0.004618\n",
       "TNS2     -0.877984  0.269369 -0.854091\n",
       "VWF       1.590840  1.276929  1.332335\n",
       "ZEB1     -0.854066 -0.760413 -1.024081"
      ]
     },
     "execution_count": 80,
     "metadata": {},
     "output_type": "execute_result"
    }
   ],
   "source": [
    "df_pivot"
   ]
  },
  {
   "cell_type": "code",
   "execution_count": 83,
   "id": "0c99323d-56a6-4ad5-870d-84e4f36a30af",
   "metadata": {},
   "outputs": [
    {
     "data": {
      "text/plain": [
       "<Figure size 800x1000 with 0 Axes>"
      ]
     },
     "metadata": {},
     "output_type": "display_data"
    },
    {
     "data": {
      "image/png": "[encoded data removed]",
      "text/plain": [
       "<Figure size 800x1000 with 4 Axes>"
      ]
     },
     "metadata": {},
     "output_type": "display_data"
    }
   ],
   "source": [
    "# 2. Crear el heatmap\n",
    "plt.figure(figsize=(8, 10))  # ajusta el tamaño de la figura según necesites\n",
    "clustermap = sns.clustermap(\n",
    "    df_pivot,\n",
    "    method=\"average\",         # método de linkage (opcional)\n",
    "    metric=\"euclidean\",       # métrica de distancia (opcional)\n",
    "    cmap=\"coolwarm\",\n",
    "    center=0,\n",
    "    figsize=(8, 10)\n",
    ")\n",
    "# 3. Mostrar el gráfico\n",
    "plt.title(\"Heatmap Z-score de genes por subtipo tumoral\")\n",
    "plt.show()"
   ]
  },
  {
   "cell_type": "code",
   "execution_count": null,
   "id": "5a61efd8-82ed-4c4b-9948-8be4c76070f5",
   "metadata": {},
   "outputs": [],
   "source": []
  }
 ],
 "metadata": {
  "kernelspec": {
   "display_name": "pySCENIC singularity local",
   "language": "python",
   "name": "pyscenic-latest-image"
  },
  "language_info": {
   "codemirror_mode": {
    "name": "ipython",
    "version": 3
   },
   "file_extension": ".py",
   "mimetype": "text/x-python",
   "name": "python",
   "nbconvert_exporter": "python",
   "pygments_lexer": "ipython3",
   "version": "3.10.6"
  }
 },
 "nbformat": 4,
 "nbformat_minor": 5
}
