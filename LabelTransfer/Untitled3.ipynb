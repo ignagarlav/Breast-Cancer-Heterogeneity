{
 "cells": [
  {
   "cell_type": "code",
   "execution_count": null,
   "id": "de6d04a9-022b-4c3d-9094-d21c99a54e30",
   "metadata": {},
   "outputs": [],
   "source": [
    "adata = readRDS(\"/home/igarzonalva/Proyecto_SC_TNBC/GSE161529/LabelTransfer/adatas/Fibroblast/BREAST_fibro_tumour.rds\")"
   ]
  },
  {
   "cell_type": "code",
   "execution_count": null,
   "id": "e811bd47-2508-4a00-9372-a36b8da92eff",
   "metadata": {},
   "outputs": [],
   "source": []
  }
 ],
 "metadata": {
  "kernelspec": {
   "display_name": "R (ro1)",
   "language": "R",
   "name": "r01"
  },
  "language_info": {
   "name": ""
  }
 },
 "nbformat": 4,
 "nbformat_minor": 5
}
