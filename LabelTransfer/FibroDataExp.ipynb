{
 "cells": [
  {
   "cell_type": "code",
   "execution_count": 41,
   "id": "1aa315e4-0d87-49f4-ab60-911597a13b4e",
   "metadata": {},
   "outputs": [],
   "source": [
    "import scanpy as sc\n",
    "import numpy as np\n",
    "import os\n",
    "import anndata as ad"
   ]
  },
  {
   "cell_type": "code",
   "execution_count": 77,
   "id": "be30e2c3-5369-406b-9ab2-6a31372da2bf",
   "metadata": {},
   "outputs": [],
   "source": [
    "adata_orig = sc.read_h5ad(\"/home/igarzonalva/Proyecto_SC_TNBC/GSE161529/Integration/adata/adata_scanvi_predictions.h5ad\")"
   ]
  },
  {
   "cell_type": "code",
   "execution_count": 72,
   "id": "24b130f5-74c6-43a5-9941-9d950c9de5e3",
   "metadata": {},
   "outputs": [
    {
     "data": {
      "text/plain": [
       "Index(['ER', 'HER2', 'TNBC'], dtype='object')"
      ]
     },
     "execution_count": 72,
     "metadata": {},
     "output_type": "execute_result"
    }
   ],
   "source": [
    "adata.obs.subtype.cat.categories"
   ]
  },
  {
   "cell_type": "code",
   "execution_count": 79,
   "id": "f592ea82-90e7-41ad-b0ad-3b73975cb3b8",
   "metadata": {},
   "outputs": [
    {
     "name": "stdout",
     "output_type": "stream",
     "text": [
      "17876\n",
      "17876 17877\n",
      "Dimensions of count matrix: (18088, 17876)\n",
      "Dimensions of count matrix: (18088, 17877)\n",
      "6825\n",
      "6825 6825\n",
      "Dimensions of count matrix: (18088, 6825)\n",
      "Dimensions of count matrix: (18088, 6825)\n",
      "10958\n",
      "10958 10959\n",
      "Dimensions of count matrix: (18088, 10958)\n",
      "Dimensions of count matrix: (18088, 10959)\n"
     ]
    }
   ],
   "source": [
    "for tumor in [\"ER\", \"HER2\", \"TNBC\"]:\n",
    "\n",
    "    # Filter data for the current tumor type\n",
    "    adata_tumor = adata_orig[adata_orig.obs.subtype == tumor,:].copy()\n",
    "\n",
    "    ec_mask = adata_tumor.obs.GennAnno_ScAnvi.isin(['Epithelial', 'Cycling'])\n",
    "    t_mask = adata_tumor.obs.GennAnno_ScAnvi == 'T Cells'\n",
    "\n",
    "    epi_subset = adata_tumor[ec_mask].copy()\n",
    "    t_subset = adata_tumor[t_mask].copy()\n",
    "\n",
    "    \n",
    "    split_size = epi_subset.n_obs // 2\n",
    "    split_1 = epi_subset[:split_size].copy()\n",
    "    split_2 = epi_subset[split_size:].copy()\n",
    "\n",
    "    print(split_size)\n",
    "        \n",
    "    split_1_ref = ad.concat([split_1,t_subset])\n",
    "    split_2_ref = ad.concat([split_2, t_subset])\n",
    "    \n",
    "    print(len(split_1_ref.obs_names), len(split_2_ref.obs_names))\n",
    "        \n",
    "    \n",
    "\n",
    "    for i, adata in enumerate([split_1_ref, split_2_ref], start=1):\n",
    "    \n",
    "        metadata_file = os.path.join(\"dir\", f\"metadata_epi_infercnv_{tumor}_{i}.tsv\")\n",
    "        adata.obs.GennAnno_ScAnvi.to_csv(metadata_file, sep=\"\\t\", index=True, header=False)\n",
    "               \n",
    "    \n",
    "        counts_file = os.path.join(\"dir\",f\"cnt_mat_epi_cnv_{tumor}_{i}.tsv\")    \n",
    "        countmatrix = adata.layers[\"counts\"].todense().T\n",
    "        print(f\"Dimensions of count matrix: {countmatrix.shape}\")   \n",
    "\n",
    "         pd.DataFrame(countmatrix,\n",
    "                index=adata.var_names, \n",
    "                columns=adata.obs_names).to_csv(\n",
    "                    counts_file, \n",
    "                    sep=\"\\t\", \n",
    "                    header=True, \n",
    "                    index=True\n",
    "                    )\n",
    "        print(f\"Saved counts matrix to {counts_file}\")\n",
    "        "
   ]
  },
  {
   "cell_type": "code",
   "execution_count": null,
   "id": "ded1b248-f6b5-4869-b9de-d02f127855a5",
   "metadata": {},
   "outputs": [],
   "source": []
  }
 ],
 "metadata": {
  "kernelspec": {
   "display_name": "Python (pyscenic-git-env)",
   "language": "python",
   "name": "pyscenic-git-env"
  },
  "language_info": {
   "codemirror_mode": {
    "name": "ipython",
    "version": 3
   },
   "file_extension": ".py",
   "mimetype": "text/x-python",
   "name": "python",
   "nbconvert_exporter": "python",
   "pygments_lexer": "ipython3",
   "version": "3.10.16"
  }
 },
 "nbformat": 4,
 "nbformat_minor": 5
}
