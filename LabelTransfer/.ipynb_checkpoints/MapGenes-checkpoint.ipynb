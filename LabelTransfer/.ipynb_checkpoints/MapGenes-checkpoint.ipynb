{
 "cells": [
  {
   "cell_type": "code",
   "execution_count": 1,
   "id": "86a1551e-1f60-45c0-8a60-3207332ab665",
   "metadata": {},
   "outputs": [],
   "source": [
    "import scanpy as sc\n",
    "import pandas as pd"
   ]
  },
  {
   "cell_type": "code",
   "execution_count": 2,
   "id": "69b183e3-a122-40e0-8c72-ba1032b3367f",
   "metadata": {},
   "outputs": [],
   "source": [
    "orig_adata = sc.read_h5ad(\"/home/igarzonalva/Proyecto_SC_TNBC/GSE161529/LabelTransfer/adatas/MyeloidAdata.h5ad\")"
   ]
  },
  {
   "cell_type": "code",
   "execution_count": 3,
   "id": "b7e4d7c7-f5e1-467a-a7d1-d1eb759cfd21",
   "metadata": {},
   "outputs": [],
   "source": [
    "ensembl_version_dict = {'105': 'http://www.ensembl.org',\n",
    "\n",
    "                        '104': 'http://may2021.archive.ensembl.org/',\n",
    "\n",
    "                        '103': 'http://feb2021.archive.ensembl.org/',\n",
    "\n",
    "                        '102': 'http://nov2020.archive.ensembl.org/',\n",
    "\n",
    "                        '101': 'http://aug2020.archive.ensembl.org/',\n",
    "\n",
    "                        '100': 'http://apr2020.archive.ensembl.org/',\n",
    "\n",
    "                        '99': 'http://jan2020.archive.ensembl.org/',\n",
    "\n",
    "                        '98': 'http://sep2019.archive.ensembl.org/',\n",
    "\n",
    "                        '97': 'http://jul2019.archive.ensembl.org/',\n",
    "\n",
    "                        '96': 'http://apr2019.archive.ensembl.org/',\n",
    "\n",
    "                        '95': 'http://jan2019.archive.ensembl.org/',\n",
    "\n",
    "                        '94': 'http://oct2018.archive.ensembl.org/',\n",
    "\n",
    "                        '93': 'http://jul2018.archive.ensembl.org/',\n",
    "\n",
    "                        '92': 'http://apr2018.archive.ensembl.org/',\n",
    "\n",
    "                        '91': 'http://dec2017.archive.ensembl.org/',\n",
    "\n",
    "                        '90': 'http://aug2017.archive.ensembl.org/',\n",
    "\n",
    "                        '89': 'http://may2017.archive.ensembl.org/',\n",
    "\n",
    "                        '88': 'http://mar2017.archive.ensembl.org/',\n",
    "\n",
    "                        '87': 'http://dec2016.archive.ensembl.org/',\n",
    "\n",
    "                        '86': 'http://oct2016.archive.ensembl.org/',\n",
    "\n",
    "                        '80': 'http://may2015.archive.ensembl.org/',\n",
    "\n",
    "                        '77': 'http://oct2014.archive.ensembl.org/',\n",
    "\n",
    "                        '75': 'http://feb2014.archive.ensembl.org/',\n",
    "\n",
    "                        '54': 'http://may2009.archive.ensembl.org/'}\n",
    "\n"
   ]
  },
  {
   "cell_type": "code",
   "execution_count": 4,
   "id": "de9dff69-f7b2-452b-ba65-48e6f1910ee1",
   "metadata": {},
   "outputs": [],
   "source": [
    "import pybiomart as pbm"
   ]
  },
  {
   "cell_type": "code",
   "execution_count": 5,
   "id": "2d2a0454-db46-4d64-bd12-1702c2c13c04",
   "metadata": {},
   "outputs": [],
   "source": [
    "def test_ensembl_host(adata, host):\n",
    "\n",
    "    dataset = pbm.Dataset(name='hsapiens_gene_ensembl', host=host)\n",
    "    \n",
    "    qp = dataset.query(attributes=['ensembl_gene_id', 'external_gene_name'])\n",
    "    print(f'Nº of genes in db: {len(qp)}')\n",
    "    \n",
    "    df_var = pd.DataFrame(adata.var_names.values, columns=[\"Gene stable ID\"])\n",
    "    print(f'Nº of genes in dataset: {len(df_var)}')\n",
    "    \n",
    "    df_mapped = df_var.merge(qp, how=\"inner\", on=\"Gene stable ID\")\n",
    "    print(f'Nº of mapped genes to db: {len(df_mapped)}')\n",
    "    \n",
    "    df_valid = df_mapped[~df_mapped[\"Gene name\"].isna()]\n",
    "    ov = len(df_valid)\n",
    "    print(f'Nº of valid mapped genes to db: {ov}')\n",
    "    \n",
    "    return(ov)\n"
   ]
  },
  {
   "cell_type": "code",
   "execution_count": 6,
   "id": "5873f759-1666-4413-9c81-24d7b124570c",
   "metadata": {},
   "outputs": [
    {
     "name": "stdout",
     "output_type": "stream",
     "text": [
      "host: 105\n",
      "Nº of genes in db: 86402\n",
      "Nº of genes in dataset: 45453\n",
      "Nº of mapped genes to db: 44653\n",
      "Nº of valid mapped genes to db: 35967\n",
      "host: 104\n",
      "Nº of genes in db: 67128\n",
      "Nº of genes in dataset: 45453\n",
      "Nº of mapped genes to db: 45453\n",
      "Nº of valid mapped genes to db: 35225\n",
      "host: 103\n",
      "Nº of genes in db: 67130\n",
      "Nº of genes in dataset: 45453\n",
      "Nº of mapped genes to db: 45453\n",
      "Nº of valid mapped genes to db: 45453\n",
      "host: 102\n",
      "Nº of genes in db: 67139\n",
      "Nº of genes in dataset: 45453\n",
      "Nº of mapped genes to db: 45451\n",
      "Nº of valid mapped genes to db: 45451\n",
      "host: 101\n",
      "Nº of genes in db: 67130\n",
      "Nº of genes in dataset: 45453\n",
      "Nº of mapped genes to db: 45451\n",
      "Nº of valid mapped genes to db: 45451\n",
      "host: 100\n",
      "Nº of genes in db: 67149\n",
      "Nº of genes in dataset: 45453\n",
      "Nº of mapped genes to db: 45451\n",
      "Nº of valid mapped genes to db: 45451\n",
      "host: 99\n",
      "Nº of genes in db: 67140\n",
      "Nº of genes in dataset: 45453\n",
      "Nº of mapped genes to db: 45448\n",
      "Nº of valid mapped genes to db: 45448\n",
      "host: 98\n",
      "Nº of genes in db: 67087\n",
      "Nº of genes in dataset: 45453\n",
      "Nº of mapped genes to db: 45447\n",
      "Nº of valid mapped genes to db: 45447\n",
      "host: 97\n",
      "Host not reachable\n",
      "host: 96\n",
      "Host not reachable\n",
      "host: 95\n",
      "Host not reachable\n",
      "host: 94\n",
      "Host not reachable\n",
      "host: 93\n",
      "Host not reachable\n",
      "host: 92\n",
      "Host not reachable\n",
      "host: 91\n",
      "Host not reachable\n",
      "host: 90\n",
      "Host not reachable\n",
      "host: 89\n",
      "Host not reachable\n",
      "host: 88\n",
      "Host not reachable\n",
      "host: 87\n",
      "Host not reachable\n",
      "host: 86\n",
      "Host not reachable\n",
      "host: 80\n",
      "Nº of genes in db: 65774\n",
      "Nº of genes in dataset: 45453\n",
      "Host not reachable\n",
      "host: 77\n",
      "Nº of genes in db: 64769\n",
      "Nº of genes in dataset: 45453\n",
      "Host not reachable\n",
      "host: 75\n",
      "Host not reachable\n",
      "host: 54\n",
      "Host not reachable\n",
      "version: 103 has the largest overlap, use http://feb2021.archive.ensembl.org/ as biomart host\n"
     ]
    }
   ],
   "source": [
    "n_overlap = {}\n",
    "\n",
    "for version in ensembl_version_dict.keys():\n",
    "\n",
    "    print(f'host: {version}')\n",
    "\n",
    "    try:\n",
    "\n",
    "        n_overlap[version] =  test_ensembl_host(orig_adata, ensembl_version_dict[version])\n",
    "\n",
    "    except:\n",
    "\n",
    "        print('Host not reachable')\n",
    "\n",
    "v = sorted(n_overlap.items(), key=lambda item: item[1], reverse=True)[0][0]\n",
    "\n",
    "host_to_use = ensembl_version_dict[v]\n",
    "print(f\"version: {v} has the largest overlap, use {host_to_use} as biomart host\")\n",
    "\n"
   ]
  },
  {
   "cell_type": "code",
   "execution_count": 7,
   "id": "efae4401-e58e-493e-b248-5233bf967891",
   "metadata": {},
   "outputs": [],
   "source": [
    "def map_genes(adata, host):\n",
    "\n",
    "    dataset = pbm.Dataset(name='hsapiens_gene_ensembl', host=host)\n",
    "    \n",
    "    qp = dataset.query(attributes=['ensembl_gene_id', 'external_gene_name'])\n",
    "    print(f'Nº of genes in db: {len(qp)}')\n",
    "    \n",
    "    df_var = pd.DataFrame(adata.var_names.values, columns=[\"Gene stable ID\"])\n",
    "    print(f'Nº of genes in dataset: {len(df_var)}')\n",
    "    \n",
    "    df_mapped = df_var.merge(qp, how=\"inner\", on=\"Gene stable ID\")\n",
    "    print(f'Nº of mapped genes to db: {len(df_mapped)}')\n",
    "    \n",
    "    df_valid = df_mapped[~df_mapped[\"Gene name\"].isna()]\n",
    "\n",
    "    \n",
    "    gene_order = df_valid[\"Gene stable ID\"].tolist()\n",
    "\n",
    "    adata = adata[:, gene_order].copy() \n",
    "\n",
    "    adata.var_names = df_valid['Gene name'].values\n",
    "\n",
    "    return(adata)   \n",
    "    "
   ]
  },
  {
   "cell_type": "code",
   "execution_count": 8,
   "id": "80269325-f0ab-43dd-bba0-235bdc4130ac",
   "metadata": {},
   "outputs": [
    {
     "name": "stdout",
     "output_type": "stream",
     "text": [
      "Nº of genes in db: 67130\n",
      "Nº of genes in dataset: 45453\n",
      "Nº of mapped genes to db: 45453\n"
     ]
    }
   ],
   "source": [
    "mod_adata = map_genes(orig_adata, host_to_use)"
   ]
  },
  {
   "cell_type": "code",
   "execution_count": 9,
   "id": "82d7feea-d0c3-4307-b9e5-d2986c16f90e",
   "metadata": {},
   "outputs": [
    {
     "data": {
      "text/plain": [
       "Index(['TSPAN6', 'TNMD', 'DPM1', 'SCYL3', 'C1orf112', 'FGR', 'CFH', 'FUCA2',\n",
       "       'GCLC', 'NFYA',\n",
       "       ...\n",
       "       'AP002991.2', 'AL355338.1', 'AC005618.4', 'AC126768.3', 'C3orf36',\n",
       "       'C8orf44', 'C8orf44-SGK3', 'SNORA74C-2', 'XGY2', 'FLJ43315'],\n",
       "      dtype='object', length=45453)"
      ]
     },
     "execution_count": 9,
     "metadata": {},
     "output_type": "execute_result"
    }
   ],
   "source": [
    "mod_adata.var_names"
   ]
  },
  {
   "cell_type": "code",
   "execution_count": 10,
   "id": "6ce25929-848b-4d96-a7d7-02c18b92b253",
   "metadata": {},
   "outputs": [],
   "source": [
    "query_adata = sc.read_h5ad(\"/home/igarzonalva/Proyecto_SC_TNBC/GSE161529/Integration/adata/adata_scanvi_predictions.h5ad\")"
   ]
  },
  {
   "cell_type": "code",
   "execution_count": 11,
   "id": "2fedd428-1daf-490a-9efa-45d69e516d46",
   "metadata": {
    "scrolled": true
   },
   "outputs": [
    {
     "data": {
      "text/plain": [
       "17262"
      ]
     },
     "execution_count": 11,
     "metadata": {},
     "output_type": "execute_result"
    }
   ],
   "source": [
    "len(set(query_adata.var_names).intersection(set(mod_adata.var_names)))"
   ]
  },
  {
   "cell_type": "code",
   "execution_count": 12,
   "id": "23a3841d-05c9-4c3f-af0c-e9835924783c",
   "metadata": {},
   "outputs": [],
   "source": [
    "common_genes = [gene for gene in mod_adata.var_names if gene in query_adata.var_names]"
   ]
  },
  {
   "cell_type": "code",
   "execution_count": 13,
   "id": "ce3c0734-c628-42f4-9bad-b99d90ba6c77",
   "metadata": {
    "scrolled": true
   },
   "outputs": [
    {
     "name": "stderr",
     "output_type": "stream",
     "text": [
      "/home/igarzonalva/.conda/envs/scvi-env/lib/python3.12/site-packages/anndata/_core/anndata.py:1758: UserWarning: Variable names are not unique. To make them unique, call `.var_names_make_unique`.\n",
      "  utils.warn_names_duplicates(\"var\")\n"
     ]
    }
   ],
   "source": [
    "query_matched = query_adata[:,common_genes].copy()"
   ]
  },
  {
   "cell_type": "code",
   "execution_count": 15,
   "id": "17275192-fcb6-468d-83eb-e3ab51a3d59d",
   "metadata": {},
   "outputs": [
    {
     "data": {
      "text/plain": [
       "18088"
      ]
     },
     "execution_count": 15,
     "metadata": {},
     "output_type": "execute_result"
    }
   ],
   "source": [
    "len(query_adata.var_names)"
   ]
  },
  {
   "cell_type": "code",
   "execution_count": 16,
   "id": "9d4d4ac4-12e2-4282-aff5-c5279c258567",
   "metadata": {},
   "outputs": [
    {
     "data": {
      "text/plain": [
       "17269"
      ]
     },
     "execution_count": 16,
     "metadata": {},
     "output_type": "execute_result"
    }
   ],
   "source": [
    "len(query_matched.var_names)"
   ]
  },
  {
   "cell_type": "code",
   "execution_count": 21,
   "id": "93fc572b-c306-4203-a957-4f465d84d163",
   "metadata": {},
   "outputs": [
    {
     "data": {
      "text/plain": [
       "Index(['B cells', 'Cycling cells', 'Endothelial', 'Epithelial', 'Mast cells',\n",
       "       'Mesenchymal', 'Myeloid', 'Plasma cells', 'T cells'],\n",
       "      dtype='object')"
      ]
     },
     "execution_count": 21,
     "metadata": {},
     "output_type": "execute_result"
    }
   ],
   "source": [
    "query_matched.obs.GennAnno_ScAnvi.cat.categories"
   ]
  },
  {
   "cell_type": "code",
   "execution_count": 22,
   "id": "5c22ef59-9737-43ec-9d65-b2a05dc7c0be",
   "metadata": {},
   "outputs": [],
   "source": [
    "myeloid_query = query_matched[query_matched.obs.GennAnno_ScAnvi.isin(['Myeloid','Mast cells']),:]"
   ]
  },
  {
   "cell_type": "code",
   "execution_count": 23,
   "id": "3795b23a-45ed-45d5-a455-b09bda802532",
   "metadata": {},
   "outputs": [
    {
     "data": {
      "text/plain": [
       "View of AnnData object with n_obs × n_vars = 14380 × 17269\n",
       "    obs: 'sample', 'n_genes_by_counts', 'total_counts', 'pct_counts_in_top_50_genes', 'pct_counts_in_top_100_genes', 'pct_counts_in_top_200_genes', 'pct_counts_in_top_500_genes', 'total_counts_mt', 'pct_counts_mt', 'complexity', 'doublet_scores', 'predicted_doublets', 'n_genes', 'n_counts', 'celltypist_labels_Immune_All_High', 'celltypist_scores_Immune_All_High', 'celltypist_labels_Cells_Adult_Breast', 'celltypist_scores_Cells_Adult_Breast', 'batch', 'subtype', 'leiden', 'celltypist_labels_Immune_All_High_highconf', 'GenAnno', 'GenAnnoV1', 'GenAnnoV2', 'celltypist_mapped', 'GenAnnoHighConf', 'cell_type', 'predicted_labels', 'GennAnno_ScAnvi'\n",
       "    var: 'highly_variable', 'highly_variable_rank', 'means', 'variances', 'variances_norm', 'highly_variable_nbatches'\n",
       "    uns: 'GenAnnoHighConf_colors', 'GenAnnoV1_colors', 'GenAnnoV2_colors', 'GennAnno_ScAnvi_colors', 'celltypist_labels_Immune_All_High_highconf_colors', 'hvg', 'leiden', 'leiden_colors', 'log1p', 'neighbors', 'pca', 'predicted_labels_colors'\n",
       "    obsm: 'X_pca', 'X_pca_MDE', 'X_scANVI', 'X_scVI', 'X_scanvi_MDE', 'X_scvi_MDE'\n",
       "    varm: 'PCs'\n",
       "    layers: 'counts'\n",
       "    obsp: 'connectivities', 'distances'"
      ]
     },
     "execution_count": 23,
     "metadata": {},
     "output_type": "execute_result"
    }
   ],
   "source": [
    "myeloid_query"
   ]
  },
  {
   "cell_type": "code",
   "execution_count": null,
   "id": "b74a585c-de10-4b06-8d00-6e62da821ae5",
   "metadata": {},
   "outputs": [],
   "source": []
  }
 ],
 "metadata": {
  "kernelspec": {
   "display_name": "Python (scvi-env)",
   "language": "python",
   "name": "scvi-env"
  },
  "language_info": {
   "codemirror_mode": {
    "name": "ipython",
    "version": 3
   },
   "file_extension": ".py",
   "mimetype": "text/x-python",
   "name": "python",
   "nbconvert_exporter": "python",
   "pygments_lexer": "ipython3",
   "version": "3.12.8"
  }
 },
 "nbformat": 4,
 "nbformat_minor": 5
}
