{
 "cells": [
  {
   "cell_type": "code",
   "execution_count": 1,
   "id": "2ebdd8c5-8cfd-467b-9ffe-a0fc9ce9b679",
   "metadata": {},
   "outputs": [],
   "source": [
    "adata = readRDS(\"/home/igarzonalva/Proyecto_SC_TNBC/GSE161529/LabelTransfer/adatas/Fibroblast/BREAST_fibro_tumour.rds\")"
   ]
  },
  {
   "cell_type": "code",
   "execution_count": 4,
   "id": "d7cebc81-7dda-4129-b296-82141a90a2a8",
   "metadata": {},
   "outputs": [
    {
     "name": "stderr",
     "output_type": "stream",
     "text": [
      "Loading required package: SeuratObject\n",
      "\n",
      "Loading required package: sp\n",
      "\n",
      "‘SeuratObject’ was built under R 4.4.1 but the current version is\n",
      "4.4.2; it is recomended that you reinstall ‘SeuratObject’ as the ABI\n",
      "for R may have changed\n",
      "\n",
      "\n",
      "Attaching package: ‘SeuratObject’\n",
      "\n",
      "\n",
      "The following objects are masked from ‘package:base’:\n",
      "\n",
      "    %||%, intersect, t\n",
      "\n",
      "\n",
      "Loading required package: Seurat\n",
      "\n",
      "\n",
      "Attaching package: ‘Seurat’\n",
      "\n",
      "\n",
      "The following object is masked from ‘package:base’:\n",
      "\n",
      "    %||%\n",
      "\n",
      "\n"
     ]
    },
    {
     "data": {
      "text/plain": [
       "An object of class Seurat \n",
       "36085 features across 16704 samples within 2 assays \n",
       "Active assay: SCT (17101 features, 3000 variable features)\n",
       " 3 layers present: counts, data, scale.data\n",
       " 1 other assay present: RNA\n",
       " 4 dimensional reductions calculated: pca, umap, harmony, tsne"
      ]
     },
     "metadata": {},
     "output_type": "display_data"
    }
   ],
   "source": [
    "adata"
   ]
  },
  {
   "cell_type": "code",
   "execution_count": 5,
   "id": "dcb3f960-8fe4-4e5e-8932-91a87e13a215",
   "metadata": {},
   "outputs": [],
   "source": [
    "# Suppose your Seurat object is called 'my_seurat'\n",
    "metadata_df <- adata@meta.data\n",
    "\n",
    "# Export the metadata to a CSV (including row names)\n",
    "write.csv(metadata_df, file = \"/home/igarzonalva/Proyecto_SC_TNBC/GSE161529/LabelTransfer/adatas/Fibroblast/breasttumor_metadata.csv\", row.names = TRUE)\n"
   ]
  },
  {
   "cell_type": "code",
   "execution_count": 6,
   "id": "c6564553-8351-4489-b6d5-9b661b647f1c",
   "metadata": {},
   "outputs": [
    {
     "name": "stderr",
     "output_type": "stream",
     "text": [
      "Warning message:\n",
      "“\u001b[1m\u001b[22mThe `slot` argument of `GetAssayData()` is deprecated as of SeuratObject 5.0.0.\n",
      "\u001b[36mℹ\u001b[39m Please use the `layer` argument instead.”\n"
     ]
    }
   ],
   "source": [
    "counts <- GetAssayData(object = adata, assay = \"RNA\", slot = \"counts\")\n"
   ]
  },
  {
   "cell_type": "code",
   "execution_count": 7,
   "id": "190f30e4-d248-49df-ae94-88fa0db5485a",
   "metadata": {},
   "outputs": [],
   "source": [
    "library(Matrix)"
   ]
  },
  {
   "cell_type": "code",
   "execution_count": 9,
   "id": "81e68652-386e-46c7-a0d4-51c544b9144d",
   "metadata": {},
   "outputs": [
    {
     "data": {
      "text/html": [
       "'dgCMatrix'"
      ],
      "text/latex": [
       "'dgCMatrix'"
      ],
      "text/markdown": [
       "'dgCMatrix'"
      ],
      "text/plain": [
       "[1] \"dgCMatrix\"\n",
       "attr(,\"package\")\n",
       "[1] \"Matrix\""
      ]
     },
     "metadata": {},
     "output_type": "display_data"
    }
   ],
   "source": [
    "class(counts)"
   ]
  },
  {
   "cell_type": "code",
   "execution_count": 11,
   "id": "e36d37e0-9103-48f8-8abe-129c6147199e",
   "metadata": {},
   "outputs": [
    {
     "data": {
      "text/plain": [
       "NULL"
      ]
     },
     "metadata": {},
     "output_type": "display_data"
    }
   ],
   "source": [
    "writeMM(obj = counts, file = \"/home/igarzonalva/Proyecto_SC_TNBC/GSE161529/LabelTransfer/adatas/Fibroblast/breastumorcounts.mtx\")"
   ]
  },
  {
   "cell_type": "code",
   "execution_count": 5,
   "id": "912b0078-eddb-4a90-856e-5468f2d7f5fd",
   "metadata": {},
   "outputs": [],
   "source": [
    "write.table(\n",
    "  x = rownames(adata),\n",
    "  file = \"/home/igarzonalva/Proyecto_SC_TNBC/GSE161529/LabelTransfer/adatas/Fibroblast/breastumorgenes.tsv\",\n",
    "  quote = FALSE,\n",
    "  sep = \"\\t\",\n",
    "  col.names = FALSE,\n",
    "  row.names = FALSE\n",
    ")\n",
    "\n",
    "write.table(\n",
    "  x = colnames(adata),\n",
    "  file = \"/home/igarzonalva/Proyecto_SC_TNBC/GSE161529/LabelTransfer/adatas/Fibroblast/barcodes.tsv\",\n",
    "  quote = FALSE,\n",
    "  sep = \"\\t\",\n",
    "  col.names = FALSE,\n",
    "  row.names = FALSE\n",
    ")"
   ]
  },
  {
   "cell_type": "code",
   "execution_count": null,
   "id": "9d0c5607-0ce9-4ae2-b84b-40b555e6b791",
   "metadata": {},
   "outputs": [],
   "source": []
  }
 ],
 "metadata": {
  "kernelspec": {
   "display_name": "R (ro1)",
   "language": "R",
   "name": "r01"
  },
  "language_info": {
   "codemirror_mode": "r",
   "file_extension": ".r",
   "mimetype": "text/x-r-source",
   "name": "R",
   "pygments_lexer": "r",
   "version": "4.4.2"
  }
 },
 "nbformat": 4,
 "nbformat_minor": 5
}
