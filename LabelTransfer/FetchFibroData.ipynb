{
 "cells": [
  {
   "cell_type": "code",
   "execution_count": 1,
   "id": "2ebdd8c5-8cfd-467b-9ffe-a0fc9ce9b679",
   "metadata": {},
   "outputs": [],
   "source": [
    "adata = readRDS(\"/home/igarzonalva/Proyecto_SC_TNBC/GSE161529/LabelTransfer/adatas/Fibroblast/BREAST_fibro_tumour.rds\")"
   ]
  },
  {
   "cell_type": "code",
   "execution_count": 2,
   "id": "d7cebc81-7dda-4129-b296-82141a90a2a8",
   "metadata": {},
   "outputs": [
    {
     "name": "stderr",
     "output_type": "stream",
     "text": [
      "Loading required package: SeuratObject\n",
      "\n",
      "Loading required package: sp\n",
      "\n",
      "\n",
      "Attaching package: ‘SeuratObject’\n",
      "\n",
      "\n",
      "The following object is masked from ‘package:base’:\n",
      "\n",
      "    intersect\n",
      "\n",
      "\n",
      "Loading required package: Seurat\n",
      "\n"
     ]
    },
    {
     "data": {
      "text/plain": [
       "An object of class Seurat \n",
       "36085 features across 16704 samples within 2 assays \n",
       "Active assay: SCT (17101 features, 3000 variable features)\n",
       " 3 layers present: counts, data, scale.data\n",
       " 1 other assay present: RNA\n",
       " 4 dimensional reductions calculated: pca, umap, harmony, tsne"
      ]
     },
     "metadata": {},
     "output_type": "display_data"
    }
   ],
   "source": [
    "adata"
   ]
  },
  {
   "cell_type": "code",
   "execution_count": 8,
   "id": "f1088a2d-64ac-412d-a15f-c9f524a09bb7",
   "metadata": {},
   "outputs": [
    {
     "data": {
      "text/html": [
       "<style>\n",
       ".list-inline {list-style: none; margin:0; padding: 0}\n",
       ".list-inline>li {display: inline-block}\n",
       ".list-inline>li:not(:last-child)::after {content: \"\\00b7\"; padding: 0 .5ex}\n",
       "</style>\n",
       "<ol class=list-inline><li>'orig.ident'</li><li>'nCount_RNA'</li><li>'nFeature_RNA'</li><li>'TIG'</li><li>'batch'</li><li>'run'</li><li>'percent.mt'</li><li>'nCount_SCT'</li><li>'nFeature_SCT'</li><li>'seurat_clusters'</li><li>'cell.type'</li><li>'percent.krt'</li><li>'percent.MGP'</li><li>'SCT_snn_res.0.8'</li><li>'SCT_snn_res.0.1'</li><li>'SCT_snn_res.0.2'</li><li>'SCT_snn_res.0.3'</li><li>'SCT_snn_res.0.4'</li><li>'SCT_snn_res.0.5'</li><li>'SCT_snn_res.0.6'</li><li>'SCT_snn_res.0.7'</li><li>'SCT_snn_res.0.9'</li><li>'SCT_snn_res.1'</li><li>'meta2'</li><li>'phenotype_final'</li><li>'Sample'</li><li>'Meta_Cluster'</li><li>'sample'</li><li>'tissue'</li><li>'dataset'</li><li>'phenotype_BC'</li><li>'phenotype_pre'</li><li>'SCT_snn_res.1.1'</li><li>'SCT_snn_res.1.2'</li><li>'SCT_snn_res.1.3'</li><li>'SCT_snn_res.1.4'</li><li>'SCT_snn_res.1.5'</li><li>'SCT_snn_res.1.6'</li><li>'SCT_snn_res.1.7'</li><li>'SCT_snn_res.1.8'</li><li>'SCT_snn_res.1.9'</li><li>'SCT_snn_res.2'</li><li>'CAFtype'</li><li>'test'</li><li>'activation_state'</li></ol>\n"
      ],
      "text/latex": [
       "\\begin{enumerate*}\n",
       "\\item 'orig.ident'\n",
       "\\item 'nCount\\_RNA'\n",
       "\\item 'nFeature\\_RNA'\n",
       "\\item 'TIG'\n",
       "\\item 'batch'\n",
       "\\item 'run'\n",
       "\\item 'percent.mt'\n",
       "\\item 'nCount\\_SCT'\n",
       "\\item 'nFeature\\_SCT'\n",
       "\\item 'seurat\\_clusters'\n",
       "\\item 'cell.type'\n",
       "\\item 'percent.krt'\n",
       "\\item 'percent.MGP'\n",
       "\\item 'SCT\\_snn\\_res.0.8'\n",
       "\\item 'SCT\\_snn\\_res.0.1'\n",
       "\\item 'SCT\\_snn\\_res.0.2'\n",
       "\\item 'SCT\\_snn\\_res.0.3'\n",
       "\\item 'SCT\\_snn\\_res.0.4'\n",
       "\\item 'SCT\\_snn\\_res.0.5'\n",
       "\\item 'SCT\\_snn\\_res.0.6'\n",
       "\\item 'SCT\\_snn\\_res.0.7'\n",
       "\\item 'SCT\\_snn\\_res.0.9'\n",
       "\\item 'SCT\\_snn\\_res.1'\n",
       "\\item 'meta2'\n",
       "\\item 'phenotype\\_final'\n",
       "\\item 'Sample'\n",
       "\\item 'Meta\\_Cluster'\n",
       "\\item 'sample'\n",
       "\\item 'tissue'\n",
       "\\item 'dataset'\n",
       "\\item 'phenotype\\_BC'\n",
       "\\item 'phenotype\\_pre'\n",
       "\\item 'SCT\\_snn\\_res.1.1'\n",
       "\\item 'SCT\\_snn\\_res.1.2'\n",
       "\\item 'SCT\\_snn\\_res.1.3'\n",
       "\\item 'SCT\\_snn\\_res.1.4'\n",
       "\\item 'SCT\\_snn\\_res.1.5'\n",
       "\\item 'SCT\\_snn\\_res.1.6'\n",
       "\\item 'SCT\\_snn\\_res.1.7'\n",
       "\\item 'SCT\\_snn\\_res.1.8'\n",
       "\\item 'SCT\\_snn\\_res.1.9'\n",
       "\\item 'SCT\\_snn\\_res.2'\n",
       "\\item 'CAFtype'\n",
       "\\item 'test'\n",
       "\\item 'activation\\_state'\n",
       "\\end{enumerate*}\n"
      ],
      "text/markdown": [
       "1. 'orig.ident'\n",
       "2. 'nCount_RNA'\n",
       "3. 'nFeature_RNA'\n",
       "4. 'TIG'\n",
       "5. 'batch'\n",
       "6. 'run'\n",
       "7. 'percent.mt'\n",
       "8. 'nCount_SCT'\n",
       "9. 'nFeature_SCT'\n",
       "10. 'seurat_clusters'\n",
       "11. 'cell.type'\n",
       "12. 'percent.krt'\n",
       "13. 'percent.MGP'\n",
       "14. 'SCT_snn_res.0.8'\n",
       "15. 'SCT_snn_res.0.1'\n",
       "16. 'SCT_snn_res.0.2'\n",
       "17. 'SCT_snn_res.0.3'\n",
       "18. 'SCT_snn_res.0.4'\n",
       "19. 'SCT_snn_res.0.5'\n",
       "20. 'SCT_snn_res.0.6'\n",
       "21. 'SCT_snn_res.0.7'\n",
       "22. 'SCT_snn_res.0.9'\n",
       "23. 'SCT_snn_res.1'\n",
       "24. 'meta2'\n",
       "25. 'phenotype_final'\n",
       "26. 'Sample'\n",
       "27. 'Meta_Cluster'\n",
       "28. 'sample'\n",
       "29. 'tissue'\n",
       "30. 'dataset'\n",
       "31. 'phenotype_BC'\n",
       "32. 'phenotype_pre'\n",
       "33. 'SCT_snn_res.1.1'\n",
       "34. 'SCT_snn_res.1.2'\n",
       "35. 'SCT_snn_res.1.3'\n",
       "36. 'SCT_snn_res.1.4'\n",
       "37. 'SCT_snn_res.1.5'\n",
       "38. 'SCT_snn_res.1.6'\n",
       "39. 'SCT_snn_res.1.7'\n",
       "40. 'SCT_snn_res.1.8'\n",
       "41. 'SCT_snn_res.1.9'\n",
       "42. 'SCT_snn_res.2'\n",
       "43. 'CAFtype'\n",
       "44. 'test'\n",
       "45. 'activation_state'\n",
       "\n",
       "\n"
      ],
      "text/plain": [
       " [1] \"orig.ident\"       \"nCount_RNA\"       \"nFeature_RNA\"     \"TIG\"             \n",
       " [5] \"batch\"            \"run\"              \"percent.mt\"       \"nCount_SCT\"      \n",
       " [9] \"nFeature_SCT\"     \"seurat_clusters\"  \"cell.type\"        \"percent.krt\"     \n",
       "[13] \"percent.MGP\"      \"SCT_snn_res.0.8\"  \"SCT_snn_res.0.1\"  \"SCT_snn_res.0.2\" \n",
       "[17] \"SCT_snn_res.0.3\"  \"SCT_snn_res.0.4\"  \"SCT_snn_res.0.5\"  \"SCT_snn_res.0.6\" \n",
       "[21] \"SCT_snn_res.0.7\"  \"SCT_snn_res.0.9\"  \"SCT_snn_res.1\"    \"meta2\"           \n",
       "[25] \"phenotype_final\"  \"Sample\"           \"Meta_Cluster\"     \"sample\"          \n",
       "[29] \"tissue\"           \"dataset\"          \"phenotype_BC\"     \"phenotype_pre\"   \n",
       "[33] \"SCT_snn_res.1.1\"  \"SCT_snn_res.1.2\"  \"SCT_snn_res.1.3\"  \"SCT_snn_res.1.4\" \n",
       "[37] \"SCT_snn_res.1.5\"  \"SCT_snn_res.1.6\"  \"SCT_snn_res.1.7\"  \"SCT_snn_res.1.8\" \n",
       "[41] \"SCT_snn_res.1.9\"  \"SCT_snn_res.2\"    \"CAFtype\"          \"test\"            \n",
       "[45] \"activation_state\""
      ]
     },
     "metadata": {},
     "output_type": "display_data"
    }
   ],
   "source": [
    "names(adata@meta.data)"
   ]
  },
  {
   "cell_type": "code",
   "execution_count": 10,
   "id": "c2660fa1-2d7f-4334-934d-6c602777a52a",
   "metadata": {},
   "outputs": [],
   "source": [
    "CAF = FetchData(object = adata, vars = \"CAFtype\", layer = \"counts\")"
   ]
  },
  {
   "cell_type": "code",
   "execution_count": 12,
   "id": "2bcc8633-6b4e-48bb-aef2-0c4944241e27",
   "metadata": {},
   "outputs": [
    {
     "data": {
      "text/html": [
       "<style>\n",
       ".list-inline {list-style: none; margin:0; padding: 0}\n",
       ".list-inline>li {display: inline-block}\n",
       ".list-inline>li:not(:last-child)::after {content: \"\\00b7\"; padding: 0 .5ex}\n",
       "</style>\n",
       "<ol class=list-inline><li>16704</li><li>1</li></ol>\n"
      ],
      "text/latex": [
       "\\begin{enumerate*}\n",
       "\\item 16704\n",
       "\\item 1\n",
       "\\end{enumerate*}\n"
      ],
      "text/markdown": [
       "1. 16704\n",
       "2. 1\n",
       "\n",
       "\n"
      ],
      "text/plain": [
       "[1] 16704     1"
      ]
     },
     "metadata": {},
     "output_type": "display_data"
    }
   ],
   "source": [
    "dim(CAF)"
   ]
  },
  {
   "cell_type": "code",
   "execution_count": 15,
   "id": "dcb3f960-8fe4-4e5e-8932-91a87e13a215",
   "metadata": {},
   "outputs": [],
   "source": [
    "# Suppose your Seurat object is called 'my_seurat'\n",
    "metadata_df <- adata@meta.data\n",
    "\n",
    "# Export the metadata to a CSV (including row names)\n",
    "write.csv(CAF, file = \"/home/igarzonalva/Proyecto_SC_TNBC/GSE161529/LabelTransfer/adatas/Fibroblast/breasttumor_metadata.csv\", row.names = TRUE)\n"
   ]
  },
  {
   "cell_type": "code",
   "execution_count": 6,
   "id": "c6564553-8351-4489-b6d5-9b661b647f1c",
   "metadata": {},
   "outputs": [
    {
     "name": "stderr",
     "output_type": "stream",
     "text": [
      "Warning message:\n",
      "“\u001b[1m\u001b[22mThe `slot` argument of `GetAssayData()` is deprecated as of SeuratObject 5.0.0.\n",
      "\u001b[36mℹ\u001b[39m Please use the `layer` argument instead.”\n"
     ]
    }
   ],
   "source": [
    "counts <- GetAssayData(object = adata, assay = \"RNA\", layer = \"counts\")"
   ]
  },
  {
   "cell_type": "code",
   "execution_count": 7,
   "id": "190f30e4-d248-49df-ae94-88fa0db5485a",
   "metadata": {},
   "outputs": [],
   "source": [
    "library(Matrix)"
   ]
  },
  {
   "cell_type": "code",
   "execution_count": 9,
   "id": "81e68652-386e-46c7-a0d4-51c544b9144d",
   "metadata": {},
   "outputs": [
    {
     "data": {
      "text/html": [
       "'dgCMatrix'"
      ],
      "text/latex": [
       "'dgCMatrix'"
      ],
      "text/markdown": [
       "'dgCMatrix'"
      ],
      "text/plain": [
       "[1] \"dgCMatrix\"\n",
       "attr(,\"package\")\n",
       "[1] \"Matrix\""
      ]
     },
     "metadata": {},
     "output_type": "display_data"
    }
   ],
   "source": [
    "class(counts)"
   ]
  },
  {
   "cell_type": "code",
   "execution_count": 11,
   "id": "e36d37e0-9103-48f8-8abe-129c6147199e",
   "metadata": {},
   "outputs": [
    {
     "data": {
      "text/plain": [
       "NULL"
      ]
     },
     "metadata": {},
     "output_type": "display_data"
    }
   ],
   "source": [
    "writeMM(obj = counts, file = \"/home/igarzonalva/Proyecto_SC_TNBC/GSE161529/LabelTransfer/adatas/Fibroblast/breastumorcounts.mtx\")"
   ]
  },
  {
   "cell_type": "code",
   "execution_count": 17,
   "id": "3b218bcb-0fe0-4474-b2c4-4fed2a5dd914",
   "metadata": {},
   "outputs": [
    {
     "data": {
      "text/html": [
       "18984"
      ],
      "text/latex": [
       "18984"
      ],
      "text/markdown": [
       "18984"
      ],
      "text/plain": [
       "[1] 18984"
      ]
     },
     "metadata": {},
     "output_type": "display_data"
    }
   ],
   "source": [
    "length(rownames(adata@assays$RNA$counts))"
   ]
  },
  {
   "cell_type": "code",
   "execution_count": 21,
   "id": "f4478789-236f-4aad-9284-1cad71aae955",
   "metadata": {},
   "outputs": [
    {
     "data": {
      "text/html": [
       "<style>\n",
       ".list-inline {list-style: none; margin:0; padding: 0}\n",
       ".list-inline>li {display: inline-block}\n",
       ".list-inline>li:not(:last-child)::after {content: \"\\00b7\"; padding: 0 .5ex}\n",
       "</style>\n",
       "<ol class=list-inline><li>18984</li><li>16704</li></ol>\n"
      ],
      "text/latex": [
       "\\begin{enumerate*}\n",
       "\\item 18984\n",
       "\\item 16704\n",
       "\\end{enumerate*}\n"
      ],
      "text/markdown": [
       "1. 18984\n",
       "2. 16704\n",
       "\n",
       "\n"
      ],
      "text/plain": [
       "[1] 18984 16704"
      ]
     },
     "metadata": {},
     "output_type": "display_data"
    }
   ],
   "source": [
    "dim(adata@assays$RNA)"
   ]
  },
  {
   "cell_type": "code",
   "execution_count": 14,
   "id": "912b0078-eddb-4a90-856e-5468f2d7f5fd",
   "metadata": {},
   "outputs": [],
   "source": [
    "write.table(\n",
    "  x = rownames(adata@assays$RNA),\n",
    "  file = \"/home/igarzonalva/Proyecto_SC_TNBC/GSE161529/LabelTransfer/adatas/Fibroblast/breastumorgenes.tsv\",\n",
    "  quote = FALSE,\n",
    "  sep = \"\\t\",\n",
    "  col.names = FALSE,\n",
    "  row.names = FALSE\n",
    ")\n",
    "\n",
    "write.table(\n",
    "  x = colnames(adata@assays$RNA),\n",
    "  file = \"/home/igarzonalva/Proyecto_SC_TNBC/GSE161529/LabelTransfer/adatas/Fibroblast/breastumorbarcodes.tsv\",\n",
    "  quote = FALSE,\n",
    "  sep = \"\\t\",\n",
    "  col.names = FALSE,\n",
    "  row.names = FALSE\n",
    ")"
   ]
  },
  {
   "cell_type": "code",
   "execution_count": null,
   "id": "9d0c5607-0ce9-4ae2-b84b-40b555e6b791",
   "metadata": {},
   "outputs": [],
   "source": []
  }
 ],
 "metadata": {
  "kernelspec": {
   "display_name": "R",
   "language": "R",
   "name": "ir"
  },
  "language_info": {
   "codemirror_mode": "r",
   "file_extension": ".r",
   "mimetype": "text/x-r-source",
   "name": "R",
   "pygments_lexer": "r",
   "version": "4.4.0"
  }
 },
 "nbformat": 4,
 "nbformat_minor": 5
}
