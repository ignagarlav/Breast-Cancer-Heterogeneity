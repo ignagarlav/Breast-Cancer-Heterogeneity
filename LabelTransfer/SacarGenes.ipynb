{
 "cells": [
  {
   "cell_type": "code",
   "execution_count": null,
   "id": "379d45c6-8e93-4608-98b4-284eb47371f3",
   "metadata": {},
   "outputs": [],
   "source": [
    "filas = []\n",
    "\n",
    "for subtipo, lista_regulones in regulons.items():\n",
    "    for regulon in lista_regulones:\n",
    "        for gen, puntaje in regulon.gene2weight.items():\n",
    "            filas.append({\n",
    "                'subtipo': subtipo,\n",
    "                'regulon_name': regulon.name,\n",
    "                'gen': gen,\n",
    "                'puntaje': puntaje\n",
    "            })\n",
    "df_genes_regulones = pd.DataFrame(filas)"
   ]
  },
  {
   "cell_type": "code",
   "execution_count": null,
   "id": "bbc43d05-f756-4865-b0c3-2eef44447900",
   "metadata": {},
   "outputs": [],
   "source": [
    "genes_dir = os.path.join(SAVING_DIR, \"relevant_genes_dict.pkl\")\n",
    "\n",
    "with open('filename', 'rb') as f:\n",
    "    x = pickle.load(f)"
   ]
  }
 ],
 "metadata": {
  "kernelspec": {
   "display_name": "Python (scvi-env)",
   "language": "python",
   "name": "scvi-env"
  },
  "language_info": {
   "codemirror_mode": {
    "name": "ipython",
    "version": 3
   },
   "file_extension": ".py",
   "mimetype": "text/x-python",
   "name": "python",
   "nbconvert_exporter": "python",
   "pygments_lexer": "ipython3",
   "version": "3.12.8"
  }
 },
 "nbformat": 4,
 "nbformat_minor": 5
}
