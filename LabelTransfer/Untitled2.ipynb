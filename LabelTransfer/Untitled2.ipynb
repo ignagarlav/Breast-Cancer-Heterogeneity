{
 "cells": [
  {
   "cell_type": "code",
   "execution_count": 1,
   "id": "b8f79d4a-29f9-4cfb-9de9-98f5e6f28f13",
   "metadata": {},
   "outputs": [],
   "source": [
    "import scanpy as sc"
   ]
  },
  {
   "cell_type": "code",
   "execution_count": 15,
   "id": "40e330f0-5d47-4cc1-bb88-7b9e2695420e",
   "metadata": {},
   "outputs": [],
   "source": [
    "reference = sc.read_h5ad(\"/home/igarzonalva/Proyecto_SC_TNBC/GSE161529/LabelTransfer/adatas/MyeloidAdata_mapped.h5ad\")"
   ]
  },
  {
   "cell_type": "code",
   "execution_count": 16,
   "id": "f48a383b-353b-4e00-9dfb-0abac05a19cb",
   "metadata": {},
   "outputs": [
    {
     "data": {
      "text/plain": [
       "Index(['TSPAN6', 'DPM1', 'SCYL3', 'C1orf112', 'FGR', 'CFH', 'FUCA2', 'GCLC',\n",
       "       'NFYA', 'STPG1',\n",
       "       ...\n",
       "       'AC068282.1', 'AC092803.2', 'AL591845.1', 'AL161935.3', 'AL512625.3',\n",
       "       'AC239799.2', 'AC008403.3', 'AC061961.1', 'AL355338.1', 'C8orf44'],\n",
       "      dtype='object', length=17269)"
      ]
     },
     "execution_count": 16,
     "metadata": {},
     "output_type": "execute_result"
    }
   ],
   "source": [
    "reference.var_names"
   ]
  },
  {
   "cell_type": "code",
   "execution_count": 17,
   "id": "4acffe71-484e-4121-9b86-3ce2016c9bc8",
   "metadata": {},
   "outputs": [],
   "source": [
    "query  = sc.read_h5ad(\"/home/igarzonalva/Proyecto_SC_TNBC/GSE161529/LabelTransfer/adatas/ScanviPredictionsAdata_mapped_to_myeloid.h5ad\")"
   ]
  },
  {
   "cell_type": "code",
   "execution_count": 19,
   "id": "9c8ddc69-d110-4817-9ad2-2e5f9624b916",
   "metadata": {},
   "outputs": [
    {
     "data": {
      "text/plain": [
       "Index(['TSPAN6', 'DPM1', 'SCYL3', 'C1orf112', 'FGR', 'CFH', 'FUCA2', 'GCLC',\n",
       "       'NFYA', 'STPG1',\n",
       "       ...\n",
       "       'AC068282.1', 'AC092803.2', 'AL591845.1', 'AL161935.3', 'AL512625.3',\n",
       "       'AC239799.2', 'AC008403.3', 'AC061961.1', 'AL355338.1', 'C8orf44'],\n",
       "      dtype='object', length=17269)"
      ]
     },
     "execution_count": 19,
     "metadata": {},
     "output_type": "execute_result"
    }
   ],
   "source": [
    "query.var_names"
   ]
  },
  {
   "cell_type": "code",
   "execution_count": 20,
   "id": "8a64445a-9b21-4f4b-a59b-65a9c35e1f0d",
   "metadata": {},
   "outputs": [],
   "source": [
    "query = query[query.obs.GennAnno_ScAnvi.isin(['Myeloid','Mast cells']),:].copy()"
   ]
  },
  {
   "cell_type": "code",
   "execution_count": 21,
   "id": "0152c01c-cea6-475a-8961-4bae10b636d9",
   "metadata": {},
   "outputs": [],
   "source": [
    "sc.pp.highly_variable_genes(reference, flavor='seurat_v3', n_top_genes=3000)"
   ]
  },
  {
   "cell_type": "code",
   "execution_count": 22,
   "id": "8753a180-9a40-4c05-bf72-03b528ce776b",
   "metadata": {},
   "outputs": [],
   "source": [
    "query = query[:, reference.var['highly_variable']].copy()"
   ]
  },
  {
   "cell_type": "code",
   "execution_count": 24,
   "id": "8f730138-607d-401d-b370-0aeeed284406",
   "metadata": {},
   "outputs": [],
   "source": [
    "reference = reference[:,reference.var['highly_variable']].copy()"
   ]
  },
  {
   "cell_type": "code",
   "execution_count": null,
   "id": "38f7073a-a8e6-4c76-b6f3-de9806962ce9",
   "metadata": {},
   "outputs": [],
   "source": []
  }
 ],
 "metadata": {
  "kernelspec": {
   "display_name": "Python (scvi-env)",
   "language": "python",
   "name": "scvi-env"
  },
  "language_info": {
   "codemirror_mode": {
    "name": "ipython",
    "version": 3
   },
   "file_extension": ".py",
   "mimetype": "text/x-python",
   "name": "python",
   "nbconvert_exporter": "python",
   "pygments_lexer": "ipython3",
   "version": "3.12.8"
  }
 },
 "nbformat": 4,
 "nbformat_minor": 5
}
